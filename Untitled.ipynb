{
 "cells": [
  {
   "cell_type": "markdown",
   "id": "0fd73d4f",
   "metadata": {},
   "source": [
    "# variable"
   ]
  },
  {
   "cell_type": "markdown",
   "id": "fe34fb5c",
   "metadata": {},
   "source": [
    "variab;e is the memory location wher we can store the values 2 ways to assign a variable\n",
    "1>single variable\n",
    "2>multiple variable"
   ]
  },
  {
   "cell_type": "code",
   "execution_count": 2,
   "id": "e20f9f67",
   "metadata": {},
   "outputs": [
    {
     "name": "stdout",
     "output_type": "stream",
     "text": [
      "hell word\n"
     ]
    }
   ],
   "source": [
    "print(\"hell word\") #The print() function prints the specified message to the screen, or other standard output device."
   ]
  },
  {
   "cell_type": "code",
   "execution_count": 3,
   "id": "095c20e9",
   "metadata": {},
   "outputs": [],
   "source": [
    "name='Madhu'  #String literals can be enclosed by either double or single quotes"
   ]
  },
  {
   "cell_type": "code",
   "execution_count": 4,
   "id": "e4fbb7d0",
   "metadata": {},
   "outputs": [
    {
     "name": "stdout",
     "output_type": "stream",
     "text": [
      "Madhu\n"
     ]
    }
   ],
   "source": [
    "print(name)"
   ]
  },
  {
   "cell_type": "code",
   "execution_count": 6,
   "id": "d3c7cb09",
   "metadata": {},
   "outputs": [
    {
     "data": {
      "text/plain": [
       "str"
      ]
     },
     "execution_count": 6,
     "metadata": {},
     "output_type": "execute_result"
    }
   ],
   "source": [
    "type(name)   #String literals can be enclosed by either double or single quotes"
   ]
  },
  {
   "cell_type": "markdown",
   "id": "575bbd0b",
   "metadata": {},
   "source": [
    "Strings and tuples are immutable(can not be changed the data), while lists, dictionaries, and sets are mutable."
   ]
  },
  {
   "cell_type": "code",
   "execution_count": 13,
   "id": "ae9c3cbf",
   "metadata": {},
   "outputs": [
    {
     "name": "stdout",
     "output_type": "stream",
     "text": [
      "Madhusudan D P\n"
     ]
    }
   ],
   "source": [
    "print(\"Madhu\"+\"sudan\"+' D' ' P')"
   ]
  },
  {
   "cell_type": "code",
   "execution_count": 14,
   "id": "86d56c9e",
   "metadata": {},
   "outputs": [],
   "source": [
    "#single variable\n",
    "age=27"
   ]
  },
  {
   "cell_type": "markdown",
   "id": "fd8f312a",
   "metadata": {},
   "source": [
    "Rules for Python variables:\n",
    "A variable name must start with a letter or the underscore character.\n",
    "A variable name cannot start with a number.\n",
    "A variable name can only contain alpha-numeric characters and underscores (A-z, 0-9, and _ )\n",
    "Variable names are case-sensitive (age, Age and AGE are three different variables)"
   ]
  },
  {
   "cell_type": "code",
   "execution_count": 20,
   "id": "5124510a",
   "metadata": {},
   "outputs": [],
   "source": [
    "#multiple variable\n",
    "a=b=c=10\n",
    "\n",
    "x,y,z=10,20,30\n",
    "\n",
    "q=r=d=\"madhu\""
   ]
  },
  {
   "cell_type": "code",
   "execution_count": 17,
   "id": "8cdcf20e",
   "metadata": {},
   "outputs": [
    {
     "data": {
      "text/plain": [
       "10"
      ]
     },
     "execution_count": 17,
     "metadata": {},
     "output_type": "execute_result"
    }
   ],
   "source": [
    "a"
   ]
  },
  {
   "cell_type": "code",
   "execution_count": 18,
   "id": "f248ea62",
   "metadata": {},
   "outputs": [
    {
     "data": {
      "text/plain": [
       "10"
      ]
     },
     "execution_count": 18,
     "metadata": {},
     "output_type": "execute_result"
    }
   ],
   "source": [
    "x"
   ]
  },
  {
   "cell_type": "code",
   "execution_count": 21,
   "id": "cab06624",
   "metadata": {},
   "outputs": [
    {
     "data": {
      "text/plain": [
       "'madhu'"
      ]
     },
     "execution_count": 21,
     "metadata": {},
     "output_type": "execute_result"
    }
   ],
   "source": [
    "r"
   ]
  },
  {
   "cell_type": "markdown",
   "id": "78aaefd3",
   "metadata": {},
   "source": [
    "python tokens\n",
    "\n",
    "Python breaks each logical line into a sequence of elementary lexical components known as tokens\n",
    "1>kewords\n",
    "2>identifiers\n",
    "3>literals\n",
    "4>operators"
   ]
  },
  {
   "cell_type": "markdown",
   "id": "b9b4f97a",
   "metadata": {},
   "source": [
    "1>kewords\n",
    "special reserved words that have specific meanings and purposes and can't be used for anything but those specific purposes.\n",
    "never used as variable\n",
    "some of keywords are\n",
    "Value Keywords: True, False, None.\n",
    "Operator Keywords: and, or, not, in, is.\n",
    "Control Flow Keywords: if, elif, else.\n",
    "Iteration Keywords: for, while, break, continue, else.\n",
    "Structure Keywords: def, class, with, as, pass, lambda.\n",
    "Returning Keywords: return, yield.\n",
    "Import Keywords: import, from, as."
   ]
  },
  {
   "cell_type": "markdown",
   "id": "0aeea04b",
   "metadata": {},
   "source": [
    "2>identifiers\n",
    "They are created to give a unique name to an entity to identify it during the execution of the program. For example: int money; double accountBalance; Here, money and accountBalance are identifiers"
   ]
  },
  {
   "cell_type": "markdown",
   "id": "4568b50d",
   "metadata": {},
   "source": [
    "3>literals\n",
    "Literals in Python is defined as the raw data assigned to variables or constants while programming. We mainly have five types of literals which includes \n",
    "string literals, \n",
    "numeric literals, \n",
    "boolean literals, \n",
    "literal collections and a \n",
    "special literal None"
   ]
  },
  {
   "cell_type": "code",
   "execution_count": 23,
   "id": "90ad37cd",
   "metadata": {},
   "outputs": [],
   "source": [
    "#string literal\n",
    "Name=\"madhusudan d p\""
   ]
  },
  {
   "cell_type": "code",
   "execution_count": 24,
   "id": "381daf31",
   "metadata": {},
   "outputs": [],
   "source": [
    "sigle='a'"
   ]
  },
  {
   "cell_type": "code",
   "execution_count": 25,
   "id": "c6f72220",
   "metadata": {},
   "outputs": [],
   "source": [
    "#long strings\n",
    "poem='''ಸುಜ್ಞಾನದ ದೀವಿಗೆಯು ಕಂಗೊಳಿಸುತ್ತಿರಲು, ಕೈ ಬೀಸಿತು ಬೆಳಕು ತನ್ನಯ ಹೊಸಲಿಗೆ ಬರಲು ಶಿರವ ತಗ್ಗಿಸಿ, ಕರವ ಜೋಡಿಸಿ - ಜ್ಞಾನವ ಅರಸಿ ಬಂದ ಯಾತ್ರಿಕರು ನಾವು! ನೂರಾರು ಕನಸ'''"
   ]
  },
  {
   "cell_type": "code",
   "execution_count": 26,
   "id": "d5a31913",
   "metadata": {},
   "outputs": [
    {
     "data": {
      "text/plain": [
       "'ಸುಜ್ಞಾನದ ದೀವಿಗೆಯು ಕಂಗೊಳಿಸುತ್ತಿರಲು, ಕೈ ಬೀಸಿತು ಬೆಳಕು ತನ್ನಯ ಹೊಸಲಿಗೆ ಬರಲು ಶಿರವ ತಗ್ಗಿಸಿ, ಕರವ ಜೋಡಿಸಿ - ಜ್ಞಾನವ ಅರಸಿ ಬಂದ ಯಾತ್ರಿಕರು ನಾವು! ನೂರಾರು ಕನಸ'"
      ]
     },
     "execution_count": 26,
     "metadata": {},
     "output_type": "execute_result"
    }
   ],
   "source": [
    "poem"
   ]
  },
  {
   "cell_type": "code",
   "execution_count": 27,
   "id": "0d165aef",
   "metadata": {},
   "outputs": [],
   "source": [
    "line='''Today is the anniversary of the publication of Robert Frost’s iconic poem “Stopping by Woods on a Snowy Evening,” a fact that spurred the Literary Hub office into a long conversation about their favorite poems\n",
    "NB that I limited myself to one poem per poet—which means that the impetus for this list actually gets bumped for the widely quoted (and misunderstood) “The Road Not Taken,” but so it goes. I also excluded book-length poems, because they’re really a different form.\n",
    "'''"
   ]
  },
  {
   "cell_type": "code",
   "execution_count": 28,
   "id": "b82c9be3",
   "metadata": {},
   "outputs": [
    {
     "data": {
      "text/plain": [
       "'Today is the anniversary of the publication of Robert Frost’s iconic poem “Stopping by Woods on a Snowy Evening,” a fact that spurred the Literary Hub office into a long conversation about their favorite poems\\nNB that I limited myself to one poem per poet—which means that the impetus for this list actually gets bumped for the widely quoted (and misunderstood) “The Road Not Taken,” but so it goes. I also excluded book-length poems, because they’re really a different form.\\n'"
      ]
     },
     "execution_count": 28,
     "metadata": {},
     "output_type": "execute_result"
    }
   ],
   "source": [
    "line"
   ]
  },
  {
   "cell_type": "markdown",
   "id": "d3bd702d",
   "metadata": {},
   "source": [
    "# Python Operators\n"
   ]
  },
  {
   "cell_type": "code",
   "execution_count": null,
   "id": "e82baf83",
   "metadata": {},
   "outputs": [],
   "source": [
    "#Operators are used to perform operations on variables and values.\n",
    "\n",
    "Arithmetic operators\n",
    "Assignment operators\n",
    "Comparison operators\n",
    "Logical operators\n",
    "Identity operators\n",
    "Membership operators\n",
    "Bitwise operators"
   ]
  },
  {
   "cell_type": "markdown",
   "id": "23d5ed93",
   "metadata": {},
   "source": [
    "Arithmetic operators\n",
    "Operator\t        Name\tExample\n",
    "+\tAddition\t    x + y\t\n",
    "-\tSubtraction   \tx - y\t\n",
    "*\tMultiplication\tx * y\t\n",
    "/\tDivision\t    x / y\t\n",
    "%\tModulus\t        x % y\t\n",
    "**\tExponentiation\tx ** y\t\n",
    "//\tFloor division\tx // y   its same like division  but its not have floating values     "
   ]
  },
  {
   "cell_type": "code",
   "execution_count": 33,
   "id": "22eca052",
   "metadata": {},
   "outputs": [
    {
     "data": {
      "text/plain": [
       "10.5"
      ]
     },
     "execution_count": 33,
     "metadata": {},
     "output_type": "execute_result"
    }
   ],
   "source": [
    "21/2"
   ]
  },
  {
   "cell_type": "markdown",
   "id": "04868be3",
   "metadata": {},
   "source": [
    "# Assignment operators"
   ]
  },
  {
   "cell_type": "markdown",
   "id": "0e19f336",
   "metadata": {},
   "source": [
    "Operator\tExample\t     Same As\t\n",
    "=\t        x = 5\t     x = 5\t\n",
    "+=\t        x += 3\t     x = x + 3\t\n",
    "-=\t        x -= 3\t     x = x - 3\t\n",
    "*=\t        x *= 3\t     x = x * 3\t\n",
    "/=\t        x /= 3\t     x = x / 3\t\n",
    "%=\t        x %= 3\t     x = x % 3\t\n",
    "//=\t        x //= 3\t     x = x // 3\t\n",
    "**=      \tx **= 3\t     x = x ** 3\t\n",
    "&=\t        x &= 3\t     x = x & 3\t\n",
    "|=\t        x |= 3\t     x = x | 3\t\n",
    "^=\t        x ^= 3\t     x = x ^ 3\t\n",
    ">>=\t        x >>= 3\t     x = x >> 3\t\n",
    "<<=\t        x <<= 3\t     x = x << 3\t\n"
   ]
  },
  {
   "cell_type": "code",
   "execution_count": 60,
   "id": "450a9a2d",
   "metadata": {},
   "outputs": [
    {
     "data": {
      "text/plain": [
       "0"
      ]
     },
     "execution_count": 60,
     "metadata": {},
     "output_type": "execute_result"
    }
   ],
   "source": [
    "x=5\n",
    "x+=3\n",
    "x-=2\n",
    "x*=2\n",
    "x/=3\n",
    "x%=3\n",
    "x//=1\n",
    "x**=100\n",
    "x=int(x)\n",
    "x &=3\n",
    "x|=3\n",
    "x\n",
    "x^=3\n",
    "x>>=3\n",
    "x\n",
    "x<<=3\n",
    "x"
   ]
  },
  {
   "cell_type": "markdown",
   "id": "baeac41b",
   "metadata": {},
   "source": [
    "# Comparison operators\n"
   ]
  },
  {
   "cell_type": "markdown",
   "id": "b9098f4f",
   "metadata": {},
   "source": [
    "Operator\t  Name\t                    Example\t\n",
    "==\t          Equal\t                    x == y\t\n",
    "!=\t          Not equal\t                x != y\t\n",
    ">\t          Greater than\t            x > y\t\n",
    "<\t          Less than\t                x < y\t\n",
    ">=\t          Greater than or equal to\tx >= y\t\n",
    "<=\t          Less than or equal to\t    x <= y"
   ]
  },
  {
   "cell_type": "code",
   "execution_count": 62,
   "id": "e46e0a07",
   "metadata": {},
   "outputs": [
    {
     "data": {
      "text/plain": [
       "True"
      ]
     },
     "execution_count": 62,
     "metadata": {},
     "output_type": "execute_result"
    }
   ],
   "source": [
    "x==x"
   ]
  },
  {
   "cell_type": "code",
   "execution_count": 65,
   "id": "32562261",
   "metadata": {},
   "outputs": [
    {
     "data": {
      "text/plain": [
       "True"
      ]
     },
     "execution_count": 65,
     "metadata": {},
     "output_type": "execute_result"
    }
   ],
   "source": [
    "5!=5\n"
   ]
  },
  {
   "cell_type": "code",
   "execution_count": 66,
   "id": "58c07a82",
   "metadata": {},
   "outputs": [
    {
     "data": {
      "text/plain": [
       "False"
      ]
     },
     "execution_count": 66,
     "metadata": {},
     "output_type": "execute_result"
    }
   ],
   "source": [
    "x>y"
   ]
  },
  {
   "cell_type": "code",
   "execution_count": 67,
   "id": "75c4b965",
   "metadata": {},
   "outputs": [
    {
     "data": {
      "text/plain": [
       "True"
      ]
     },
     "execution_count": 67,
     "metadata": {},
     "output_type": "execute_result"
    }
   ],
   "source": [
    "8>2"
   ]
  },
  {
   "cell_type": "code",
   "execution_count": 68,
   "id": "0336486d",
   "metadata": {},
   "outputs": [
    {
     "data": {
      "text/plain": [
       "True"
      ]
     },
     "execution_count": 68,
     "metadata": {},
     "output_type": "execute_result"
    }
   ],
   "source": [
    "123<856"
   ]
  },
  {
   "cell_type": "code",
   "execution_count": 69,
   "id": "d66e056c",
   "metadata": {},
   "outputs": [
    {
     "data": {
      "text/plain": [
       "True"
      ]
     },
     "execution_count": 69,
     "metadata": {},
     "output_type": "execute_result"
    }
   ],
   "source": [
    "x>=x\n"
   ]
  },
  {
   "cell_type": "code",
   "execution_count": 70,
   "id": "0e26da9d",
   "metadata": {},
   "outputs": [
    {
     "data": {
      "text/plain": [
       "0"
      ]
     },
     "execution_count": 70,
     "metadata": {},
     "output_type": "execute_result"
    }
   ],
   "source": [
    "2^2"
   ]
  },
  {
   "cell_type": "code",
   "execution_count": 71,
   "id": "e7acbe2f",
   "metadata": {},
   "outputs": [
    {
     "data": {
      "text/plain": [
       "3"
      ]
     },
     "execution_count": 71,
     "metadata": {},
     "output_type": "execute_result"
    }
   ],
   "source": [
    "1^2"
   ]
  },
  {
   "cell_type": "markdown",
   "id": "372c123a",
   "metadata": {},
   "source": [
    "# Python Logical Operators"
   ]
  },
  {
   "cell_type": "markdown",
   "id": "d2ff2456",
   "metadata": {},
   "source": [
    "Operator\tDescription\t\n",
    "and \t    Returns True if both statements are true\t                 x < 5 and  x < 10\t\n",
    "or\t        Returns True if one of the statements is true\t             x < 5 or x < 4\t\n",
    "not\t        Reverse the result, returns False if the result is true\t     not(x < 5 and x < 10)"
   ]
  },
  {
   "cell_type": "code",
   "execution_count": 88,
   "id": "81d1905a",
   "metadata": {},
   "outputs": [
    {
     "data": {
      "text/plain": [
       "True"
      ]
     },
     "execution_count": 88,
     "metadata": {},
     "output_type": "execute_result"
    }
   ],
   "source": [
    "x=10\n",
    "x>5 or x<10\n",
    "\n"
   ]
  },
  {
   "cell_type": "markdown",
   "id": "711fbcc6",
   "metadata": {},
   "source": [
    "# Python Bitwise Operators\n"
   ]
  },
  {
   "cell_type": "markdown",
   "id": "4b999da5",
   "metadata": {},
   "source": [
    "Operator\tName\t     Description\t                                     Example\t\n",
    "& \t        AND\t         Sets each bit to 1 if both bits are 1\t              x & y\t\n",
    "\n",
    "|\t        OR\t         Sets each bit to 1 if one of two bits is 1\t          x | y\t\n",
    "\n",
    "^\t        XOR\t         Sets each bit to 1 if only one of two bits is 1\t  x ^ y\t\n",
    "\n",
    "~\t        NOT\t         Inverts all the bits\t~x\t\n",
    "\n",
    "<<\t        Zero fill    Shift left by pushing zeros in from \n",
    "            left shift   the right and let the leftmost bits fall off\t       x << 2\n",
    "            \t\n",
    ">>\t      Signed right   Shift right by pushing copies of the leftmost bit in from the left, and let                shift       the rightmost bits fall off\t                          x >> 2\n",
    "          "
   ]
  },
  {
   "cell_type": "markdown",
   "id": "14ca4d28",
   "metadata": {},
   "source": [
    "0  & 0 -->0 \n",
    "0  & 1 -->0          and operator \n",
    "1  & 0 -->0\n",
    "1  & 1 -->1\n",
    "____________________\n",
    "0  | 0 -->0 \n",
    "0  | 1 -->1          OR  operator \n",
    "1  | 0 -->1\n",
    "1  | 1 -->1\n",
    "_____________________\n",
    "0  ^ 0 -->0 \n",
    "0  ^ 1 -->1          XOR  operator \n",
    "1  ^ 0 -->1\n",
    "1  ^ 1 -->0"
   ]
  },
  {
   "cell_type": "code",
   "execution_count": 100,
   "id": "0db53a5c",
   "metadata": {},
   "outputs": [
    {
     "data": {
      "text/plain": [
       "-4"
      ]
     },
     "execution_count": 100,
     "metadata": {},
     "output_type": "execute_result"
    }
   ],
   "source": [
    "~(2 ^ 1)\n"
   ]
  },
  {
   "cell_type": "code",
   "execution_count": 109,
   "id": "68b8d35d",
   "metadata": {},
   "outputs": [
    {
     "data": {
      "text/plain": [
       "0"
      ]
     },
     "execution_count": 109,
     "metadata": {},
     "output_type": "execute_result"
    }
   ],
   "source": [
    "3>>5\n"
   ]
  },
  {
   "cell_type": "code",
   "execution_count": 106,
   "id": "0e605410",
   "metadata": {},
   "outputs": [
    {
     "data": {
      "text/plain": [
       "86"
      ]
     },
     "execution_count": 106,
     "metadata": {},
     "output_type": "execute_result"
    }
   ],
   "source": [
    "88945>>10"
   ]
  },
  {
   "cell_type": "markdown",
   "id": "f7099a35",
   "metadata": {},
   "source": [
    "# Operator Precedence\n"
   ]
  },
  {
   "cell_type": "markdown",
   "id": "18c11a23",
   "metadata": {},
   "source": [
    "Operator precedence describes the order in which operations are performed."
   ]
  },
  {
   "cell_type": "markdown",
   "id": "90fe0910",
   "metadata": {},
   "source": [
    "The precedence order is described in the table below, starting with the highest precedence at the top:\n",
    "    \n",
    "Operator\t        Description\tTry it\n",
    "()\t                Parentheses\t\n",
    "**\t                Exponentiation\t\n",
    "+x  -x  ~x\t        Unary plus, unary minus, and bitwise NOT\t\n",
    "*  /  //  %\t        Multiplication, division, floor division, and modulus\t\n",
    "+  -\t            Addition and subtraction\t\n",
    "<<  >>\t            Bitwise left and right shifts\t\n",
    "&\t                Bitwise AND\t\n",
    "^\t                Bitwise XOR\t\n",
    "|\t                Bitwise OR\t\n",
    "==  !=  >  >=  <  \n",
    "<=  is  is not  in  Comparisons, identity, and membership operators\n",
    "not in \t            Comparisons, identity, and membership operators\t\n",
    "\n",
    "not\t               ogical NOT\t\n",
    "and\t                AND\t\n",
    "or\t                 OR\n",
    "    "
   ]
  },
  {
   "cell_type": "code",
   "execution_count": 110,
   "id": "b06fc0f0",
   "metadata": {},
   "outputs": [
    {
     "name": "stdout",
     "output_type": "stream",
     "text": [
      "5\n"
     ]
    }
   ],
   "source": [
    "print(5 + 4 - 7 + 3)\n",
    "#Addition + and subtraction - has the same precedence, \n",
    "#and therefor we evaluate the expression from left to right:"
   ]
  },
  {
   "cell_type": "code",
   "execution_count": 111,
   "id": "2b56b84b",
   "metadata": {},
   "outputs": [
    {
     "name": "stdout",
     "output_type": "stream",
     "text": [
      "115\n"
     ]
    }
   ],
   "source": [
    "print(100 + 5 * 3)"
   ]
  },
  {
   "cell_type": "markdown",
   "id": "7ce234d2",
   "metadata": {},
   "source": [
    "# Python Identity Operators\n",
    "\n",
    "Operator  \tDescription                                        \t    Example\tTry it\n",
    "\n",
    "is        \tReturns True if both variables are the same object\t     x is y\t\n",
    "\n",
    "is not     \tReturns True if both variables are not the same object\t  x is not y"
   ]
  },
  {
   "cell_type": "markdown",
   "id": "3274abcb",
   "metadata": {},
   "source": [
    "# DATA TYPES IN PYTHON"
   ]
  },
  {
   "cell_type": "markdown",
   "id": "f5dd8937",
   "metadata": {},
   "source": [
    "2 types\n",
    "\n",
    "1>immutable (data can not be change)-->1.stings , 2.numbers,   3.tuple\n",
    "\n",
    "2>mutable (data can be changed)------->1.list,    2.sets,      3.dictionaries"
   ]
  },
  {
   "cell_type": "code",
   "execution_count": 137,
   "id": "51598097",
   "metadata": {},
   "outputs": [
    {
     "data": {
      "text/plain": [
       "(10+20j)"
      ]
     },
     "execution_count": 137,
     "metadata": {},
     "output_type": "execute_result"
    }
   ],
   "source": [
    "#  numbers\n",
    "#  3 types --> int, float, complex \n",
    "num=123\n",
    "num1=-2315\n",
    "type(num)         # --->interger\n",
    "\n",
    "fnum=12.25\n",
    "type(fnum)        # ---->floats\n",
    "\n",
    "com=6j          #----> Complex numbers are the numbers that are expressed \n",
    "                 #  in the form of a+ib where, a,b are real numbers and 'i' is an imaginary \n",
    "                #     number called “iota”. The value of i = (√-1). For example 2+3i is a \n",
    "               #     complex number, where 2 is a real number (Re) and 3i is an imaginary number \n",
    "type(com)\n",
    "\n",
    "z=complex(x,y)   #-->(10+20j)\n",
    "\n",
    "z\n",
    "type(z)\n"
   ]
  },
  {
   "cell_type": "code",
   "execution_count": 127,
   "id": "b595cffb",
   "metadata": {},
   "outputs": [
    {
     "data": {
      "text/plain": [
       "int"
      ]
     },
     "execution_count": 127,
     "metadata": {},
     "output_type": "execute_result"
    }
   ],
   "source": [
    "num=123\n",
    "num1=-2315\n",
    "type(num1)"
   ]
  },
  {
   "cell_type": "markdown",
   "id": "22aecc49",
   "metadata": {},
   "source": [
    "# stings"
   ]
  },
  {
   "cell_type": "code",
   "execution_count": null,
   "id": "9e23a6a6",
   "metadata": {},
   "outputs": [],
   "source": [
    "--> String is a collection of alphabets, words or other characters.used to store the text files "
   ]
  },
  {
   "cell_type": "code",
   "execution_count": 144,
   "id": "631792d7",
   "metadata": {},
   "outputs": [],
   "source": [
    "str=\"abcdefghijklmnopqrstuvwxyz\""
   ]
  },
  {
   "cell_type": "code",
   "execution_count": 145,
   "id": "7655595e",
   "metadata": {},
   "outputs": [
    {
     "data": {
      "text/plain": [
       "26"
      ]
     },
     "execution_count": 145,
     "metadata": {},
     "output_type": "execute_result"
    }
   ],
   "source": [
    "len(str)"
   ]
  },
  {
   "cell_type": "code",
   "execution_count": 146,
   "id": "f6cd6f7f",
   "metadata": {},
   "outputs": [
    {
     "data": {
      "text/plain": [
       "'a'"
      ]
     },
     "execution_count": 146,
     "metadata": {},
     "output_type": "execute_result"
    }
   ],
   "source": [
    "str[0]"
   ]
  },
  {
   "cell_type": "code",
   "execution_count": 153,
   "id": "0172f6e3",
   "metadata": {},
   "outputs": [
    {
     "data": {
      "text/plain": [
       "'abcdefg'"
      ]
     },
     "execution_count": 153,
     "metadata": {},
     "output_type": "execute_result"
    }
   ],
   "source": [
    "str[0:7]"
   ]
  },
  {
   "cell_type": "code",
   "execution_count": 156,
   "id": "e11d287f",
   "metadata": {},
   "outputs": [
    {
     "data": {
      "text/plain": [
       "False"
      ]
     },
     "execution_count": 156,
     "metadata": {},
     "output_type": "execute_result"
    }
   ],
   "source": [
    "'B' in str"
   ]
  },
  {
   "cell_type": "code",
   "execution_count": 163,
   "id": "1e79de93",
   "metadata": {},
   "outputs": [
    {
     "data": {
      "text/plain": [
       "'acegikmoqsuwy'"
      ]
     },
     "execution_count": 163,
     "metadata": {},
     "output_type": "execute_result"
    }
   ],
   "source": [
    "str[0:25:2]"
   ]
  },
  {
   "cell_type": "code",
   "execution_count": 164,
   "id": "2c91ade7",
   "metadata": {},
   "outputs": [
    {
     "data": {
      "text/plain": [
       "'z'"
      ]
     },
     "execution_count": 164,
     "metadata": {},
     "output_type": "execute_result"
    }
   ],
   "source": [
    "str[25:]"
   ]
  },
  {
   "cell_type": "code",
   "execution_count": 192,
   "id": "879c2d04",
   "metadata": {},
   "outputs": [
    {
     "ename": "TypeError",
     "evalue": "'str' object cannot be interpreted as an integer",
     "output_type": "error",
     "traceback": [
      "\u001b[1;31m---------------------------------------------------------------------------\u001b[0m",
      "\u001b[1;31mTypeError\u001b[0m                                 Traceback (most recent call last)",
      "Input \u001b[1;32mIn [192]\u001b[0m, in \u001b[0;36m<cell line: 1>\u001b[1;34m()\u001b[0m\n\u001b[1;32m----> 1\u001b[0m \u001b[38;5;28;43mstr\u001b[39;49m\u001b[38;5;241;43m.\u001b[39;49m\u001b[43mreplace\u001b[49m\u001b[43m(\u001b[49m\u001b[38;5;124;43m'\u001b[39;49m\u001b[38;5;124;43mz\u001b[39;49m\u001b[38;5;124;43m'\u001b[39;49m\u001b[43m,\u001b[49m\u001b[38;5;124;43m'\u001b[39;49m\u001b[38;5;124;43mm\u001b[39;49m\u001b[38;5;124;43m'\u001b[39;49m\u001b[38;5;241;43m+\u001b[39;49m\u001b[43m \u001b[49m\u001b[38;5;124;43m'\u001b[39;49m\u001b[38;5;124;43ma\u001b[39;49m\u001b[38;5;124;43m'\u001b[39;49m\u001b[43m,\u001b[49m\u001b[38;5;124;43m'\u001b[39;49m\u001b[38;5;124;43mc\u001b[39;49m\u001b[38;5;124;43m'\u001b[39;49m\u001b[43m)\u001b[49m\n",
      "\u001b[1;31mTypeError\u001b[0m: 'str' object cannot be interpreted as an integer"
     ]
    }
   ],
   "source": [
    "str.replace('z','m' 'a','c')"
   ]
  },
  {
   "cell_type": "code",
   "execution_count": 166,
   "id": "d6bd3fc7",
   "metadata": {},
   "outputs": [
    {
     "data": {
      "text/plain": [
       "'abcdefghijklmnopqrstuvwxyz'"
      ]
     },
     "execution_count": 166,
     "metadata": {},
     "output_type": "execute_result"
    }
   ],
   "source": [
    "str"
   ]
  },
  {
   "cell_type": "code",
   "execution_count": 167,
   "id": "377e5ef2",
   "metadata": {},
   "outputs": [
    {
     "ename": "NameError",
     "evalue": "name 'count' is not defined",
     "output_type": "error",
     "traceback": [
      "\u001b[1;31m---------------------------------------------------------------------------\u001b[0m",
      "\u001b[1;31mNameError\u001b[0m                                 Traceback (most recent call last)",
      "Input \u001b[1;32mIn [167]\u001b[0m, in \u001b[0;36m<cell line: 1>\u001b[1;34m()\u001b[0m\n\u001b[1;32m----> 1\u001b[0m \u001b[43mcount\u001b[49m(a)\n",
      "\u001b[1;31mNameError\u001b[0m: name 'count' is not defined"
     ]
    }
   ],
   "source": []
  },
  {
   "cell_type": "code",
   "execution_count": 168,
   "id": "d9b10e62",
   "metadata": {},
   "outputs": [
    {
     "name": "stdout",
     "output_type": "stream",
     "text": [
      "Lorem ipsum dolor sit amet,\n",
      "consectetur adipiscing elit,\n",
      "sed do eiusmod tempor incididunt\n",
      "ut labore et dolore magna aliqua.\n"
     ]
    }
   ],
   "source": [
    "a = \"\"\"Lorem ipsum dolor sit amet,\n",
    "consectetur adipiscing elit,\n",
    "sed do eiusmod tempor incididunt\n",
    "ut labore et dolore magna aliqua.\"\"\"\n",
    "print(a)"
   ]
  },
  {
   "cell_type": "code",
   "execution_count": 172,
   "id": "ac3f7627",
   "metadata": {},
   "outputs": [],
   "source": [
    "z=\"hello ,word\""
   ]
  },
  {
   "cell_type": "code",
   "execution_count": 173,
   "id": "2c50f1c3",
   "metadata": {},
   "outputs": [
    {
     "data": {
      "text/plain": [
       "'e'"
      ]
     },
     "execution_count": 173,
     "metadata": {},
     "output_type": "execute_result"
    }
   ],
   "source": [
    "z[1]"
   ]
  },
  {
   "cell_type": "code",
   "execution_count": 179,
   "id": "c5fae576",
   "metadata": {},
   "outputs": [
    {
     "name": "stdout",
     "output_type": "stream",
     "text": [
      "hello ,word"
     ]
    }
   ],
   "source": [
    "for x in \"hello ,word\":\n",
    " print(x,end='')"
   ]
  },
  {
   "cell_type": "code",
   "execution_count": 180,
   "id": "0a8b611a",
   "metadata": {},
   "outputs": [
    {
     "data": {
      "text/plain": [
       "11"
      ]
     },
     "execution_count": 180,
     "metadata": {},
     "output_type": "execute_result"
    }
   ],
   "source": [
    "len(z)"
   ]
  },
  {
   "cell_type": "code",
   "execution_count": 186,
   "id": "411707b5",
   "metadata": {},
   "outputs": [
    {
     "name": "stdout",
     "output_type": "stream",
     "text": [
      "hello,word\n"
     ]
    },
    {
     "data": {
      "text/plain": [
       "10"
      ]
     },
     "execution_count": 186,
     "metadata": {},
     "output_type": "execute_result"
    }
   ],
   "source": [
    "def remove(z):\n",
    "    return z.replace(\" \", \"\")\n",
    "\n",
    "z=\"hello ,word\"\n",
    "print(remove(z))\n",
    "len(remove(z))\n",
    " \n",
    " "
   ]
  },
  {
   "cell_type": "code",
   "execution_count": 187,
   "id": "a623aa6e",
   "metadata": {},
   "outputs": [
    {
     "name": "stdout",
     "output_type": "stream",
     "text": [
      "hello ,word\n"
     ]
    }
   ],
   "source": [
    "print(z)"
   ]
  },
  {
   "cell_type": "code",
   "execution_count": 197,
   "id": "62ce632b",
   "metadata": {},
   "outputs": [
    {
     "name": "stdout",
     "output_type": "stream",
     "text": [
      "True\n"
     ]
    }
   ],
   "source": [
    "txt = \"The best things in life are free!\"\n",
    "print(\"free\" in txt)"
   ]
  },
  {
   "cell_type": "code",
   "execution_count": 198,
   "id": "4e5fd83d",
   "metadata": {},
   "outputs": [
    {
     "name": "stdout",
     "output_type": "stream",
     "text": [
      "Yes, 'free' is present.\n"
     ]
    }
   ],
   "source": [
    "txt = \"The best things in life are free!\"\n",
    "if \"free\" in txt:\n",
    "  print(\"Yes, 'free' is present.\")"
   ]
  },
  {
   "cell_type": "code",
   "execution_count": 199,
   "id": "eee41ea6",
   "metadata": {},
   "outputs": [
    {
     "name": "stdout",
     "output_type": "stream",
     "text": [
      "True\n"
     ]
    }
   ],
   "source": [
    "txt = \"The best things in life are free!\"\n",
    "print(\"expensive\" not in txt)"
   ]
  },
  {
   "cell_type": "code",
   "execution_count": 200,
   "id": "0819497f",
   "metadata": {},
   "outputs": [
    {
     "data": {
      "text/plain": [
       "'z'"
      ]
     },
     "execution_count": 200,
     "metadata": {},
     "output_type": "execute_result"
    }
   ],
   "source": [
    "str[-1]"
   ]
  },
  {
   "cell_type": "code",
   "execution_count": 201,
   "id": "5eca0b34",
   "metadata": {},
   "outputs": [
    {
     "data": {
      "text/plain": [
       "'b'"
      ]
     },
     "execution_count": 201,
     "metadata": {},
     "output_type": "execute_result"
    }
   ],
   "source": [
    "str[-25]"
   ]
  },
  {
   "cell_type": "code",
   "execution_count": 222,
   "id": "b8511ac7",
   "metadata": {},
   "outputs": [
    {
     "data": {
      "text/plain": [
       "'abcdefghijklmnopqrstuvwxyz'"
      ]
     },
     "execution_count": 222,
     "metadata": {},
     "output_type": "execute_result"
    }
   ],
   "source": [
    "str[0:26]"
   ]
  },
  {
   "cell_type": "code",
   "execution_count": 212,
   "id": "c78a5d93",
   "metadata": {},
   "outputs": [
    {
     "data": {
      "text/plain": [
       "'abcd'"
      ]
     },
     "execution_count": 212,
     "metadata": {},
     "output_type": "execute_result"
    }
   ],
   "source": [
    "str[0:4]"
   ]
  },
  {
   "cell_type": "code",
   "execution_count": 224,
   "id": "28ce9c56",
   "metadata": {},
   "outputs": [
    {
     "name": "stdout",
     "output_type": "stream",
     "text": [
      "ABCDEFGHIJKLMNOPQRSTUVWXYZ\n"
     ]
    }
   ],
   "source": [
    "print(str.upper())"
   ]
  },
  {
   "cell_type": "code",
   "execution_count": 225,
   "id": "c2f33ab5",
   "metadata": {},
   "outputs": [
    {
     "name": "stdout",
     "output_type": "stream",
     "text": [
      "abcdefghijklmnopqrstuvwxyz\n"
     ]
    }
   ],
   "source": [
    "print(str.lower())"
   ]
  },
  {
   "cell_type": "code",
   "execution_count": 226,
   "id": "4635f1b0",
   "metadata": {},
   "outputs": [
    {
     "name": "stdout",
     "output_type": "stream",
     "text": [
      "['abcdefghijklmnopqrstuvwxyz']\n"
     ]
    }
   ],
   "source": [
    "print(str.split(\",\"))"
   ]
  },
  {
   "cell_type": "code",
   "execution_count": 228,
   "id": "80adb51e",
   "metadata": {},
   "outputs": [
    {
     "name": "stdout",
     "output_type": "stream",
     "text": [
      "['hello', ',word']\n"
     ]
    }
   ],
   "source": [
    "print(z.split(\" \"))"
   ]
  },
  {
   "cell_type": "code",
   "execution_count": 229,
   "id": "86fe7fa3",
   "metadata": {},
   "outputs": [
    {
     "data": {
      "text/plain": [
       "'hello ,word'"
      ]
     },
     "execution_count": 229,
     "metadata": {},
     "output_type": "execute_result"
    }
   ],
   "source": [
    "z"
   ]
  },
  {
   "cell_type": "code",
   "execution_count": 230,
   "id": "ac2b0310",
   "metadata": {},
   "outputs": [],
   "source": [
    "a=\"my\"\n",
    "b=\"name\"\n",
    "c=\"is\"\n",
    "d=\"madhu\""
   ]
  },
  {
   "cell_type": "code",
   "execution_count": 239,
   "id": "25308168",
   "metadata": {},
   "outputs": [
    {
     "name": "stdout",
     "output_type": "stream",
     "text": [
      "MY NAME IS MADHU\n"
     ]
    }
   ],
   "source": [
    "z=a+' '+b+' '+c+' '+d\n",
    "print(z.upper())"
   ]
  },
  {
   "cell_type": "code",
   "execution_count": 242,
   "id": "0304f083",
   "metadata": {},
   "outputs": [],
   "source": [
    "age=27"
   ]
  },
  {
   "cell_type": "code",
   "execution_count": 260,
   "id": "c50a5752",
   "metadata": {},
   "outputs": [
    {
     "data": {
      "text/plain": [
       "'my name is madhu my age is 27'"
      ]
     },
     "execution_count": 260,
     "metadata": {},
     "output_type": "execute_result"
    }
   ],
   "source": [
    "boi=z+' my age is 27'\n",
    "boi"
   ]
  },
  {
   "cell_type": "code",
   "execution_count": 249,
   "id": "e7c35c27",
   "metadata": {},
   "outputs": [
    {
     "name": "stdout",
     "output_type": "stream",
     "text": [
      "My name is John, and I am 36\n"
     ]
    }
   ],
   "source": [
    "age = 36\n",
    "txt = \"My name is John, and I am {}\"\n",
    "print(txt.format(age))"
   ]
  },
  {
   "cell_type": "code",
   "execution_count": 257,
   "id": "dc3191aa",
   "metadata": {},
   "outputs": [
    {
     "name": "stdout",
     "output_type": "stream",
     "text": [
      "My name is John, I am \n"
     ]
    }
   ],
   "source": [
    "age = 36\n",
    "txt = \"My name is John, I am \" \n",
    "print(txt)"
   ]
  },
  {
   "cell_type": "code",
   "execution_count": 261,
   "id": "a3b20d21",
   "metadata": {},
   "outputs": [
    {
     "name": "stdout",
     "output_type": "stream",
     "text": [
      "I want 3 pieces of item 567 for 49.95 dollars.\n"
     ]
    }
   ],
   "source": [
    "quantity = 3\n",
    "itemno = 567\n",
    "price = 49.95\n",
    "myorder = \"I want {} pieces of item {} for {} dollars.\"\n",
    "print(myorder.format(quantity, itemno, price))"
   ]
  },
  {
   "cell_type": "code",
   "execution_count": 262,
   "id": "d0018ca3",
   "metadata": {},
   "outputs": [
    {
     "name": "stdout",
     "output_type": "stream",
     "text": [
      "I want to pay 49.95 dollars for 3 pieces of item 567.\n"
     ]
    }
   ],
   "source": [
    "quantity = 3\n",
    "itemno = 567\n",
    "price = 49.95\n",
    "myorder = \"I want to pay {2} dollars for {0} pieces of item {1}.\"\n",
    "print(myorder.format(quantity, itemno, price))"
   ]
  },
  {
   "cell_type": "code",
   "execution_count": 267,
   "id": "d82c7ca3",
   "metadata": {},
   "outputs": [
    {
     "data": {
      "text/plain": [
       "'We are the so-called \"Vikings\" from the north.'"
      ]
     },
     "execution_count": 267,
     "metadata": {},
     "output_type": "execute_result"
    }
   ],
   "source": [
    "txt = 'We are the so-called \"Vikings\" from the north.'\n",
    "txt"
   ]
  },
  {
   "cell_type": "code",
   "execution_count": 269,
   "id": "2941f924",
   "metadata": {},
   "outputs": [
    {
     "data": {
      "text/plain": [
       "'We are the so-called \"Vikings\" from the north.'"
      ]
     },
     "execution_count": 269,
     "metadata": {},
     "output_type": "execute_result"
    }
   ],
   "source": [
    "txt = \"We are the so-called \\\"Vikings\\\" from the north.\"\n",
    "txt"
   ]
  },
  {
   "cell_type": "code",
   "execution_count": 270,
   "id": "e245290a",
   "metadata": {},
   "outputs": [
    {
     "name": "stdout",
     "output_type": "stream",
     "text": [
      "Hello, and welcome to my world.\n"
     ]
    }
   ],
   "source": [
    "txt = \"hello, and welcome to my world.\"\n",
    "\n",
    "x = txt.capitalize()\n",
    "\n",
    "print (x)"
   ]
  },
  {
   "cell_type": "code",
   "execution_count": 271,
   "id": "3b0794bc",
   "metadata": {},
   "outputs": [
    {
     "name": "stdout",
     "output_type": "stream",
     "text": [
      "36 is my age.\n"
     ]
    }
   ],
   "source": [
    "txt = \"36 is my age.\"\n",
    "\n",
    "x = txt.capitalize()\n",
    "\n",
    "print (x)"
   ]
  },
  {
   "cell_type": "markdown",
   "id": "a431f466",
   "metadata": {},
   "source": [
    "# Python String Methods\n"
   ]
  },
  {
   "cell_type": "markdown",
   "id": "612b0bf9",
   "metadata": {},
   "source": [
    "Method\t                 Description\n",
    "\n",
    "capitalize()\t         Converts the first character to upper case\n",
    "\n",
    "casefold()\t             Converts string into lower case\n",
    "\n",
    "center()\t             Returns a centered string\n",
    "\n",
    "count()\t                 Returns the number of times a specified value occurs in a string\n",
    "\n",
    "encode()\t             Returns an encoded version of the string\n",
    "\n",
    "endswith()\t              Returns true if the string ends with the specified value\n",
    "\n",
    "expandtabs()\t         Sets the tab size of the string\n",
    "\n",
    "find()\t                 Searches the string for a specified value and returns the position of where \n",
    "it was found\n",
    "\n",
    "format()\t            Formats specified values in a string\n",
    "\n",
    "format_map()\t        Formats specified values in a string\n",
    "\n",
    "index()\t                Searches the string for a specified value and returns the position of where it was found\n",
    "\n",
    "isalnum()\t            Returns True if all characters in the string are alphanumeric\n",
    "\n",
    "isalpha()\t           Returns True if all characters in the string are in the alphabet\n",
    "\n",
    "isascii()\t           Returns True if all characters in the string are ascii characters\n",
    "\n",
    "isdecimal()        \tReturns True if all characters in the string are decimals\n",
    "\n",
    "isdigit()\t        Returns True if all characters in the string are digits\n",
    "\n",
    "isidentifier()   \tReturns True if the string is an identifier\n",
    "\n",
    "islower()\t        Returns True if all characters in the string are lower case\n",
    "\n",
    "isnumeric()\t       Returns True if all characters in the string are numeric\n",
    "\n",
    "isprintable()\tReturns True if all characters in the string are printable\n",
    "\n",
    "isspace()\tReturns True if all characters in the string are whitespaces\n",
    "\n",
    "istitle()\tReturns True if the string follows the rules of a title\n",
    "\n",
    "isupper()\tReturns True if all characters in the string are upper case\n",
    "\n",
    "join()\tConverts the elements of an iterable into a string\n",
    "\n",
    "ljust()\tReturns a left justified version of the string\n",
    "\n",
    "lower()\tConverts a string into lower case\n",
    "\n",
    "lstrip()\tReturns a left trim version of the string\n",
    "\n",
    "maketrans()\tReturns a translation table to be used in translations\n",
    "\n",
    "partition()\tReturns a tuple where the string is parted into three parts\n",
    "\n",
    "replace()\tReturns a string where a specified value is replaced with a specified value\n",
    "\n",
    "rfind()\tSearches the string for a specified value and returns the last position of where it was found\n",
    "\n",
    "rindex()\tSearches the string for a specified value and returns the last position of where it was \n",
    "found\n",
    "\n",
    "rjust()\tReturns a right justified version of the string\n",
    "\n",
    "rpartition()\tReturns a tuple where the string is parted into three parts\n",
    "\n",
    "rsplit()\tSplits the string at the specified separator, and returns a list\n",
    "\n",
    "rstrip()\tReturns a right trim version of the string\n",
    "\n",
    "split()\tSplits the string at the specified separator, and returns a list\n",
    "\n",
    "splitlines()\tSplits the string at line breaks and returns a list\n",
    "\n",
    "startswith()\tReturns true if the string starts with the specified value\n",
    "\n",
    "strip()\tReturns a trimmed version of the string\n",
    "\n",
    "swapcase()\tSwaps cases, lower case becomes upper case and vice versa\n",
    "\n",
    "title()\tConverts the first character of each word to upper case\n",
    "\n",
    "translate()\tReturns a translated string\n",
    "\n",
    "upper()\tConverts a string into upper case\n",
    "\n",
    "zfill()\tFills the string with a specified number of 0 values at the beginning\n"
   ]
  },
  {
   "cell_type": "code",
   "execution_count": 276,
   "id": "4e0c7105",
   "metadata": {},
   "outputs": [
    {
     "data": {
      "text/plain": [
       "2"
      ]
     },
     "execution_count": 276,
     "metadata": {},
     "output_type": "execute_result"
    }
   ],
   "source": [
    "z.count('a')"
   ]
  },
  {
   "cell_type": "code",
   "execution_count": 277,
   "id": "f8748b97",
   "metadata": {},
   "outputs": [
    {
     "data": {
      "text/plain": [
       "0"
      ]
     },
     "execution_count": 277,
     "metadata": {},
     "output_type": "execute_result"
    }
   ],
   "source": [
    "z.count('x')"
   ]
  },
  {
   "cell_type": "code",
   "execution_count": 282,
   "id": "6289222e",
   "metadata": {},
   "outputs": [
    {
     "name": "stdout",
     "output_type": "stream",
     "text": [
      "2\n"
     ]
    }
   ],
   "source": [
    " = \"I love apples, apple are my favorite fruit\"\n",
    "\n",
    "x = txt.count(\"apple\",5,20 )\n",
    "\n",
    "print(x)"
   ]
  },
  {
   "cell_type": "code",
   "execution_count": 281,
   "id": "faf67c54",
   "metadata": {},
   "outputs": [
    {
     "data": {
      "text/plain": [
       "'e apples, apple'"
      ]
     },
     "execution_count": 281,
     "metadata": {},
     "output_type": "execute_result"
    }
   ],
   "source": [
    "txt[5:20]"
   ]
  },
  {
   "cell_type": "code",
   "execution_count": 285,
   "id": "a7e3153e",
   "metadata": {},
   "outputs": [
    {
     "data": {
      "text/plain": [
       "4"
      ]
     },
     "execution_count": 285,
     "metadata": {},
     "output_type": "execute_result"
    }
   ],
   "source": [
    "txt.count('a')"
   ]
  },
  {
   "cell_type": "code",
   "execution_count": 286,
   "id": "da86323d",
   "metadata": {},
   "outputs": [
    {
     "data": {
      "text/plain": [
       "'I Love Apples, Apple Are My Favorite Fruit'"
      ]
     },
     "execution_count": 286,
     "metadata": {},
     "output_type": "execute_result"
    }
   ],
   "source": [
    "txt.title()"
   ]
  },
  {
   "cell_type": "markdown",
   "id": "a002c057",
   "metadata": {},
   "source": [
    "# Tuple(   ) \n",
    "Tuples are used to store multiple items in a single variable.\n",
    "\n",
    "Tuple is one of 4 built-in data types in Python used to store collections of data, the other 3 are List, Set, and Dictionary, all with different qualities and usage.\n",
    "\n",
    "A tuple is a collection which is ordered and unchangeable.\n",
    "\n",
    "Tuples are written with round brackets."
   ]
  },
  {
   "cell_type": "code",
   "execution_count": 287,
   "id": "af1ecc12",
   "metadata": {},
   "outputs": [
    {
     "name": "stdout",
     "output_type": "stream",
     "text": [
      "('apple', 'banana', 'cherry')\n"
     ]
    }
   ],
   "source": [
    "thistuple = (\"apple\", \"banana\", \"cherry\")\n",
    "print(thistuple)"
   ]
  },
  {
   "cell_type": "code",
   "execution_count": 288,
   "id": "7b0cae89",
   "metadata": {},
   "outputs": [
    {
     "data": {
      "text/plain": [
       "tuple"
      ]
     },
     "execution_count": 288,
     "metadata": {},
     "output_type": "execute_result"
    }
   ],
   "source": [
    "type(thistuple)"
   ]
  },
  {
   "cell_type": "code",
   "execution_count": 289,
   "id": "dbc07233",
   "metadata": {},
   "outputs": [],
   "source": [
    "weeks=(\"sunday\",\"monday\",\"tuesday\",\"Wednesday \",\"thursday\",\"friday\",\"Saturday \")"
   ]
  },
  {
   "cell_type": "code",
   "execution_count": 290,
   "id": "1514daac",
   "metadata": {},
   "outputs": [
    {
     "data": {
      "text/plain": [
       "('sunday',\n",
       " 'monday',\n",
       " 'tuesday',\n",
       " 'Wednesday ',\n",
       " 'thursday',\n",
       " 'friday',\n",
       " 'Saturday ')"
      ]
     },
     "execution_count": 290,
     "metadata": {},
     "output_type": "execute_result"
    }
   ],
   "source": [
    "weeks"
   ]
  },
  {
   "cell_type": "code",
   "execution_count": 291,
   "id": "0f4945a9",
   "metadata": {},
   "outputs": [
    {
     "data": {
      "text/plain": [
       "tuple"
      ]
     },
     "execution_count": 291,
     "metadata": {},
     "output_type": "execute_result"
    }
   ],
   "source": [
    "type(weeks)"
   ]
  },
  {
   "cell_type": "code",
   "execution_count": 292,
   "id": "04942698",
   "metadata": {},
   "outputs": [
    {
     "data": {
      "text/plain": [
       "'monday'"
      ]
     },
     "execution_count": 292,
     "metadata": {},
     "output_type": "execute_result"
    }
   ],
   "source": [
    "weeks[1]"
   ]
  },
  {
   "cell_type": "code",
   "execution_count": 293,
   "id": "77f87c5b",
   "metadata": {},
   "outputs": [
    {
     "data": {
      "text/plain": [
       "'friday'"
      ]
     },
     "execution_count": 293,
     "metadata": {},
     "output_type": "execute_result"
    }
   ],
   "source": [
    "weeks[5\n",
    "     ]"
   ]
  },
  {
   "cell_type": "code",
   "execution_count": 294,
   "id": "202ae458",
   "metadata": {},
   "outputs": [
    {
     "data": {
      "text/plain": [
       "'sunday'"
      ]
     },
     "execution_count": 294,
     "metadata": {},
     "output_type": "execute_result"
    }
   ],
   "source": [
    "weeks[0]"
   ]
  },
  {
   "cell_type": "markdown",
   "id": "04c4cd32",
   "metadata": {},
   "source": [
    "# Tuple Items\n",
    "Tuple items are ordered, unchangeable, and allow duplicate values.\n",
    "\n",
    "Tuple items are indexed, the first item has index [0], the second item has index [1] etc."
   ]
  },
  {
   "cell_type": "code",
   "execution_count": 295,
   "id": "b73cf1eb",
   "metadata": {},
   "outputs": [
    {
     "data": {
      "text/plain": [
       "7"
      ]
     },
     "execution_count": 295,
     "metadata": {},
     "output_type": "execute_result"
    }
   ],
   "source": [
    "len(weeks)"
   ]
  },
  {
   "cell_type": "markdown",
   "id": "0df8ebbe",
   "metadata": {},
   "source": [
    "# Create Tuple With One Item\n",
    "To create a tuple with only one item, you have to add a comma after the item, otherwise Python will not recognize it as a tuple."
   ]
  },
  {
   "cell_type": "code",
   "execution_count": 301,
   "id": "11c11691",
   "metadata": {},
   "outputs": [],
   "source": [
    "tuple1=(\"apple\",)"
   ]
  },
  {
   "cell_type": "code",
   "execution_count": 302,
   "id": "54b1e209",
   "metadata": {},
   "outputs": [
    {
     "data": {
      "text/plain": [
       "tuple"
      ]
     },
     "execution_count": 302,
     "metadata": {},
     "output_type": "execute_result"
    }
   ],
   "source": [
    "type(tuple1)  #--->so if ypu have one item the use cama"
   ]
  },
  {
   "cell_type": "code",
   "execution_count": 303,
   "id": "d9bcf4fa",
   "metadata": {},
   "outputs": [],
   "source": [
    "tuple1 = (\"abc\", 34, True, 40, \"male\")"
   ]
  },
  {
   "cell_type": "code",
   "execution_count": 304,
   "id": "99795cd9",
   "metadata": {},
   "outputs": [
    {
     "data": {
      "text/plain": [
       "tuple"
      ]
     },
     "execution_count": 304,
     "metadata": {},
     "output_type": "execute_result"
    }
   ],
   "source": [
    "type(tuple1)"
   ]
  },
  {
   "cell_type": "code",
   "execution_count": 306,
   "id": "defdef21",
   "metadata": {},
   "outputs": [
    {
     "data": {
      "text/plain": [
       "str"
      ]
     },
     "execution_count": 306,
     "metadata": {},
     "output_type": "execute_result"
    }
   ],
   "source": [
    "type(tuple1[0])"
   ]
  },
  {
   "cell_type": "code",
   "execution_count": 307,
   "id": "6b28e49b",
   "metadata": {},
   "outputs": [
    {
     "data": {
      "text/plain": [
       "bool"
      ]
     },
     "execution_count": 307,
     "metadata": {},
     "output_type": "execute_result"
    }
   ],
   "source": [
    "type(tuple1[2])"
   ]
  },
  {
   "cell_type": "code",
   "execution_count": 308,
   "id": "94e6f897",
   "metadata": {},
   "outputs": [
    {
     "name": "stdout",
     "output_type": "stream",
     "text": [
      "('apple', 'banana', 'cherry')\n"
     ]
    }
   ],
   "source": [
    "thistuple = tuple((\"apple\", \"banana\", \"cherry\")) # note the double round-brackets\n",
    "print(thistuple)"
   ]
  },
  {
   "cell_type": "code",
   "execution_count": 309,
   "id": "364dcac3",
   "metadata": {},
   "outputs": [
    {
     "data": {
      "text/plain": [
       "tuple"
      ]
     },
     "execution_count": 309,
     "metadata": {},
     "output_type": "execute_result"
    }
   ],
   "source": [
    "type(thistuple\n",
    "    )"
   ]
  },
  {
   "cell_type": "code",
   "execution_count": 318,
   "id": "fe4dbedd",
   "metadata": {},
   "outputs": [],
   "source": [
    "adb=tuple([12,3])"
   ]
  },
  {
   "cell_type": "code",
   "execution_count": 319,
   "id": "400cac56",
   "metadata": {},
   "outputs": [
    {
     "data": {
      "text/plain": [
       "tuple"
      ]
     },
     "execution_count": 319,
     "metadata": {},
     "output_type": "execute_result"
    }
   ],
   "source": [
    "type(adb)"
   ]
  },
  {
   "cell_type": "code",
   "execution_count": 320,
   "id": "9c1de1a4",
   "metadata": {},
   "outputs": [],
   "source": [
    "abc=[1,2,3]"
   ]
  },
  {
   "cell_type": "code",
   "execution_count": 321,
   "id": "54de676c",
   "metadata": {},
   "outputs": [
    {
     "data": {
      "text/plain": [
       "list"
      ]
     },
     "execution_count": 321,
     "metadata": {},
     "output_type": "execute_result"
    }
   ],
   "source": [
    "type(abc)"
   ]
  },
  {
   "cell_type": "code",
   "execution_count": 322,
   "id": "c53c585e",
   "metadata": {},
   "outputs": [
    {
     "name": "stdout",
     "output_type": "stream",
     "text": [
      "('apple', 'kiwi', 'cherry')\n"
     ]
    }
   ],
   "source": [
    "x = (\"apple\", \"banana\", \"cherry\")\n",
    "y = list(x)\n",
    "y[1] = \"kiwi\"              # changing the values in tuple using list\n",
    "x = tuple(y)\n",
    "\n",
    "print(x)"
   ]
  },
  {
   "cell_type": "markdown",
   "id": "4fc8d7db",
   "metadata": {},
   "source": [
    "# 3)list [    ]"
   ]
  },
  {
   "cell_type": "markdown",
   "id": "1d090891",
   "metadata": {},
   "source": [
    "Lists are used to store multiple items in a single variable.\n",
    "\n",
    "Lists are one of 4 built-in data types in Python used to store collections of data, the other 3 are Tuple, Set, and Dictionary, all with different qualities and usage.\n",
    "\n",
    "Lists are created using square brackets:"
   ]
  },
  {
   "cell_type": "code",
   "execution_count": 323,
   "id": "eb51a122",
   "metadata": {},
   "outputs": [
    {
     "name": "stdout",
     "output_type": "stream",
     "text": [
      "['apple', 'banana', 'cherry']\n"
     ]
    }
   ],
   "source": [
    "thislist = [\"apple\", \"banana\", \"cherry\"]\n",
    "print(thislist)"
   ]
  },
  {
   "cell_type": "code",
   "execution_count": 324,
   "id": "a1e78c2e",
   "metadata": {},
   "outputs": [
    {
     "data": {
      "text/plain": [
       "list"
      ]
     },
     "execution_count": 324,
     "metadata": {},
     "output_type": "execute_result"
    }
   ],
   "source": [
    "type(thislist)"
   ]
  },
  {
   "cell_type": "markdown",
   "id": "335de4ae",
   "metadata": {},
   "source": [
    "List Items\n",
    "List items are ordered, changeable, and allow duplicate values.\n",
    "\n",
    "List items are indexed, the first item has index [0], the second item has index [1] etc."
   ]
  },
  {
   "cell_type": "markdown",
   "id": "bfb86482",
   "metadata": {},
   "source": [
    "Ordered\n",
    "When we say that lists are ordered, it means that the items have a defined order, and that order will not change.\n",
    "\n",
    "If you add new items to a list, the new items will be placed at the end of the list."
   ]
  },
  {
   "cell_type": "code",
   "execution_count": 325,
   "id": "71eae2fa",
   "metadata": {},
   "outputs": [
    {
     "name": "stdout",
     "output_type": "stream",
     "text": [
      "3\n"
     ]
    }
   ],
   "source": [
    "thislist = [\"apple\", \"banana\", \"cherry\"]\n",
    "print(len(thislist))"
   ]
  },
  {
   "cell_type": "code",
   "execution_count": 326,
   "id": "3bf3d1c9",
   "metadata": {},
   "outputs": [],
   "source": [
    "list2 = [1, 5, 7, 9, 3]\n"
   ]
  },
  {
   "cell_type": "code",
   "execution_count": 327,
   "id": "2f48e2ed",
   "metadata": {},
   "outputs": [
    {
     "data": {
      "text/plain": [
       "5"
      ]
     },
     "execution_count": 327,
     "metadata": {},
     "output_type": "execute_result"
    }
   ],
   "source": [
    "len(list2)"
   ]
  },
  {
   "cell_type": "code",
   "execution_count": null,
   "id": "3d9f3fc0",
   "metadata": {},
   "outputs": [],
   "source": [
    "list1 = [\"abc\", 34, True, 40, \"male\"]"
   ]
  },
  {
   "cell_type": "markdown",
   "id": "109b0c1c",
   "metadata": {},
   "source": [
    "# The list() Constructor\n"
   ]
  },
  {
   "cell_type": "code",
   "execution_count": 328,
   "id": "7c9b80c4",
   "metadata": {},
   "outputs": [
    {
     "name": "stdout",
     "output_type": "stream",
     "text": [
      "['apple', 'banana', 'cherry']\n"
     ]
    }
   ],
   "source": [
    "thislist = list((\"apple\", \"banana\", \"cherry\")) # note the double round-brackets\n",
    "print(thislist)"
   ]
  },
  {
   "cell_type": "code",
   "execution_count": 329,
   "id": "5c0b0959",
   "metadata": {},
   "outputs": [
    {
     "data": {
      "text/plain": [
       "list"
      ]
     },
     "execution_count": 329,
     "metadata": {},
     "output_type": "execute_result"
    }
   ],
   "source": [
    "type(thislist)"
   ]
  },
  {
   "cell_type": "code",
   "execution_count": 330,
   "id": "11d54664",
   "metadata": {},
   "outputs": [
    {
     "name": "stdout",
     "output_type": "stream",
     "text": [
      "['cherry', 'orange', 'kiwi']\n"
     ]
    }
   ],
   "source": [
    "thislist = [\"apple\", \"banana\", \"cherry\", \"orange\", \"kiwi\", \"melon\", \"mango\"]\n",
    "print(thislist[2:5])  #The search will start at index 2 (included) and end at index 5 (not included)."
   ]
  },
  {
   "cell_type": "code",
   "execution_count": 331,
   "id": "948b8014",
   "metadata": {},
   "outputs": [
    {
     "name": "stdout",
     "output_type": "stream",
     "text": [
      "['apple', 'banana', 'cherry', 'orange']\n"
     ]
    }
   ],
   "source": [
    "thislist = [\"apple\", \"banana\", \"cherry\", \"orange\", \"kiwi\", \"melon\", \"mango\"]\n",
    "print(thislist[:4])"
   ]
  },
  {
   "cell_type": "code",
   "execution_count": 332,
   "id": "0e89a3a6",
   "metadata": {},
   "outputs": [
    {
     "name": "stdout",
     "output_type": "stream",
     "text": [
      "['orange', 'kiwi', 'melon']\n"
     ]
    }
   ],
   "source": [
    "thislist = [\"apple\", \"banana\", \"cherry\", \"orange\", \"kiwi\", \"melon\", \"mango\"]\n",
    "print(thislist[-4:-1])"
   ]
  },
  {
   "cell_type": "code",
   "execution_count": 333,
   "id": "e75efc8e",
   "metadata": {},
   "outputs": [
    {
     "name": "stdout",
     "output_type": "stream",
     "text": [
      "Yes, 'apple' is in the fruits list\n"
     ]
    }
   ],
   "source": [
    "thislist = [\"apple\", \"banana\", \"cherry\"]\n",
    "if \"apple\" in thislist:\n",
    "  print(\"Yes, 'apple' is in the fruits list\")"
   ]
  },
  {
   "cell_type": "code",
   "execution_count": 334,
   "id": "2b14efe9",
   "metadata": {},
   "outputs": [
    {
     "name": "stdout",
     "output_type": "stream",
     "text": [
      "['apple', 'blackcurrant', 'cherry']\n"
     ]
    }
   ],
   "source": [
    "thislist = [\"apple\", \"banana\", \"cherry\"]\n",
    "thislist[1] = \"blackcurrant\"\n",
    "print(thislist)"
   ]
  },
  {
   "cell_type": "code",
   "execution_count": 335,
   "id": "2e6866b0",
   "metadata": {},
   "outputs": [
    {
     "name": "stdout",
     "output_type": "stream",
     "text": [
      "['apple', 'blackcurrant', 'watermelon', 'orange', 'kiwi', 'mango']\n"
     ]
    }
   ],
   "source": [
    "thislist = [\"apple\", \"banana\", \"cherry\", \"orange\", \"kiwi\", \"mango\"]\n",
    "thislist[1:3] = [\"blackcurrant\", \"watermelon\"]\n",
    "print(thislist)"
   ]
  },
  {
   "cell_type": "code",
   "execution_count": 336,
   "id": "f34d1040",
   "metadata": {},
   "outputs": [
    {
     "name": "stdout",
     "output_type": "stream",
     "text": [
      "['apple', 'blackcurrant', 'watermelon', 'cherry', 'orange', 'kiwi', 'mango']\n"
     ]
    }
   ],
   "source": [
    "thislist = [\"apple\", \"banana\", \"cherry\", \"orange\", \"kiwi\", \"mango\"]\n",
    "thislist[1:2] = [\"blackcurrant\", \"watermelon\"]\n",
    "print(thislist)"
   ]
  },
  {
   "cell_type": "code",
   "execution_count": 337,
   "id": "d504ebb9",
   "metadata": {},
   "outputs": [
    {
     "name": "stdout",
     "output_type": "stream",
     "text": [
      "['apple', 'blackcurrant', 'watermelon', 'mango']\n"
     ]
    }
   ],
   "source": [
    "thislist = [\"apple\", \"banana\", \"cherry\", \"orange\", \"kiwi\", \"mango\"]\n",
    "thislist[1:5] = [\"blackcurrant\", \"watermelon\"]\n",
    "print(thislist)"
   ]
  },
  {
   "cell_type": "code",
   "execution_count": 338,
   "id": "aa3435b1",
   "metadata": {},
   "outputs": [
    {
     "name": "stdout",
     "output_type": "stream",
     "text": [
      "['apple', 'banana', 'watermelon', 'cherry']\n"
     ]
    }
   ],
   "source": [
    "thislist = [\"apple\", \"banana\", \"cherry\"]\n",
    "thislist.insert(2, \"watermelon\")\n",
    "print(thislist)"
   ]
  },
  {
   "cell_type": "markdown",
   "id": "e3ea619d",
   "metadata": {},
   "source": [
    "# Python List/Array Methods\n"
   ]
  },
  {
   "cell_type": "markdown",
   "id": "f05ac78e",
   "metadata": {},
   "source": [
    "append()\tAdds an element at the end of the list\n",
    "\n",
    "clear()     Removes all the elements from the list\n",
    "\n",
    "copy()\t    Returns a copy of the list\n",
    "\n",
    "count()\t    Returns the number of elements with the specified value\n",
    "\n",
    "extend()\tAdd the elements of a list (or any iterable), to the end of the current list\n",
    "\n",
    "index()\t    Returns the index of the first element with the specified value\n",
    "\n",
    "insert()\tAdds an element at the specified position\n",
    "\n",
    "pop()\t    Removes the element at the specified position\n",
    "\n",
    "remove()\tRemoves the first item with the specified value\n",
    "\n",
    "reverse()\tReverses the order of the list\n",
    "\n",
    "sort()\t    Sorts the list"
   ]
  },
  {
   "cell_type": "code",
   "execution_count": 341,
   "id": "daa125d6",
   "metadata": {},
   "outputs": [
    {
     "data": {
      "text/plain": [
       "['apple', 'banana', 'cherry', 'orange']"
      ]
     },
     "execution_count": 341,
     "metadata": {},
     "output_type": "execute_result"
    }
   ],
   "source": [
    "fruits = ['apple', 'banana', 'cherry']  #--->append\n",
    "fruits.append(\"orange\")\n",
    "fruits"
   ]
  },
  {
   "cell_type": "code",
   "execution_count": 343,
   "id": "9343711a",
   "metadata": {},
   "outputs": [
    {
     "data": {
      "text/plain": [
       "[]"
      ]
     },
     "execution_count": 343,
     "metadata": {},
     "output_type": "execute_result"
    }
   ],
   "source": [
    "#clear\n",
    "fruits.clear()\n",
    "fruits"
   ]
  },
  {
   "cell_type": "code",
   "execution_count": 355,
   "id": "0493906d",
   "metadata": {},
   "outputs": [],
   "source": [
    "#copy\n",
    "x=thislist.copy()"
   ]
  },
  {
   "cell_type": "code",
   "execution_count": 346,
   "id": "ed2c5f16",
   "metadata": {},
   "outputs": [
    {
     "data": {
      "text/plain": [
       "['apple', 'banana', 'cherry', ['Ford', 'BMW', 'Volvo']]"
      ]
     },
     "execution_count": 346,
     "metadata": {},
     "output_type": "execute_result"
    }
   ],
   "source": [
    "a = [\"apple\", \"banana\", \"cherry\"]\n",
    "b = [\"Ford\", \"BMW\", \"Volvo\"]\n",
    "a.append(b)\n",
    "a"
   ]
  },
  {
   "cell_type": "code",
   "execution_count": 347,
   "id": "5d96b511",
   "metadata": {},
   "outputs": [
    {
     "data": {
      "text/plain": [
       "['Ford', 'BMW', 'Volvo']"
      ]
     },
     "execution_count": 347,
     "metadata": {},
     "output_type": "execute_result"
    }
   ],
   "source": [
    "a[3]"
   ]
  },
  {
   "cell_type": "code",
   "execution_count": 353,
   "id": "a655a3f1",
   "metadata": {},
   "outputs": [
    {
     "data": {
      "text/plain": [
       "'Ford'"
      ]
     },
     "execution_count": 353,
     "metadata": {},
     "output_type": "execute_result"
    }
   ],
   "source": [
    "a[3][0]"
   ]
  },
  {
   "cell_type": "code",
   "execution_count": 354,
   "id": "aa855d66",
   "metadata": {},
   "outputs": [
    {
     "data": {
      "text/plain": [
       "'Volvo'"
      ]
     },
     "execution_count": 354,
     "metadata": {},
     "output_type": "execute_result"
    }
   ],
   "source": [
    "a[3][2]"
   ]
  },
  {
   "cell_type": "code",
   "execution_count": 356,
   "id": "b428b7f0",
   "metadata": {},
   "outputs": [
    {
     "data": {
      "text/plain": [
       "['apple', 'banana', 'watermelon', 'cherry']"
      ]
     },
     "execution_count": 356,
     "metadata": {},
     "output_type": "execute_result"
    }
   ],
   "source": [
    "x"
   ]
  },
  {
   "cell_type": "code",
   "execution_count": 357,
   "id": "8c9d3f39",
   "metadata": {},
   "outputs": [
    {
     "data": {
      "text/plain": [
       "1"
      ]
     },
     "execution_count": 357,
     "metadata": {},
     "output_type": "execute_result"
    }
   ],
   "source": [
    "#count()\t    Returns the number of elements with the specified value\n",
    "x.count(\"banana\")"
   ]
  },
  {
   "cell_type": "code",
   "execution_count": 358,
   "id": "bef3d19f",
   "metadata": {},
   "outputs": [
    {
     "data": {
      "text/plain": [
       "0"
      ]
     },
     "execution_count": 358,
     "metadata": {},
     "output_type": "execute_result"
    }
   ],
   "source": [
    "x.count(\"b\")"
   ]
  },
  {
   "cell_type": "code",
   "execution_count": 361,
   "id": "03c045b3",
   "metadata": {},
   "outputs": [],
   "source": [
    "#extend()\tAdd the elements of a list (or any iterable), to the end of the current list\n",
    "x.extend( 'Volvo')"
   ]
  },
  {
   "cell_type": "code",
   "execution_count": 379,
   "id": "863d00b1",
   "metadata": {},
   "outputs": [
    {
     "data": {
      "text/plain": [
       "['apple', 'banana', 'watermelon', 'cherry']"
      ]
     },
     "execution_count": 379,
     "metadata": {},
     "output_type": "execute_result"
    }
   ],
   "source": [
    "x"
   ]
  },
  {
   "cell_type": "code",
   "execution_count": 378,
   "id": "a4b8f487",
   "metadata": {},
   "outputs": [
    {
     "data": {
      "text/plain": [
       "'V'"
      ]
     },
     "execution_count": 378,
     "metadata": {},
     "output_type": "execute_result"
    }
   ],
   "source": [
    "x.pop()"
   ]
  },
  {
   "cell_type": "code",
   "execution_count": 368,
   "id": "f89e51fd",
   "metadata": {},
   "outputs": [
    {
     "data": {
      "text/plain": [
       "5"
      ]
     },
     "execution_count": 368,
     "metadata": {},
     "output_type": "execute_result"
    }
   ],
   "source": [
    "x.index('o')"
   ]
  },
  {
   "cell_type": "code",
   "execution_count": 381,
   "id": "b2600416",
   "metadata": {},
   "outputs": [],
   "source": [
    "#extend()\tAdd the elements of a list (or any iterable), to the end of the current list\n",
    "fruits = ['apple', 'banana', 'cherry']\n",
    "\n",
    "points = (1, 4, 5, 9)\n",
    "\n",
    "fruits.extend(points)"
   ]
  },
  {
   "cell_type": "code",
   "execution_count": 382,
   "id": "1fbeade3",
   "metadata": {},
   "outputs": [
    {
     "data": {
      "text/plain": [
       "['apple', 'banana', 'cherry', 1, 4, 5, 9]"
      ]
     },
     "execution_count": 382,
     "metadata": {},
     "output_type": "execute_result"
    }
   ],
   "source": [
    "fruits"
   ]
  },
  {
   "cell_type": "code",
   "execution_count": 384,
   "id": "3c761184",
   "metadata": {},
   "outputs": [
    {
     "data": {
      "text/plain": [
       "['apple', 'banana', 'cherry', 'watermelon']"
      ]
     },
     "execution_count": 384,
     "metadata": {},
     "output_type": "execute_result"
    }
   ],
   "source": [
    "x.sort()\n",
    "x"
   ]
  },
  {
   "cell_type": "markdown",
   "id": "809b4a51",
   "metadata": {},
   "source": [
    "# Dictionary\n",
    "Dictionaries are used to store data values in key:value pairs.\n",
    "\n",
    "A dictionary is a collection which is ordered*, changeable and do not allow duplicates."
   ]
  },
  {
   "cell_type": "code",
   "execution_count": 385,
   "id": "5e349f61",
   "metadata": {},
   "outputs": [],
   "source": [
    "thisdict = {\n",
    "  \"brand\": \"Ford\",\n",
    "  \"model\": \"Mustang\",\n",
    "  \"year\": 1964\n",
    "}"
   ]
  },
  {
   "cell_type": "code",
   "execution_count": 386,
   "id": "a37dc17a",
   "metadata": {},
   "outputs": [
    {
     "data": {
      "text/plain": [
       "{'brand': 'Ford', 'model': 'Mustang', 'year': 1964}"
      ]
     },
     "execution_count": 386,
     "metadata": {},
     "output_type": "execute_result"
    }
   ],
   "source": [
    "thisdict"
   ]
  },
  {
   "cell_type": "code",
   "execution_count": 387,
   "id": "a8db5734",
   "metadata": {},
   "outputs": [
    {
     "name": "stdout",
     "output_type": "stream",
     "text": [
      "{'brand': 'Ford', 'model': 'Mustang', 'year': 2020}\n"
     ]
    }
   ],
   "source": [
    "thisdict = {\n",
    "  \"brand\": \"Ford\",\n",
    "  \"model\": \"Mustang\",\n",
    "  \"year\": 1964,\n",
    "  \"year\": 2020              #Duplicate values will overwrite existing values:\n",
    "\n",
    "\n",
    "}\n",
    "print(thisdict)"
   ]
  },
  {
   "cell_type": "code",
   "execution_count": 388,
   "id": "92eff18f",
   "metadata": {},
   "outputs": [
    {
     "name": "stdout",
     "output_type": "stream",
     "text": [
      "3\n"
     ]
    }
   ],
   "source": [
    "print(len(thisdict))\n"
   ]
  },
  {
   "cell_type": "code",
   "execution_count": 389,
   "id": "538d5f24",
   "metadata": {},
   "outputs": [
    {
     "data": {
      "text/plain": [
       "dict"
      ]
     },
     "execution_count": 389,
     "metadata": {},
     "output_type": "execute_result"
    }
   ],
   "source": [
    "type(thisdict)"
   ]
  },
  {
   "cell_type": "code",
   "execution_count": 390,
   "id": "6225d239",
   "metadata": {},
   "outputs": [
    {
     "name": "stdout",
     "output_type": "stream",
     "text": [
      "{'name': 'John', 'age': 36, 'country': 'Norway'}\n"
     ]
    }
   ],
   "source": [
    "#The dict() Constructor\n",
    "\n",
    "thisdict = dict(name = \"John\", age = 36, country = \"Norway\")\n",
    "print(thisdict)"
   ]
  },
  {
   "cell_type": "code",
   "execution_count": 399,
   "id": "ca486d33",
   "metadata": {},
   "outputs": [],
   "source": [
    "x = thisdict.get(\"model\")\n",
    "xthisdict = {\n",
    "  \"brand\": \"Ford\",\n",
    "  \"model\": \"Mustang\",\n",
    "  \"year\": 1964\n",
    "}\n",
    "x = thisdict.get(\"model\")"
   ]
  },
  {
   "cell_type": "code",
   "execution_count": 400,
   "id": "b9d8cedf",
   "metadata": {},
   "outputs": [],
   "source": [
    "x"
   ]
  },
  {
   "cell_type": "code",
   "execution_count": 401,
   "id": "f156b797",
   "metadata": {},
   "outputs": [],
   "source": [
    "x = thisdict.keys()\n"
   ]
  },
  {
   "cell_type": "code",
   "execution_count": null,
   "id": "f6a20f42",
   "metadata": {},
   "outputs": [],
   "source": []
  },
  {
   "cell_type": "code",
   "execution_count": null,
   "id": "3cd2821a",
   "metadata": {},
   "outputs": [],
   "source": []
  },
  {
   "cell_type": "code",
   "execution_count": null,
   "id": "115bf384",
   "metadata": {},
   "outputs": [],
   "source": []
  },
  {
   "cell_type": "code",
   "execution_count": null,
   "id": "2334c3b2",
   "metadata": {},
   "outputs": [],
   "source": []
  },
  {
   "cell_type": "code",
   "execution_count": null,
   "id": "cfa0c168",
   "metadata": {},
   "outputs": [],
   "source": []
  },
  {
   "cell_type": "code",
   "execution_count": null,
   "id": "9b13413e",
   "metadata": {},
   "outputs": [],
   "source": []
  }
 ],
 "metadata": {
  "kernelspec": {
   "display_name": "Python 3 (ipykernel)",
   "language": "python",
   "name": "python3"
  },
  "language_info": {
   "codemirror_mode": {
    "name": "ipython",
    "version": 3
   },
   "file_extension": ".py",
   "mimetype": "text/x-python",
   "name": "python",
   "nbconvert_exporter": "python",
   "pygments_lexer": "ipython3",
   "version": "3.9.12"
  }
 },
 "nbformat": 4,
 "nbformat_minor": 5
}
