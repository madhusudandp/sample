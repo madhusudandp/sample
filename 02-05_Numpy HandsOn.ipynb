{
 "cells": [
  {
   "cell_type": "code",
   "execution_count": null,
   "id": "a3b72c22",
   "metadata": {},
   "outputs": [],
   "source": [
    "#Array is faster - It contains homogeneous(same) elements\n",
    "#li = [1,2,\"str\"]\n",
    "#arr = [1,2,3], [\"r\",\"a\",\"z\"]\n",
    "\n",
    "#memory allocation is contiguous"
   ]
  },
  {
   "cell_type": "code",
   "execution_count": null,
   "id": "6f74abda",
   "metadata": {},
   "outputs": [],
   "source": []
  },
  {
   "cell_type": "raw",
   "id": "b7f0f2ab",
   "metadata": {},
   "source": [
    "1. Create a numpy array with numpy.array module and with a data type integer and float"
   ]
  },
  {
   "cell_type": "code",
   "execution_count": 8,
   "id": "5ce43aa0",
   "metadata": {},
   "outputs": [
    {
     "data": {
      "text/plain": [
       "array([1, 2, 3, 4])"
      ]
     },
     "execution_count": 8,
     "metadata": {},
     "output_type": "execute_result"
    }
   ],
   "source": [
    "import numpy as np\n",
    "#np.array()\n",
    "\n",
    "arr1 = np.array([1,2,3,4])\n",
    "#print(arr1)\n",
    "arr1"
   ]
  },
  {
   "cell_type": "code",
   "execution_count": 2,
   "id": "4c934763",
   "metadata": {},
   "outputs": [
    {
     "data": {
      "text/plain": [
       "numpy.ndarray"
      ]
     },
     "execution_count": 2,
     "metadata": {},
     "output_type": "execute_result"
    }
   ],
   "source": [
    "type(arr1)"
   ]
  },
  {
   "cell_type": "code",
   "execution_count": 3,
   "id": "88f76860",
   "metadata": {},
   "outputs": [
    {
     "data": {
      "text/plain": [
       "list"
      ]
     },
     "execution_count": 3,
     "metadata": {},
     "output_type": "execute_result"
    }
   ],
   "source": [
    "li = [1,2,3]\n",
    "type(li)"
   ]
  },
  {
   "cell_type": "code",
   "execution_count": 9,
   "id": "d1cb094b",
   "metadata": {},
   "outputs": [
    {
     "data": {
      "text/plain": [
       "numpy.int32"
      ]
     },
     "execution_count": 9,
     "metadata": {},
     "output_type": "execute_result"
    }
   ],
   "source": [
    "type(arr1[0])"
   ]
  },
  {
   "cell_type": "code",
   "execution_count": 14,
   "id": "8d379303",
   "metadata": {},
   "outputs": [
    {
     "data": {
      "text/plain": [
       "array([1., 2., 3., 4.])"
      ]
     },
     "execution_count": 14,
     "metadata": {},
     "output_type": "execute_result"
    }
   ],
   "source": [
    "arr2 = np.array([1,2,3,4], dtype=float)\n",
    "\n",
    "arr2"
   ]
  },
  {
   "cell_type": "code",
   "execution_count": 15,
   "id": "48539736",
   "metadata": {},
   "outputs": [
    {
     "data": {
      "text/plain": [
       "numpy.float64"
      ]
     },
     "execution_count": 15,
     "metadata": {},
     "output_type": "execute_result"
    }
   ],
   "source": [
    "type(arr2[0])"
   ]
  },
  {
   "cell_type": "markdown",
   "id": "1b7a455b",
   "metadata": {},
   "source": [
    "2. Create numpy arrays that have zero, one, two, three, Four dimensions respectively.\n",
    "Also, print the shape and dimensions of the numpy arrays created above."
   ]
  },
  {
   "cell_type": "code",
   "execution_count": 16,
   "id": "29f47ee6",
   "metadata": {},
   "outputs": [
    {
     "name": "stdout",
     "output_type": "stream",
     "text": [
      "[1 2 3 4]\n",
      "(4,)\n",
      "1\n"
     ]
    }
   ],
   "source": [
    "#arr_name.shape\n",
    "#arr_name.ndim\n",
    "\n",
    "import numpy as np\n",
    "\n",
    "arr1 = np.array([1,2,3,4])\n",
    "print(arr1)\n",
    "print(arr1.shape)\n",
    "print(arr1.ndim)"
   ]
  },
  {
   "cell_type": "code",
   "execution_count": 24,
   "id": "faa9db31",
   "metadata": {},
   "outputs": [
    {
     "name": "stdout",
     "output_type": "stream",
     "text": [
      "100\n",
      "()\n",
      "0\n"
     ]
    }
   ],
   "source": [
    "#0 D\n",
    "\n",
    "arr1 = np.array(100)\n",
    "print(arr1)\n",
    "print(arr1.shape)\n",
    "print(arr1.ndim)"
   ]
  },
  {
   "cell_type": "code",
   "execution_count": 21,
   "id": "312d74bb",
   "metadata": {},
   "outputs": [
    {
     "name": "stdout",
     "output_type": "stream",
     "text": [
      "[[1 2 3 4]]\n",
      "(1, 4)\n",
      "2\n"
     ]
    }
   ],
   "source": [
    "#2D\n",
    "\n",
    "arr1 = np.array([[1,2,3,4]])\n",
    "print(arr1)\n",
    "print(arr1.shape)\n",
    "print(arr1.ndim)"
   ]
  },
  {
   "cell_type": "code",
   "execution_count": 25,
   "id": "8918ed18",
   "metadata": {},
   "outputs": [
    {
     "name": "stdout",
     "output_type": "stream",
     "text": [
      "[[[1 2 3 4]]]\n",
      "(1, 1, 4)\n",
      "3\n"
     ]
    }
   ],
   "source": [
    "#3D\n",
    "\n",
    "arr1 = np.array([[[1,2,3,4]]])\n",
    "print(arr1)\n",
    "print(arr1.shape)\n",
    "print(arr1.ndim)"
   ]
  },
  {
   "cell_type": "code",
   "execution_count": null,
   "id": "ab08ae0f",
   "metadata": {},
   "outputs": [],
   "source": [
    "#4 D"
   ]
  },
  {
   "cell_type": "markdown",
   "id": "fc609264",
   "metadata": {},
   "source": [
    "3. Create a 2x2, 3x3, and 4x4 identity matrix using numpy."
   ]
  },
  {
   "cell_type": "code",
   "execution_count": 26,
   "id": "c27f6b03",
   "metadata": {},
   "outputs": [
    {
     "data": {
      "text/plain": [
       "array([[1., 0.],\n",
       "       [0., 1.]])"
      ]
     },
     "execution_count": 26,
     "metadata": {},
     "output_type": "execute_result"
    }
   ],
   "source": [
    "#square matrix + diagonals should be one\n",
    "np.identity(2)"
   ]
  },
  {
   "cell_type": "code",
   "execution_count": 27,
   "id": "1829508c",
   "metadata": {},
   "outputs": [
    {
     "data": {
      "text/plain": [
       "array([[1., 0., 0.],\n",
       "       [0., 1., 0.],\n",
       "       [0., 0., 1.]])"
      ]
     },
     "execution_count": 27,
     "metadata": {},
     "output_type": "execute_result"
    }
   ],
   "source": [
    "np.identity(3)"
   ]
  },
  {
   "cell_type": "code",
   "execution_count": 31,
   "id": "eebd9f15",
   "metadata": {},
   "outputs": [
    {
     "data": {
      "text/plain": [
       "array([[1, 0, 0, 0],\n",
       "       [0, 1, 0, 0],\n",
       "       [0, 0, 1, 0],\n",
       "       [0, 0, 0, 1]])"
      ]
     },
     "execution_count": 31,
     "metadata": {},
     "output_type": "execute_result"
    }
   ],
   "source": [
    "np.identity(4, dtype=int)"
   ]
  },
  {
   "cell_type": "code",
   "execution_count": 29,
   "id": "43042b47",
   "metadata": {},
   "outputs": [],
   "source": [
    "#alternative\n",
    "\n",
    "#np.eye"
   ]
  },
  {
   "cell_type": "code",
   "execution_count": 30,
   "id": "a4230196",
   "metadata": {},
   "outputs": [
    {
     "data": {
      "text/plain": [
       "array([[1., 0., 0., 0.],\n",
       "       [0., 1., 0., 0.],\n",
       "       [0., 0., 1., 0.],\n",
       "       [0., 0., 0., 1.]])"
      ]
     },
     "execution_count": 30,
     "metadata": {},
     "output_type": "execute_result"
    }
   ],
   "source": [
    "np.eye(4)"
   ]
  },
  {
   "cell_type": "markdown",
   "id": "1df92f64",
   "metadata": {},
   "source": [
    "4. Create a numpy array with shape 2x5 that has all the elements as zero."
   ]
  },
  {
   "cell_type": "code",
   "execution_count": 33,
   "id": "b8083dd1",
   "metadata": {},
   "outputs": [
    {
     "data": {
      "text/plain": [
       "array([[0, 0, 0, 0, 0],\n",
       "       [0, 0, 0, 0, 0]])"
      ]
     },
     "execution_count": 33,
     "metadata": {},
     "output_type": "execute_result"
    }
   ],
   "source": [
    "np.zeros((2,5), dtype=int)"
   ]
  },
  {
   "cell_type": "code",
   "execution_count": 36,
   "id": "d0f44c01",
   "metadata": {},
   "outputs": [
    {
     "data": {
      "text/plain": [
       "array([[0, 0, 0, 0, 0],\n",
       "       [0, 0, 0, 0, 0]])"
      ]
     },
     "execution_count": 36,
     "metadata": {},
     "output_type": "execute_result"
    }
   ],
   "source": [
    "#np.full()\n",
    "np.full((2,5),0) #(shape, fill_value)"
   ]
  },
  {
   "cell_type": "markdown",
   "id": "e38c97a5",
   "metadata": {},
   "source": [
    "5. Create a numpy array that has the shape 3x5 and all the elements are 5"
   ]
  },
  {
   "cell_type": "code",
   "execution_count": 37,
   "id": "818e4514",
   "metadata": {},
   "outputs": [
    {
     "name": "stdout",
     "output_type": "stream",
     "text": [
      "[[5 5 5 5 5]\n",
      " [5 5 5 5 5]\n",
      " [5 5 5 5 5]]\n"
     ]
    }
   ],
   "source": [
    "arr1 = np.full((3,5), 5)\n",
    "print(arr1)"
   ]
  },
  {
   "cell_type": "code",
   "execution_count": 41,
   "id": "aca10991",
   "metadata": {},
   "outputs": [
    {
     "name": "stdout",
     "output_type": "stream",
     "text": [
      "[[1. 1. 1. 1. 1.]\n",
      " [1. 1. 1. 1. 1.]\n",
      " [1. 1. 1. 1. 1.]]\n",
      "[[5. 5. 5. 5. 5.]\n",
      " [5. 5. 5. 5. 5.]\n",
      " [5. 5. 5. 5. 5.]]\n"
     ]
    }
   ],
   "source": [
    "#2nd way\n",
    "arr2 = arr2 = np.ones((3,5))\n",
    "print(arr2)\n",
    "\n",
    "arr3 = arr2*5\n",
    "print(arr3)"
   ]
  },
  {
   "cell_type": "markdown",
   "id": "88f48b6f",
   "metadata": {},
   "source": [
    "6. Create a numpy array with random integers in the range 0-100, and the sample size\n",
    "should be 25."
   ]
  },
  {
   "cell_type": "code",
   "execution_count": null,
   "id": "5c8ec2ea",
   "metadata": {},
   "outputs": [],
   "source": [
    "#np.arange()\n",
    "#np.random.randint()\n",
    "#np.random.random"
   ]
  },
  {
   "cell_type": "code",
   "execution_count": 46,
   "id": "3410d536",
   "metadata": {},
   "outputs": [
    {
     "data": {
      "text/plain": [
       "array([  0,  25,  50,  75, 100])"
      ]
     },
     "execution_count": 46,
     "metadata": {},
     "output_type": "execute_result"
    }
   ],
   "source": [
    "arr1 = np.arange(0, 101, 25) #(low, upper, step)\n",
    "arr1"
   ]
  },
  {
   "cell_type": "code",
   "execution_count": 52,
   "id": "99ffb32d",
   "metadata": {},
   "outputs": [
    {
     "data": {
      "text/plain": [
       "array([70, 72, 23, 11, 76, 85, 33, 12, 28, 61, 66,  3, 99, 85, 78, 90, 27,\n",
       "       26, 75, 48, 95, 43, 42, 97, 28])"
      ]
     },
     "execution_count": 52,
     "metadata": {},
     "output_type": "execute_result"
    }
   ],
   "source": [
    "#ANs\n",
    "arr2 = np.random.randint(low=0, high=100, size=25)\n",
    "arr2"
   ]
  },
  {
   "cell_type": "code",
   "execution_count": 50,
   "id": "ccca7d20",
   "metadata": {},
   "outputs": [
    {
     "data": {
      "text/plain": [
       "array([[0.50926805, 0.67215736],\n",
       "       [0.28186629, 0.78233115],\n",
       "       [0.84621038, 0.82765368],\n",
       "       [0.73834064, 0.56515508],\n",
       "       [0.67636318, 0.77566662]])"
      ]
     },
     "execution_count": 50,
     "metadata": {},
     "output_type": "execute_result"
    }
   ],
   "source": [
    "arr3 = np.random.random((5,2))\n",
    "arr3"
   ]
  },
  {
   "cell_type": "markdown",
   "id": "db878b34",
   "metadata": {},
   "source": [
    "7. Create a numpy array with a shape 3x3 that has all elements as 1."
   ]
  },
  {
   "cell_type": "markdown",
   "id": "55a73d77",
   "metadata": {},
   "source": [
    "[1,1,1\n",
    " 1,1,1\n",
    " 1,1,1]"
   ]
  },
  {
   "cell_type": "code",
   "execution_count": null,
   "id": "34004a84",
   "metadata": {},
   "outputs": [],
   "source": [
    "#np.ones\n",
    "#np.full"
   ]
  },
  {
   "cell_type": "markdown",
   "id": "538bf6e9",
   "metadata": {},
   "source": [
    "8. Create a numpy array in the shape 2x3 with random integers in the range 0-100.\n",
    "Reshape the array in the shape 3x2 and print the updated shape of the resultant array"
   ]
  },
  {
   "cell_type": "code",
   "execution_count": 53,
   "id": "843e9e01",
   "metadata": {},
   "outputs": [
    {
     "data": {
      "text/plain": [
       "array([[75, 79, 12],\n",
       "       [74, 91, 46]])"
      ]
     },
     "execution_count": 53,
     "metadata": {},
     "output_type": "execute_result"
    }
   ],
   "source": [
    "arr2 = np.random.randint(low=0, high=100, size=(2,3))\n",
    "arr2"
   ]
  },
  {
   "cell_type": "code",
   "execution_count": 54,
   "id": "2487345d",
   "metadata": {},
   "outputs": [
    {
     "data": {
      "text/plain": [
       "(2, 3)"
      ]
     },
     "execution_count": 54,
     "metadata": {},
     "output_type": "execute_result"
    }
   ],
   "source": [
    "arr2.shape"
   ]
  },
  {
   "cell_type": "code",
   "execution_count": 55,
   "id": "0b5c3967",
   "metadata": {},
   "outputs": [
    {
     "data": {
      "text/plain": [
       "array([[75, 79],\n",
       "       [12, 74],\n",
       "       [91, 46]])"
      ]
     },
     "execution_count": 55,
     "metadata": {},
     "output_type": "execute_result"
    }
   ],
   "source": [
    "arr2.reshape(3,2) #(3,2), (6,1), (1,6)"
   ]
  },
  {
   "cell_type": "code",
   "execution_count": 56,
   "id": "7f08a4ec",
   "metadata": {},
   "outputs": [
    {
     "data": {
      "text/plain": [
       "array([[75],\n",
       "       [79],\n",
       "       [12],\n",
       "       [74],\n",
       "       [91],\n",
       "       [46]])"
      ]
     },
     "execution_count": 56,
     "metadata": {},
     "output_type": "execute_result"
    }
   ],
   "source": [
    "arr2.reshape(6,1)"
   ]
  },
  {
   "cell_type": "markdown",
   "id": "048ad428",
   "metadata": {},
   "source": [
    "9.. Create a random array, with the range 0-100, with a size 50. Perform the\n",
    "following operations on the same.\n",
    "a. Print the first ten elements of the array.\n",
    "b. Print the last ten elements of the array\n",
    "c. Print the elements from the indexes 10-25\n",
    "d. Print the element at the index 22\n",
    "e. Print the array using negative indexing.\n",
    "f. Print the last ten elements of the array, using negative indexing."
   ]
  },
  {
   "cell_type": "code",
   "execution_count": 57,
   "id": "69483103",
   "metadata": {},
   "outputs": [
    {
     "name": "stdout",
     "output_type": "stream",
     "text": [
      "[56 40 17 21 44 66 15 53 93 49 96  7 27 89 92 58 70 35 20 53 28 34 98 37\n",
      " 26 37 50 54 51 91 63 87  7 15 47 77 34 49 51 52 72 72 18 46 43  7 14 80\n",
      " 13 50]\n"
     ]
    }
   ],
   "source": [
    "arr1 = np.random.randint(0,100,50)\n",
    "print(arr1)"
   ]
  },
  {
   "cell_type": "code",
   "execution_count": 60,
   "id": "0e232dcf",
   "metadata": {},
   "outputs": [
    {
     "name": "stdout",
     "output_type": "stream",
     "text": [
      "[56 40 17 21 44 66 15 53 93 49]\n"
     ]
    }
   ],
   "source": [
    "#a. Print the first ten elements of the array.\n",
    "arr1[0:10] #0,1,2,3,4,5,6,7,8,9\n",
    "\n",
    "print(arr1[:10])"
   ]
  },
  {
   "cell_type": "code",
   "execution_count": 61,
   "id": "74d59ef2",
   "metadata": {},
   "outputs": [
    {
     "data": {
      "text/plain": [
       "array([72, 72, 18, 46, 43,  7, 14, 80, 13, 50])"
      ]
     },
     "execution_count": 61,
     "metadata": {},
     "output_type": "execute_result"
    }
   ],
   "source": [
    "#b. Print the last ten elements of the array\n",
    "arr1[40:]"
   ]
  },
  {
   "cell_type": "code",
   "execution_count": 62,
   "id": "586b2f5a",
   "metadata": {},
   "outputs": [
    {
     "data": {
      "text/plain": [
       "array([72, 72, 18, 46, 43,  7, 14, 80, 13, 50])"
      ]
     },
     "execution_count": 62,
     "metadata": {},
     "output_type": "execute_result"
    }
   ],
   "source": [
    "arr1[-10:]"
   ]
  },
  {
   "cell_type": "code",
   "execution_count": 63,
   "id": "ad30cedf",
   "metadata": {},
   "outputs": [
    {
     "data": {
      "text/plain": [
       "array([96,  7, 27, 89, 92, 58, 70, 35, 20, 53, 28, 34, 98, 37, 26, 37])"
      ]
     },
     "execution_count": 63,
     "metadata": {},
     "output_type": "execute_result"
    }
   ],
   "source": [
    "#c. Print the elements from the indexes 10-25\n",
    "arr1[10:26]"
   ]
  },
  {
   "cell_type": "code",
   "execution_count": 64,
   "id": "1ccf289c",
   "metadata": {},
   "outputs": [
    {
     "data": {
      "text/plain": [
       "98"
      ]
     },
     "execution_count": 64,
     "metadata": {},
     "output_type": "execute_result"
    }
   ],
   "source": [
    "#d. Print the element at the index 22\n",
    "arr1[22]"
   ]
  },
  {
   "cell_type": "code",
   "execution_count": 65,
   "id": "2c7f7eec",
   "metadata": {},
   "outputs": [
    {
     "data": {
      "text/plain": [
       "array([56, 40, 17, 21, 44, 66, 15, 53, 93, 49, 96,  7, 27, 89, 92, 58, 70,\n",
       "       35, 20, 53, 28, 34, 98, 37, 26, 37, 50, 54, 51, 91, 63, 87,  7, 15,\n",
       "       47, 77, 34, 49, 51, 52, 72, 72, 18, 46, 43,  7, 14, 80, 13, 50])"
      ]
     },
     "execution_count": 65,
     "metadata": {},
     "output_type": "execute_result"
    }
   ],
   "source": [
    "#e. Print the array using negative indexing.\n",
    "arr1[-50:]"
   ]
  },
  {
   "cell_type": "code",
   "execution_count": 66,
   "id": "94aa9e69",
   "metadata": {},
   "outputs": [
    {
     "data": {
      "text/plain": [
       "array([50, 13, 80, 14,  7, 43, 46, 18, 72, 72, 52, 51, 49, 34, 77, 47, 15,\n",
       "        7, 87, 63, 91, 51, 54, 50, 37, 26, 37, 98, 34, 28, 53, 20, 35, 70,\n",
       "       58, 92, 89, 27,  7, 96, 49, 93, 53, 15, 66, 44, 21, 17, 40, 56])"
      ]
     },
     "execution_count": 66,
     "metadata": {},
     "output_type": "execute_result"
    }
   ],
   "source": [
    "arr1[::-1] #reverse the array"
   ]
  },
  {
   "cell_type": "code",
   "execution_count": 67,
   "id": "ca7b358e",
   "metadata": {},
   "outputs": [
    {
     "data": {
      "text/plain": [
       "array([72, 72, 18, 46, 43,  7, 14, 80, 13, 50])"
      ]
     },
     "execution_count": 67,
     "metadata": {},
     "output_type": "execute_result"
    }
   ],
   "source": [
    "#f. Print the last ten elements of the array, using negative indexing.\n",
    "\n",
    "arr1[-10:]"
   ]
  },
  {
   "cell_type": "markdown",
   "id": "5803706b",
   "metadata": {},
   "source": [
    "#10.Given a numpy array that has values = [1,2,3,4,5]. Perform the following operations.\n",
    "a. Insert the element 6 at the end of the array.\n",
    "b. Insert the element 10 at the beginning of the array.\n",
    "c. Insert the element 30, before 4.\n",
    "d. Update the element 5 as 50.\n",
    "e. Delete the element 50 in the updated array.\n",
    "f. Create a function to search for the element 30.\n",
    "g. Sort the array in ascending order."
   ]
  },
  {
   "cell_type": "code",
   "execution_count": 68,
   "id": "6da3a826",
   "metadata": {},
   "outputs": [
    {
     "name": "stdout",
     "output_type": "stream",
     "text": [
      "[1 2 3 4 5]\n"
     ]
    }
   ],
   "source": [
    "arr1 = np.array([1,2,3,4,5])\n",
    "print(arr1)"
   ]
  },
  {
   "cell_type": "code",
   "execution_count": 69,
   "id": "be7361da",
   "metadata": {},
   "outputs": [
    {
     "data": {
      "text/plain": [
       "array([1, 2, 3, 4, 5, 6])"
      ]
     },
     "execution_count": 69,
     "metadata": {},
     "output_type": "execute_result"
    }
   ],
   "source": [
    "#a. Insert the element 6 at the end of the array.\n",
    "arr2 = np.insert(arr1, 5, 6) #(array_name, index, value)\n",
    "arr2"
   ]
  },
  {
   "cell_type": "code",
   "execution_count": 70,
   "id": "964de1e5",
   "metadata": {},
   "outputs": [
    {
     "data": {
      "text/plain": [
       "array([10,  1,  2,  3,  4,  5])"
      ]
     },
     "execution_count": 70,
     "metadata": {},
     "output_type": "execute_result"
    }
   ],
   "source": [
    "#b. Insert the element 10 at the beginning of the array.\n",
    "arr3 = np.insert(arr1, 0, 10)\n",
    "arr3"
   ]
  },
  {
   "cell_type": "code",
   "execution_count": 72,
   "id": "241848d2",
   "metadata": {},
   "outputs": [
    {
     "data": {
      "text/plain": [
       "array([10,  1,  2,  3, 30,  4,  5])"
      ]
     },
     "execution_count": 72,
     "metadata": {},
     "output_type": "execute_result"
    }
   ],
   "source": [
    "#c. Insert the element 30, before 4.\n",
    "arr4 = np.insert(arr3, 4, 30)\n",
    "arr4"
   ]
  },
  {
   "cell_type": "code",
   "execution_count": 75,
   "id": "f8b2bd6a",
   "metadata": {},
   "outputs": [
    {
     "data": {
      "text/plain": [
       "(array([5], dtype=int64),)"
      ]
     },
     "execution_count": 75,
     "metadata": {},
     "output_type": "execute_result"
    }
   ],
   "source": [
    "np.where(arr4==4)"
   ]
  },
  {
   "cell_type": "code",
   "execution_count": null,
   "id": "f1a9592f",
   "metadata": {},
   "outputs": [],
   "source": [
    "#d. Update the element 5 as 50.\n"
   ]
  },
  {
   "cell_type": "code",
   "execution_count": 79,
   "id": "9ec4b219",
   "metadata": {},
   "outputs": [
    {
     "data": {
      "text/plain": [
       "array([10,  1,  2,  3, 30,  4])"
      ]
     },
     "execution_count": 79,
     "metadata": {},
     "output_type": "execute_result"
    }
   ],
   "source": [
    "#e. Delete the element 50 in the updated array\n",
    "arr5 = np.delete(arr4, 6)\n",
    "arr5"
   ]
  },
  {
   "cell_type": "code",
   "execution_count": 80,
   "id": "30bc7988",
   "metadata": {},
   "outputs": [
    {
     "name": "stdout",
     "output_type": "stream",
     "text": [
      "30 4\n"
     ]
    }
   ],
   "source": [
    "#f. Create a function to search for the element 30.\n",
    "\n",
    "for i in range(0, len(arr5)): #0,1,2,3,4,5\n",
    "    if(arr5[i] == 30):\n",
    "        print(arr5[i], i)"
   ]
  },
  {
   "cell_type": "code",
   "execution_count": 81,
   "id": "225d3c89",
   "metadata": {},
   "outputs": [
    {
     "data": {
      "text/plain": [
       "array([ 1,  2,  3,  4, 10, 30])"
      ]
     },
     "execution_count": 81,
     "metadata": {},
     "output_type": "execute_result"
    }
   ],
   "source": [
    "#g. Sort the array in ascending order.\n",
    "arr5.sort()\n",
    "arr5"
   ]
  },
  {
   "cell_type": "code",
   "execution_count": null,
   "id": "e790e8e0",
   "metadata": {},
   "outputs": [],
   "source": []
  }
 ],
 "metadata": {
  "kernelspec": {
   "display_name": "Python 3 (ipykernel)",
   "language": "python",
   "name": "python3"
  },
  "language_info": {
   "codemirror_mode": {
    "name": "ipython",
    "version": 3
   },
   "file_extension": ".py",
   "mimetype": "text/x-python",
   "name": "python",
   "nbconvert_exporter": "python",
   "pygments_lexer": "ipython3",
   "version": "3.9.12"
  }
 },
 "nbformat": 4,
 "nbformat_minor": 5
}
