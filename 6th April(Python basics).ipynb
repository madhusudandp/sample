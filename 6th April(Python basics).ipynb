{
 "cells": [
  {
   "cell_type": "markdown",
   "id": "02689ad5",
   "metadata": {},
   "source": [
    "# Python Basics"
   ]
  },
  {
   "cell_type": "markdown",
   "id": "8a138c24",
   "metadata": {},
   "source": [
    "Introduction"
   ]
  },
  {
   "cell_type": "code",
   "execution_count": null,
   "id": "34147e21",
   "metadata": {},
   "outputs": [],
   "source": [
    "->Introduced by guido van russom in 1991\n",
    "->Python is a general purpose high level programming language\n",
    "->Python supports both oops and pops\n",
    "->OOPs--->Object oriented programming------->based on class and object\n",
    "----4 pillers Oops are\n",
    "------->Encapsulation,Polymorphism,Inheritance,Abstraction\n",
    "->POPs--->Procedural oriented programming---->based on functions\n",
    "->Syntax-->is grammer for any programming language or it is a format that has to be followed while writing a code\n",
    "->Keywords--->are certain words which have a predefined meaning in python or inbuilt words\n",
    "eg: import,def,for,class,True,False,while,return,etc\n",
    "->inbuilt functions---->the block of code which has a predefined task to perform\n",
    "eg:print(),len(),type(),range(),append(),pop(),insert(),remove(),max(),etc\n",
    "->case sensitive language-->uppercase and lowercase will not be same\n",
    "->Indentation--->spaces"
   ]
  },
  {
   "cell_type": "code",
   "execution_count": 1,
   "id": "77f5ab35",
   "metadata": {},
   "outputs": [
    {
     "name": "stdout",
     "output_type": "stream",
     "text": [
      "Hello!\n"
     ]
    }
   ],
   "source": [
    "print(\"Hello!\")"
   ]
  },
  {
   "cell_type": "code",
   "execution_count": 2,
   "id": "badbca79",
   "metadata": {},
   "outputs": [
    {
     "name": "stdout",
     "output_type": "stream",
     "text": [
      "Python\n"
     ]
    }
   ],
   "source": [
    "print('Python')"
   ]
  },
  {
   "cell_type": "code",
   "execution_count": 3,
   "id": "180e716e",
   "metadata": {},
   "outputs": [],
   "source": [
    "a='''fghdsgfhhjgdhlshfjsd\n",
    "jjksfffffffffffffffgjk\n",
    "jkgggggggggj'''"
   ]
  },
  {
   "cell_type": "code",
   "execution_count": 4,
   "id": "981595bc",
   "metadata": {},
   "outputs": [
    {
     "data": {
      "text/plain": [
       "'fghdsgfhhjgdhlshfjsd\\njjksfffffffffffffffgjk\\njkgggggggggj'"
      ]
     },
     "execution_count": 4,
     "metadata": {},
     "output_type": "execute_result"
    }
   ],
   "source": [
    "a"
   ]
  },
  {
   "cell_type": "code",
   "execution_count": 5,
   "id": "43ffb607",
   "metadata": {},
   "outputs": [
    {
     "name": "stdout",
     "output_type": "stream",
     "text": [
      "anu's\n"
     ]
    }
   ],
   "source": [
    "print(\"anu's\")"
   ]
  },
  {
   "cell_type": "code",
   "execution_count": 8,
   "id": "33d1efa3",
   "metadata": {},
   "outputs": [
    {
     "name": "stdout",
     "output_type": "stream",
     "text": [
      "['False', 'None', 'True', '__peg_parser__', 'and', 'as', 'assert', 'async', 'await', 'break', 'class', 'continue', 'def', 'del', 'elif', 'else', 'except', 'finally', 'for', 'from', 'global', 'if', 'import', 'in', 'is', 'lambda', 'nonlocal', 'not', 'or', 'pass', 'raise', 'return', 'try', 'while', 'with', 'yield']\n"
     ]
    }
   ],
   "source": [
    "import keyword\n",
    "a=keyword.kwlist\n",
    "print(a)"
   ]
  },
  {
   "cell_type": "code",
   "execution_count": 10,
   "id": "68937dfd",
   "metadata": {},
   "outputs": [
    {
     "data": {
      "text/plain": [
       "36"
      ]
     },
     "execution_count": 10,
     "metadata": {},
     "output_type": "execute_result"
    }
   ],
   "source": [
    "len(a)"
   ]
  },
  {
   "cell_type": "code",
   "execution_count": 12,
   "id": "012dca40",
   "metadata": {},
   "outputs": [
    {
     "ename": "NameError",
     "evalue": "name 'A' is not defined",
     "output_type": "error",
     "traceback": [
      "\u001b[1;31m---------------------------------------------------------------------------\u001b[0m",
      "\u001b[1;31mNameError\u001b[0m                                 Traceback (most recent call last)",
      "Input \u001b[1;32mIn [12]\u001b[0m, in \u001b[0;36m<cell line: 2>\u001b[1;34m()\u001b[0m\n\u001b[0;32m      1\u001b[0m a\u001b[38;5;241m=\u001b[39m\u001b[38;5;241m10\u001b[39m\n\u001b[1;32m----> 2\u001b[0m \u001b[38;5;28mprint\u001b[39m(\u001b[43mA\u001b[49m)\n",
      "\u001b[1;31mNameError\u001b[0m: name 'A' is not defined"
     ]
    }
   ],
   "source": [
    "a=10\n",
    "print(A)"
   ]
  },
  {
   "cell_type": "code",
   "execution_count": 15,
   "id": "1b9dc403",
   "metadata": {},
   "outputs": [
    {
     "name": "stdout",
     "output_type": "stream",
     "text": [
      "10\n"
     ]
    }
   ],
   "source": [
    "if a>6:\n",
    "    print(a)\n",
    "else:\n",
    "    print(\"invalid\")\n"
   ]
  },
  {
   "cell_type": "markdown",
   "id": "bc3f279a",
   "metadata": {},
   "source": [
    "# Variable"
   ]
  },
  {
   "cell_type": "raw",
   "id": "140a8bab",
   "metadata": {},
   "source": [
    "->a storage container which holds some data\n",
    "->a memory location which will be assigned with some data or information or content\n",
    "-> = assignment operator, to assign values to the variable\n",
    "#syntax\n",
    "\n",
    "variable_name = value/content/data/info\n",
    "\n",
    "->literal--->the value or information that will be assigned to the variable"
   ]
  },
  {
   "cell_type": "code",
   "execution_count": 16,
   "id": "661b2521",
   "metadata": {},
   "outputs": [],
   "source": [
    "D = 100"
   ]
  },
  {
   "cell_type": "code",
   "execution_count": 17,
   "id": "f4bf6991",
   "metadata": {},
   "outputs": [
    {
     "name": "stdout",
     "output_type": "stream",
     "text": [
      "100\n"
     ]
    }
   ],
   "source": [
    "print(D)"
   ]
  },
  {
   "cell_type": "code",
   "execution_count": 18,
   "id": "ef4a4852",
   "metadata": {},
   "outputs": [
    {
     "data": {
      "text/plain": [
       "int"
      ]
     },
     "execution_count": 18,
     "metadata": {},
     "output_type": "execute_result"
    }
   ],
   "source": [
    "type(D)"
   ]
  },
  {
   "cell_type": "code",
   "execution_count": 32,
   "id": "68642723",
   "metadata": {},
   "outputs": [
    {
     "name": "stdout",
     "output_type": "stream",
     "text": [
      "apple\n"
     ]
    }
   ],
   "source": [
    "k = \"apple\"\n",
    "print(k)"
   ]
  },
  {
   "cell_type": "code",
   "execution_count": 21,
   "id": "2ce948e7",
   "metadata": {},
   "outputs": [
    {
     "data": {
      "text/plain": [
       "str"
      ]
     },
     "execution_count": 21,
     "metadata": {},
     "output_type": "execute_result"
    }
   ],
   "source": [
    "type(k)"
   ]
  },
  {
   "cell_type": "raw",
   "id": "622f8120",
   "metadata": {},
   "source": [
    "#Rules\n",
    "->Variable name can start with letter or underscore(_) but never starts with numbers\n",
    "->Keywords cannot be used as a variable name\n",
    "->No special characters or symbols will be allowed except underscore(_) in a variable name"
   ]
  },
  {
   "cell_type": "code",
   "execution_count": 22,
   "id": "4b536e38",
   "metadata": {},
   "outputs": [
    {
     "ename": "SyntaxError",
     "evalue": "invalid syntax (1817577028.py, line 1)",
     "output_type": "error",
     "traceback": [
      "\u001b[1;36m  Input \u001b[1;32mIn [22]\u001b[1;36m\u001b[0m\n\u001b[1;33m    2d=50\u001b[0m\n\u001b[1;37m     ^\u001b[0m\n\u001b[1;31mSyntaxError\u001b[0m\u001b[1;31m:\u001b[0m invalid syntax\n"
     ]
    }
   ],
   "source": [
    "2d=50\n",
    "print(2d)"
   ]
  },
  {
   "cell_type": "code",
   "execution_count": 23,
   "id": "cd9d14a3",
   "metadata": {},
   "outputs": [
    {
     "name": "stdout",
     "output_type": "stream",
     "text": [
      "20\n"
     ]
    }
   ],
   "source": [
    "d2=20\n",
    "print(d2)"
   ]
  },
  {
   "cell_type": "code",
   "execution_count": 24,
   "id": "e05702ea",
   "metadata": {},
   "outputs": [
    {
     "name": "stdout",
     "output_type": "stream",
     "text": [
      "4000\n"
     ]
    }
   ],
   "source": [
    "_g_k=4000\n",
    "print(_g_k)"
   ]
  },
  {
   "cell_type": "code",
   "execution_count": 25,
   "id": "c86e39a0",
   "metadata": {},
   "outputs": [
    {
     "ename": "SyntaxError",
     "evalue": "invalid syntax (473732423.py, line 1)",
     "output_type": "error",
     "traceback": [
      "\u001b[1;36m  Input \u001b[1;32mIn [25]\u001b[1;36m\u001b[0m\n\u001b[1;33m    def=45.9\u001b[0m\n\u001b[1;37m       ^\u001b[0m\n\u001b[1;31mSyntaxError\u001b[0m\u001b[1;31m:\u001b[0m invalid syntax\n"
     ]
    }
   ],
   "source": [
    "def=45.9\n",
    "print(def)"
   ]
  },
  {
   "cell_type": "code",
   "execution_count": 26,
   "id": "f98b841c",
   "metadata": {},
   "outputs": [
    {
     "ename": "SyntaxError",
     "evalue": "invalid syntax (2319899328.py, line 1)",
     "output_type": "error",
     "traceback": [
      "\u001b[1;36m  Input \u001b[1;32mIn [26]\u001b[1;36m\u001b[0m\n\u001b[1;33m    if=38\u001b[0m\n\u001b[1;37m      ^\u001b[0m\n\u001b[1;31mSyntaxError\u001b[0m\u001b[1;31m:\u001b[0m invalid syntax\n"
     ]
    }
   ],
   "source": [
    "if=38\n",
    "print(if)"
   ]
  },
  {
   "cell_type": "code",
   "execution_count": 27,
   "id": "f82f54e5",
   "metadata": {},
   "outputs": [
    {
     "ename": "SyntaxError",
     "evalue": "invalid syntax (3872682215.py, line 1)",
     "output_type": "error",
     "traceback": [
      "\u001b[1;36m  Input \u001b[1;32mIn [27]\u001b[1;36m\u001b[0m\n\u001b[1;33m    f$=60\u001b[0m\n\u001b[1;37m     ^\u001b[0m\n\u001b[1;31mSyntaxError\u001b[0m\u001b[1;31m:\u001b[0m invalid syntax\n"
     ]
    }
   ],
   "source": [
    "f$=60"
   ]
  },
  {
   "cell_type": "code",
   "execution_count": 28,
   "id": "2285f724",
   "metadata": {},
   "outputs": [
    {
     "ename": "SyntaxError",
     "evalue": "invalid syntax (851534646.py, line 1)",
     "output_type": "error",
     "traceback": [
      "\u001b[1;36m  Input \u001b[1;32mIn [28]\u001b[1;36m\u001b[0m\n\u001b[1;33m    @h=80\u001b[0m\n\u001b[1;37m      ^\u001b[0m\n\u001b[1;31mSyntaxError\u001b[0m\u001b[1;31m:\u001b[0m invalid syntax\n"
     ]
    }
   ],
   "source": [
    "@h=80"
   ]
  },
  {
   "cell_type": "code",
   "execution_count": 29,
   "id": "4b9584ec",
   "metadata": {},
   "outputs": [],
   "source": [
    "_j=80"
   ]
  },
  {
   "cell_type": "code",
   "execution_count": 30,
   "id": "c71451b7",
   "metadata": {},
   "outputs": [],
   "source": [
    "#g=10"
   ]
  },
  {
   "cell_type": "code",
   "execution_count": 31,
   "id": "c238a4eb",
   "metadata": {},
   "outputs": [
    {
     "ename": "NameError",
     "evalue": "name 'g' is not defined",
     "output_type": "error",
     "traceback": [
      "\u001b[1;31m---------------------------------------------------------------------------\u001b[0m",
      "\u001b[1;31mNameError\u001b[0m                                 Traceback (most recent call last)",
      "Input \u001b[1;32mIn [31]\u001b[0m, in \u001b[0;36m<cell line: 1>\u001b[1;34m()\u001b[0m\n\u001b[1;32m----> 1\u001b[0m \u001b[43mg\u001b[49m\n",
      "\u001b[1;31mNameError\u001b[0m: name 'g' is not defined"
     ]
    }
   ],
   "source": [
    "g#=10"
   ]
  },
  {
   "cell_type": "code",
   "execution_count": 33,
   "id": "f4a30932",
   "metadata": {},
   "outputs": [],
   "source": [
    "#Assigning the values to the variable\n",
    "#static way--->data is assigned manually while typing the program\n",
    "#Dynamic way(user defined)-->data will be assigned during the run time of the program\n",
    "#syntax of dynamic way\n",
    "\n",
    "variable_name=input()"
   ]
  },
  {
   "cell_type": "code",
   "execution_count": 4,
   "id": "0051ba5f",
   "metadata": {},
   "outputs": [
    {
     "name": "stdout",
     "output_type": "stream",
     "text": [
      "10\n"
     ]
    }
   ],
   "source": [
    "a=10\n",
    "print(a)"
   ]
  },
  {
   "cell_type": "code",
   "execution_count": 10,
   "id": "1094a493",
   "metadata": {},
   "outputs": [
    {
     "name": "stdout",
     "output_type": "stream",
     "text": [
      "50\n"
     ]
    }
   ],
   "source": [
    "a1=input()   #string data"
   ]
  },
  {
   "cell_type": "code",
   "execution_count": 11,
   "id": "a3568242",
   "metadata": {},
   "outputs": [
    {
     "name": "stdout",
     "output_type": "stream",
     "text": [
      "50\n"
     ]
    }
   ],
   "source": [
    "print(a1)"
   ]
  },
  {
   "cell_type": "code",
   "execution_count": 12,
   "id": "1dc6f545",
   "metadata": {},
   "outputs": [
    {
     "data": {
      "text/plain": [
       "str"
      ]
     },
     "execution_count": 12,
     "metadata": {},
     "output_type": "execute_result"
    }
   ],
   "source": [
    "type(a1)"
   ]
  },
  {
   "cell_type": "raw",
   "id": "04e79f6d",
   "metadata": {},
   "source": [
    "#type casting---->converting one data type into another data type\n",
    "input()------>string\n",
    "input()--->int(input())------------>str--->int"
   ]
  },
  {
   "cell_type": "code",
   "execution_count": 18,
   "id": "7f669130",
   "metadata": {},
   "outputs": [
    {
     "name": "stdout",
     "output_type": "stream",
     "text": [
      "Enter the value b:100\n"
     ]
    }
   ],
   "source": [
    "b=int(input(\"Enter the value b:\"))"
   ]
  },
  {
   "cell_type": "code",
   "execution_count": 19,
   "id": "511b5dfc",
   "metadata": {},
   "outputs": [
    {
     "name": "stdout",
     "output_type": "stream",
     "text": [
      "100\n"
     ]
    }
   ],
   "source": [
    "print(b)"
   ]
  },
  {
   "cell_type": "code",
   "execution_count": 20,
   "id": "6db06e2f",
   "metadata": {},
   "outputs": [
    {
     "data": {
      "text/plain": [
       "int"
      ]
     },
     "execution_count": 20,
     "metadata": {},
     "output_type": "execute_result"
    }
   ],
   "source": [
    "type(b)"
   ]
  },
  {
   "cell_type": "code",
   "execution_count": 35,
   "id": "f752e520",
   "metadata": {},
   "outputs": [
    {
     "name": "stdout",
     "output_type": "stream",
     "text": [
      "enter the data:6\n"
     ]
    }
   ],
   "source": [
    "c=float(input(\"enter the data:\"))"
   ]
  },
  {
   "cell_type": "code",
   "execution_count": 36,
   "id": "5d428da1",
   "metadata": {},
   "outputs": [
    {
     "name": "stdout",
     "output_type": "stream",
     "text": [
      "6.0\n"
     ]
    }
   ],
   "source": [
    "print(c)"
   ]
  },
  {
   "cell_type": "code",
   "execution_count": 26,
   "id": "88a7b4cb",
   "metadata": {},
   "outputs": [
    {
     "data": {
      "text/plain": [
       "float"
      ]
     },
     "execution_count": 26,
     "metadata": {},
     "output_type": "execute_result"
    }
   ],
   "source": [
    "type(c)"
   ]
  },
  {
   "cell_type": "code",
   "execution_count": 30,
   "id": "34b55f7e",
   "metadata": {},
   "outputs": [
    {
     "name": "stdout",
     "output_type": "stream",
     "text": [
      "enter the data:\n"
     ]
    }
   ],
   "source": [
    "d=bool(input(\"enter the data:\"))"
   ]
  },
  {
   "cell_type": "code",
   "execution_count": 31,
   "id": "f2b3ca06",
   "metadata": {},
   "outputs": [
    {
     "name": "stdout",
     "output_type": "stream",
     "text": [
      "False\n"
     ]
    }
   ],
   "source": [
    "print(d)"
   ]
  },
  {
   "cell_type": "code",
   "execution_count": 32,
   "id": "85faaa8e",
   "metadata": {},
   "outputs": [
    {
     "data": {
      "text/plain": [
       "bool"
      ]
     },
     "execution_count": 32,
     "metadata": {},
     "output_type": "execute_result"
    }
   ],
   "source": [
    "type(d)"
   ]
  },
  {
   "cell_type": "markdown",
   "id": "2d45d8af",
   "metadata": {},
   "source": [
    "# Data types"
   ]
  },
  {
   "cell_type": "code",
   "execution_count": 37,
   "id": "d06c6411",
   "metadata": {},
   "outputs": [],
   "source": [
    "#type of data the variable has been assigned with\n",
    "\n",
    "#two types of data types\n",
    "\n",
    "#1--->Basic/universal data type----->int, float, bool, string\n",
    "\n",
    "#2--->collective data type--->collection of values or information we can able to store it in a single variable\n",
    "#                   a--------->Mutable data type--->info or value in a collection can be changed after the declaration\n",
    "#-------------------------------------------------->list,dict,set\n",
    "#                   b--------->Immutable data type--->info or value in a collection cannot be changed after the declaration\n",
    "#--------------------------------------------------->string,tuple"
   ]
  },
  {
   "cell_type": "code",
   "execution_count": 38,
   "id": "bf02d5c6",
   "metadata": {},
   "outputs": [],
   "source": [
    "P=10,30,89.85,True,False,'python',200,45.8"
   ]
  },
  {
   "cell_type": "code",
   "execution_count": 39,
   "id": "03be8414",
   "metadata": {},
   "outputs": [
    {
     "name": "stdout",
     "output_type": "stream",
     "text": [
      "(10, 30, 89.85, True, False, 'python', 200, 45.8)\n"
     ]
    }
   ],
   "source": [
    "print(P)"
   ]
  },
  {
   "cell_type": "code",
   "execution_count": 40,
   "id": "c72c2835",
   "metadata": {},
   "outputs": [
    {
     "data": {
      "text/plain": [
       "tuple"
      ]
     },
     "execution_count": 40,
     "metadata": {},
     "output_type": "execute_result"
    }
   ],
   "source": [
    "type(P)"
   ]
  },
  {
   "cell_type": "code",
   "execution_count": null,
   "id": "bf135c59",
   "metadata": {},
   "outputs": [],
   "source": [
    "#Immutable data types"
   ]
  },
  {
   "cell_type": "raw",
   "id": "8f699092",
   "metadata": {},
   "source": [
    "#Tuple---->Tuple is a collective data types, we can able to store all heterogeneous values(different data types)\n",
    "\n",
    "#syntax\n",
    "\n",
    "variable_name=(values)\n",
    "\n",
    "or \n",
    "\n",
    "variable_name=values"
   ]
  },
  {
   "cell_type": "code",
   "execution_count": 41,
   "id": "c4184d56",
   "metadata": {},
   "outputs": [],
   "source": [
    "T=(10,30.8,46,89,'cherry')"
   ]
  },
  {
   "cell_type": "code",
   "execution_count": 42,
   "id": "8494c5e4",
   "metadata": {},
   "outputs": [
    {
     "name": "stdout",
     "output_type": "stream",
     "text": [
      "(10, 30.8, 46, 89, 'cherry')\n"
     ]
    }
   ],
   "source": [
    "print(T)"
   ]
  },
  {
   "cell_type": "code",
   "execution_count": 43,
   "id": "2d67b43c",
   "metadata": {},
   "outputs": [
    {
     "data": {
      "text/plain": [
       "tuple"
      ]
     },
     "execution_count": 43,
     "metadata": {},
     "output_type": "execute_result"
    }
   ],
   "source": [
    "type(T)"
   ]
  },
  {
   "cell_type": "code",
   "execution_count": 55,
   "id": "d65dd22a",
   "metadata": {},
   "outputs": [
    {
     "name": "stdout",
     "output_type": "stream",
     "text": [
      "(5, 9, 10, 'fine', 50.7, 'apple')\n"
     ]
    }
   ],
   "source": [
    "T1=5,9,10,'fine',50.7,\"apple\"\n",
    "print(T1)"
   ]
  },
  {
   "cell_type": "code",
   "execution_count": 56,
   "id": "47491a53",
   "metadata": {},
   "outputs": [
    {
     "data": {
      "text/plain": [
       "tuple"
      ]
     },
     "execution_count": 56,
     "metadata": {},
     "output_type": "execute_result"
    }
   ],
   "source": [
    "type(T1)"
   ]
  },
  {
   "cell_type": "code",
   "execution_count": 52,
   "id": "2795fc45",
   "metadata": {},
   "outputs": [],
   "source": [
    "s=(20)"
   ]
  },
  {
   "cell_type": "code",
   "execution_count": 53,
   "id": "5f4a88ff",
   "metadata": {},
   "outputs": [
    {
     "name": "stdout",
     "output_type": "stream",
     "text": [
      "20\n"
     ]
    }
   ],
   "source": [
    "print(s)"
   ]
  },
  {
   "cell_type": "code",
   "execution_count": 54,
   "id": "d7141428",
   "metadata": {},
   "outputs": [
    {
     "data": {
      "text/plain": [
       "int"
      ]
     },
     "execution_count": 54,
     "metadata": {},
     "output_type": "execute_result"
    }
   ],
   "source": [
    "type(s)"
   ]
  },
  {
   "cell_type": "code",
   "execution_count": 57,
   "id": "55af8ad4",
   "metadata": {},
   "outputs": [],
   "source": [
    "s='apple'"
   ]
  },
  {
   "cell_type": "code",
   "execution_count": 58,
   "id": "70e68f2d",
   "metadata": {},
   "outputs": [
    {
     "name": "stdout",
     "output_type": "stream",
     "text": [
      "apple\n"
     ]
    }
   ],
   "source": [
    "print(s)"
   ]
  },
  {
   "cell_type": "code",
   "execution_count": 59,
   "id": "bb066b36",
   "metadata": {},
   "outputs": [
    {
     "data": {
      "text/plain": [
       "str"
      ]
     },
     "execution_count": 59,
     "metadata": {},
     "output_type": "execute_result"
    }
   ],
   "source": [
    "type(s)"
   ]
  },
  {
   "cell_type": "code",
   "execution_count": 62,
   "id": "63e7fc93",
   "metadata": {},
   "outputs": [
    {
     "name": "stdout",
     "output_type": "stream",
     "text": [
      "(30, 45.5, 'apple', 30)\n"
     ]
    }
   ],
   "source": [
    "T1= 30, 45.5, \"apple\" ,30\n",
    "print(T1)"
   ]
  },
  {
   "cell_type": "code",
   "execution_count": 63,
   "id": "cfd6696a",
   "metadata": {},
   "outputs": [
    {
     "data": {
      "text/plain": [
       "tuple"
      ]
     },
     "execution_count": 63,
     "metadata": {},
     "output_type": "execute_result"
    }
   ],
   "source": [
    "type(T1)"
   ]
  },
  {
   "cell_type": "code",
   "execution_count": 64,
   "id": "e70ce0f0",
   "metadata": {},
   "outputs": [],
   "source": [
    "s1='Python programming'"
   ]
  },
  {
   "cell_type": "code",
   "execution_count": 65,
   "id": "947622aa",
   "metadata": {},
   "outputs": [
    {
     "name": "stdout",
     "output_type": "stream",
     "text": [
      "Python programming\n"
     ]
    }
   ],
   "source": [
    "print(s1)"
   ]
  },
  {
   "cell_type": "code",
   "execution_count": 66,
   "id": "1c2f527c",
   "metadata": {},
   "outputs": [
    {
     "data": {
      "text/plain": [
       "str"
      ]
     },
     "execution_count": 66,
     "metadata": {},
     "output_type": "execute_result"
    }
   ],
   "source": [
    "type(s1)"
   ]
  },
  {
   "cell_type": "markdown",
   "id": "f0a85bc2",
   "metadata": {},
   "source": [
    "# Indexing and slicing"
   ]
  },
  {
   "cell_type": "raw",
   "id": "19898209",
   "metadata": {},
   "source": [
    "#index---->positional value of an data inside a collection \n",
    "#indexing---->the process of extracting or accessing an individual value from a collection\n",
    "\n",
    "#indexing syntax\n",
    "\n",
    "variable_name[index_value/positional_value]"
   ]
  },
  {
   "cell_type": "code",
   "execution_count": 67,
   "id": "aca992cd",
   "metadata": {},
   "outputs": [
    {
     "name": "stdout",
     "output_type": "stream",
     "text": [
      "(30, 89, 70.6, False, 'data')\n"
     ]
    }
   ],
   "source": [
    "I=30,89,70.6,False,'data'\n",
    "print(I)"
   ]
  },
  {
   "cell_type": "code",
   "execution_count": 68,
   "id": "954a64d0",
   "metadata": {},
   "outputs": [
    {
     "data": {
      "text/plain": [
       "89"
      ]
     },
     "execution_count": 68,
     "metadata": {},
     "output_type": "execute_result"
    }
   ],
   "source": [
    "I[1]"
   ]
  },
  {
   "cell_type": "code",
   "execution_count": 69,
   "id": "e0b4d939",
   "metadata": {},
   "outputs": [
    {
     "data": {
      "text/plain": [
       "89"
      ]
     },
     "execution_count": 69,
     "metadata": {},
     "output_type": "execute_result"
    }
   ],
   "source": [
    "I[-4]"
   ]
  },
  {
   "cell_type": "code",
   "execution_count": 70,
   "id": "c8cb3336",
   "metadata": {},
   "outputs": [],
   "source": [
    "s=45,89,34.9,80"
   ]
  },
  {
   "cell_type": "code",
   "execution_count": 71,
   "id": "c56f54bb",
   "metadata": {},
   "outputs": [
    {
     "name": "stdout",
     "output_type": "stream",
     "text": [
      "(45, 89, 34.9, 80)\n"
     ]
    }
   ],
   "source": [
    "print(s)"
   ]
  },
  {
   "cell_type": "code",
   "execution_count": 72,
   "id": "72514b55",
   "metadata": {},
   "outputs": [
    {
     "data": {
      "text/plain": [
       "34.9"
      ]
     },
     "execution_count": 72,
     "metadata": {},
     "output_type": "execute_result"
    }
   ],
   "source": [
    "s[-2]"
   ]
  },
  {
   "cell_type": "code",
   "execution_count": null,
   "id": "d33b1c4d",
   "metadata": {},
   "outputs": [],
   "source": [
    "#slicing---->If we want to extract more than one value from the collection \n",
    "#----------->accessing multiple values in a sequence from a collection\n",
    "\n",
    "#syntax of slicing\n",
    "\n",
    "variable_name[start_index:end_index+1]"
   ]
  },
  {
   "cell_type": "code",
   "execution_count": 73,
   "id": "b01f1e22",
   "metadata": {},
   "outputs": [
    {
     "name": "stdout",
     "output_type": "stream",
     "text": [
      "(30, 89, 70.6, False, 'data')\n"
     ]
    }
   ],
   "source": [
    "print(I)"
   ]
  },
  {
   "cell_type": "code",
   "execution_count": 74,
   "id": "3367e4b9",
   "metadata": {},
   "outputs": [
    {
     "data": {
      "text/plain": [
       "(30, 89, 70.6, False)"
      ]
     },
     "execution_count": 74,
     "metadata": {},
     "output_type": "execute_result"
    }
   ],
   "source": [
    "I[0:4]"
   ]
  },
  {
   "cell_type": "code",
   "execution_count": 75,
   "id": "74fea466",
   "metadata": {},
   "outputs": [
    {
     "data": {
      "text/plain": [
       "(89, 70.6, False, 'data')"
      ]
     },
     "execution_count": 75,
     "metadata": {},
     "output_type": "execute_result"
    }
   ],
   "source": [
    "I[1:5]"
   ]
  },
  {
   "cell_type": "code",
   "execution_count": 76,
   "id": "e2839bd8",
   "metadata": {},
   "outputs": [
    {
     "data": {
      "text/plain": [
       "(89, 70.6, False, 'data')"
      ]
     },
     "execution_count": 76,
     "metadata": {},
     "output_type": "execute_result"
    }
   ],
   "source": [
    "I[1:]"
   ]
  },
  {
   "cell_type": "code",
   "execution_count": 77,
   "id": "e6530858",
   "metadata": {},
   "outputs": [
    {
     "data": {
      "text/plain": [
       "(30, 89, 70.6)"
      ]
     },
     "execution_count": 77,
     "metadata": {},
     "output_type": "execute_result"
    }
   ],
   "source": [
    "I[0:3]"
   ]
  },
  {
   "cell_type": "code",
   "execution_count": 78,
   "id": "794a8066",
   "metadata": {},
   "outputs": [
    {
     "data": {
      "text/plain": [
       "(30, 89, 70.6)"
      ]
     },
     "execution_count": 78,
     "metadata": {},
     "output_type": "execute_result"
    }
   ],
   "source": [
    "I[:3]"
   ]
  },
  {
   "cell_type": "code",
   "execution_count": null,
   "id": "aaa33d75",
   "metadata": {},
   "outputs": [],
   "source": [
    "#variable_name[start_index:end_index+1:step_length+1]"
   ]
  },
  {
   "cell_type": "code",
   "execution_count": 79,
   "id": "66c31cd2",
   "metadata": {},
   "outputs": [
    {
     "data": {
      "text/plain": [
       "(30, 89, 70.6, False, 'data')"
      ]
     },
     "execution_count": 79,
     "metadata": {},
     "output_type": "execute_result"
    }
   ],
   "source": [
    "I[:]"
   ]
  },
  {
   "cell_type": "code",
   "execution_count": 80,
   "id": "4ea8cfac",
   "metadata": {},
   "outputs": [
    {
     "data": {
      "text/plain": [
       "(30, 89, 70.6, False, 'data')"
      ]
     },
     "execution_count": 80,
     "metadata": {},
     "output_type": "execute_result"
    }
   ],
   "source": [
    "I[::1]"
   ]
  },
  {
   "cell_type": "code",
   "execution_count": 81,
   "id": "259ec7fd",
   "metadata": {},
   "outputs": [
    {
     "data": {
      "text/plain": [
       "(30, 70.6, 'data')"
      ]
     },
     "execution_count": 81,
     "metadata": {},
     "output_type": "execute_result"
    }
   ],
   "source": [
    "I[::2]"
   ]
  },
  {
   "cell_type": "code",
   "execution_count": 83,
   "id": "8021027f",
   "metadata": {},
   "outputs": [
    {
     "data": {
      "text/plain": [
       "(89, 'data')"
      ]
     },
     "execution_count": 83,
     "metadata": {},
     "output_type": "execute_result"
    }
   ],
   "source": [
    "I[1::3]"
   ]
  },
  {
   "cell_type": "code",
   "execution_count": 84,
   "id": "a007bfd1",
   "metadata": {},
   "outputs": [
    {
     "name": "stdout",
     "output_type": "stream",
     "text": [
      "(30, 89, 70.6, False, 'data')\n"
     ]
    }
   ],
   "source": [
    "print(I)"
   ]
  },
  {
   "cell_type": "code",
   "execution_count": 85,
   "id": "a5838575",
   "metadata": {},
   "outputs": [
    {
     "data": {
      "text/plain": [
       "(30, 89, 70.6)"
      ]
     },
     "execution_count": 85,
     "metadata": {},
     "output_type": "execute_result"
    }
   ],
   "source": [
    "I[-5:-2]"
   ]
  },
  {
   "cell_type": "code",
   "execution_count": null,
   "id": "1f16e05b",
   "metadata": {},
   "outputs": [],
   "source": []
  },
  {
   "cell_type": "code",
   "execution_count": null,
   "id": "7e83279e",
   "metadata": {},
   "outputs": [],
   "source": []
  },
  {
   "cell_type": "code",
   "execution_count": null,
   "id": "c018ef35",
   "metadata": {},
   "outputs": [],
   "source": []
  }
 ],
 "metadata": {
  "kernelspec": {
   "display_name": "Python 3 (ipykernel)",
   "language": "python",
   "name": "python3"
  },
  "language_info": {
   "codemirror_mode": {
    "name": "ipython",
    "version": 3
   },
   "file_extension": ".py",
   "mimetype": "text/x-python",
   "name": "python",
   "nbconvert_exporter": "python",
   "pygments_lexer": "ipython3",
   "version": "3.9.12"
  }
 },
 "nbformat": 4,
 "nbformat_minor": 5
}
