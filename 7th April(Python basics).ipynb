{
 "cells": [
  {
   "cell_type": "markdown",
   "id": "02689ad5",
   "metadata": {},
   "source": [
    "# Python Basics"
   ]
  },
  {
   "cell_type": "markdown",
   "id": "8a138c24",
   "metadata": {},
   "source": [
    "Introduction"
   ]
  },
  {
   "cell_type": "code",
   "execution_count": null,
   "id": "34147e21",
   "metadata": {},
   "outputs": [],
   "source": [
    "->Introduced by guido van russom in 1991\n",
    "->Python is a general purpose high level programming language\n",
    "->Python supports both oops and pops\n",
    "->OOPs--->Object oriented programming------->based on class and object\n",
    "----4 pillers Oops are\n",
    "------->Encapsulation,Polymorphism,Inheritance,Abstraction\n",
    "->POPs--->Procedural oriented programming---->based on functions\n",
    "->Syntax-->is grammer for any programming language or it is a format that has to be followed while writing a code\n",
    "->Keywords--->are certain words which have a predefined meaning in python or inbuilt words\n",
    "eg: import,def,for,class,True,False,while,return,etc\n",
    "->inbuilt functions---->the block of code which has a predefined task to perform\n",
    "eg:print(),len(),type(),range(),append(),pop(),insert(),remove(),max(),etc\n",
    "->case sensitive language-->uppercase and lowercase will not be same\n",
    "->Indentation--->spaces"
   ]
  },
  {
   "cell_type": "code",
   "execution_count": 1,
   "id": "77f5ab35",
   "metadata": {},
   "outputs": [
    {
     "name": "stdout",
     "output_type": "stream",
     "text": [
      "Hello!\n"
     ]
    }
   ],
   "source": [
    "print(\"Hello!\")"
   ]
  },
  {
   "cell_type": "code",
   "execution_count": 2,
   "id": "badbca79",
   "metadata": {},
   "outputs": [
    {
     "name": "stdout",
     "output_type": "stream",
     "text": [
      "Python\n"
     ]
    }
   ],
   "source": [
    "print('Python')"
   ]
  },
  {
   "cell_type": "code",
   "execution_count": 3,
   "id": "180e716e",
   "metadata": {},
   "outputs": [],
   "source": [
    "a='''fghdsgfhhjgdhlshfjsd\n",
    "jjksfffffffffffffffgjk\n",
    "jkgggggggggj'''"
   ]
  },
  {
   "cell_type": "code",
   "execution_count": 4,
   "id": "981595bc",
   "metadata": {},
   "outputs": [
    {
     "data": {
      "text/plain": [
       "'fghdsgfhhjgdhlshfjsd\\njjksfffffffffffffffgjk\\njkgggggggggj'"
      ]
     },
     "execution_count": 4,
     "metadata": {},
     "output_type": "execute_result"
    }
   ],
   "source": [
    "a"
   ]
  },
  {
   "cell_type": "code",
   "execution_count": 5,
   "id": "43ffb607",
   "metadata": {},
   "outputs": [
    {
     "name": "stdout",
     "output_type": "stream",
     "text": [
      "anu's\n"
     ]
    }
   ],
   "source": [
    "print(\"anu's\")"
   ]
  },
  {
   "cell_type": "code",
   "execution_count": 8,
   "id": "33d1efa3",
   "metadata": {},
   "outputs": [
    {
     "name": "stdout",
     "output_type": "stream",
     "text": [
      "['False', 'None', 'True', '__peg_parser__', 'and', 'as', 'assert', 'async', 'await', 'break', 'class', 'continue', 'def', 'del', 'elif', 'else', 'except', 'finally', 'for', 'from', 'global', 'if', 'import', 'in', 'is', 'lambda', 'nonlocal', 'not', 'or', 'pass', 'raise', 'return', 'try', 'while', 'with', 'yield']\n"
     ]
    }
   ],
   "source": [
    "import keyword\n",
    "a=keyword.kwlist\n",
    "print(a)"
   ]
  },
  {
   "cell_type": "code",
   "execution_count": 10,
   "id": "68937dfd",
   "metadata": {},
   "outputs": [
    {
     "data": {
      "text/plain": [
       "36"
      ]
     },
     "execution_count": 10,
     "metadata": {},
     "output_type": "execute_result"
    }
   ],
   "source": [
    "len(a)"
   ]
  },
  {
   "cell_type": "code",
   "execution_count": 12,
   "id": "012dca40",
   "metadata": {},
   "outputs": [
    {
     "ename": "NameError",
     "evalue": "name 'A' is not defined",
     "output_type": "error",
     "traceback": [
      "\u001b[1;31m---------------------------------------------------------------------------\u001b[0m",
      "\u001b[1;31mNameError\u001b[0m                                 Traceback (most recent call last)",
      "Input \u001b[1;32mIn [12]\u001b[0m, in \u001b[0;36m<cell line: 2>\u001b[1;34m()\u001b[0m\n\u001b[0;32m      1\u001b[0m a\u001b[38;5;241m=\u001b[39m\u001b[38;5;241m10\u001b[39m\n\u001b[1;32m----> 2\u001b[0m \u001b[38;5;28mprint\u001b[39m(\u001b[43mA\u001b[49m)\n",
      "\u001b[1;31mNameError\u001b[0m: name 'A' is not defined"
     ]
    }
   ],
   "source": [
    "a=10\n",
    "print(A)"
   ]
  },
  {
   "cell_type": "code",
   "execution_count": 15,
   "id": "1b9dc403",
   "metadata": {},
   "outputs": [
    {
     "name": "stdout",
     "output_type": "stream",
     "text": [
      "10\n"
     ]
    }
   ],
   "source": [
    "if a>6:\n",
    "    print(a)\n",
    "else:\n",
    "    print(\"invalid\")\n"
   ]
  },
  {
   "cell_type": "markdown",
   "id": "bc3f279a",
   "metadata": {},
   "source": [
    "# Variable"
   ]
  },
  {
   "cell_type": "raw",
   "id": "140a8bab",
   "metadata": {},
   "source": [
    "->a storage container which holds some data\n",
    "->a memory location which will be assigned with some data or information or content\n",
    "-> = assignment operator, to assign values to the variable\n",
    "#syntax\n",
    "\n",
    "variable_name = value/content/data/info\n",
    "\n",
    "->literal--->the value or information that will be assigned to the variable"
   ]
  },
  {
   "cell_type": "code",
   "execution_count": 16,
   "id": "661b2521",
   "metadata": {},
   "outputs": [],
   "source": [
    "D = 100"
   ]
  },
  {
   "cell_type": "code",
   "execution_count": 17,
   "id": "f4bf6991",
   "metadata": {},
   "outputs": [
    {
     "name": "stdout",
     "output_type": "stream",
     "text": [
      "100\n"
     ]
    }
   ],
   "source": [
    "print(D)"
   ]
  },
  {
   "cell_type": "code",
   "execution_count": 18,
   "id": "ef4a4852",
   "metadata": {},
   "outputs": [
    {
     "data": {
      "text/plain": [
       "int"
      ]
     },
     "execution_count": 18,
     "metadata": {},
     "output_type": "execute_result"
    }
   ],
   "source": [
    "type(D)"
   ]
  },
  {
   "cell_type": "code",
   "execution_count": 32,
   "id": "68642723",
   "metadata": {},
   "outputs": [
    {
     "name": "stdout",
     "output_type": "stream",
     "text": [
      "apple\n"
     ]
    }
   ],
   "source": [
    "k = \"apple\"\n",
    "print(k)"
   ]
  },
  {
   "cell_type": "code",
   "execution_count": 21,
   "id": "2ce948e7",
   "metadata": {},
   "outputs": [
    {
     "data": {
      "text/plain": [
       "str"
      ]
     },
     "execution_count": 21,
     "metadata": {},
     "output_type": "execute_result"
    }
   ],
   "source": [
    "type(k)"
   ]
  },
  {
   "cell_type": "raw",
   "id": "622f8120",
   "metadata": {},
   "source": [
    "#Rules\n",
    "->Variable name can start with letter or underscore(_) but never starts with numbers\n",
    "->Keywords cannot be used as a variable name\n",
    "->No special characters or symbols will be allowed except underscore(_) in a variable name"
   ]
  },
  {
   "cell_type": "code",
   "execution_count": 22,
   "id": "4b536e38",
   "metadata": {},
   "outputs": [
    {
     "ename": "SyntaxError",
     "evalue": "invalid syntax (1817577028.py, line 1)",
     "output_type": "error",
     "traceback": [
      "\u001b[1;36m  Input \u001b[1;32mIn [22]\u001b[1;36m\u001b[0m\n\u001b[1;33m    2d=50\u001b[0m\n\u001b[1;37m     ^\u001b[0m\n\u001b[1;31mSyntaxError\u001b[0m\u001b[1;31m:\u001b[0m invalid syntax\n"
     ]
    }
   ],
   "source": [
    "2d=50\n",
    "print(2d)"
   ]
  },
  {
   "cell_type": "code",
   "execution_count": 23,
   "id": "cd9d14a3",
   "metadata": {},
   "outputs": [
    {
     "name": "stdout",
     "output_type": "stream",
     "text": [
      "20\n"
     ]
    }
   ],
   "source": [
    "d2=20\n",
    "print(d2)"
   ]
  },
  {
   "cell_type": "code",
   "execution_count": 24,
   "id": "e05702ea",
   "metadata": {},
   "outputs": [
    {
     "name": "stdout",
     "output_type": "stream",
     "text": [
      "4000\n"
     ]
    }
   ],
   "source": [
    "_g_k=4000\n",
    "print(_g_k)"
   ]
  },
  {
   "cell_type": "code",
   "execution_count": 25,
   "id": "c86e39a0",
   "metadata": {},
   "outputs": [
    {
     "ename": "SyntaxError",
     "evalue": "invalid syntax (473732423.py, line 1)",
     "output_type": "error",
     "traceback": [
      "\u001b[1;36m  Input \u001b[1;32mIn [25]\u001b[1;36m\u001b[0m\n\u001b[1;33m    def=45.9\u001b[0m\n\u001b[1;37m       ^\u001b[0m\n\u001b[1;31mSyntaxError\u001b[0m\u001b[1;31m:\u001b[0m invalid syntax\n"
     ]
    }
   ],
   "source": [
    "def=45.9\n",
    "print(def)"
   ]
  },
  {
   "cell_type": "code",
   "execution_count": 26,
   "id": "f98b841c",
   "metadata": {},
   "outputs": [
    {
     "ename": "SyntaxError",
     "evalue": "invalid syntax (2319899328.py, line 1)",
     "output_type": "error",
     "traceback": [
      "\u001b[1;36m  Input \u001b[1;32mIn [26]\u001b[1;36m\u001b[0m\n\u001b[1;33m    if=38\u001b[0m\n\u001b[1;37m      ^\u001b[0m\n\u001b[1;31mSyntaxError\u001b[0m\u001b[1;31m:\u001b[0m invalid syntax\n"
     ]
    }
   ],
   "source": [
    "if=38\n",
    "print(if)"
   ]
  },
  {
   "cell_type": "code",
   "execution_count": 27,
   "id": "f82f54e5",
   "metadata": {},
   "outputs": [
    {
     "ename": "SyntaxError",
     "evalue": "invalid syntax (3872682215.py, line 1)",
     "output_type": "error",
     "traceback": [
      "\u001b[1;36m  Input \u001b[1;32mIn [27]\u001b[1;36m\u001b[0m\n\u001b[1;33m    f$=60\u001b[0m\n\u001b[1;37m     ^\u001b[0m\n\u001b[1;31mSyntaxError\u001b[0m\u001b[1;31m:\u001b[0m invalid syntax\n"
     ]
    }
   ],
   "source": [
    "f$=60"
   ]
  },
  {
   "cell_type": "code",
   "execution_count": 28,
   "id": "2285f724",
   "metadata": {},
   "outputs": [
    {
     "ename": "SyntaxError",
     "evalue": "invalid syntax (851534646.py, line 1)",
     "output_type": "error",
     "traceback": [
      "\u001b[1;36m  Input \u001b[1;32mIn [28]\u001b[1;36m\u001b[0m\n\u001b[1;33m    @h=80\u001b[0m\n\u001b[1;37m      ^\u001b[0m\n\u001b[1;31mSyntaxError\u001b[0m\u001b[1;31m:\u001b[0m invalid syntax\n"
     ]
    }
   ],
   "source": [
    "@h=80"
   ]
  },
  {
   "cell_type": "code",
   "execution_count": 29,
   "id": "4b9584ec",
   "metadata": {},
   "outputs": [],
   "source": [
    "_j=80"
   ]
  },
  {
   "cell_type": "code",
   "execution_count": 30,
   "id": "c71451b7",
   "metadata": {},
   "outputs": [],
   "source": [
    "#g=10"
   ]
  },
  {
   "cell_type": "code",
   "execution_count": 31,
   "id": "c238a4eb",
   "metadata": {},
   "outputs": [
    {
     "ename": "NameError",
     "evalue": "name 'g' is not defined",
     "output_type": "error",
     "traceback": [
      "\u001b[1;31m---------------------------------------------------------------------------\u001b[0m",
      "\u001b[1;31mNameError\u001b[0m                                 Traceback (most recent call last)",
      "Input \u001b[1;32mIn [31]\u001b[0m, in \u001b[0;36m<cell line: 1>\u001b[1;34m()\u001b[0m\n\u001b[1;32m----> 1\u001b[0m \u001b[43mg\u001b[49m\n",
      "\u001b[1;31mNameError\u001b[0m: name 'g' is not defined"
     ]
    }
   ],
   "source": [
    "g#=10"
   ]
  },
  {
   "cell_type": "code",
   "execution_count": 33,
   "id": "f4a30932",
   "metadata": {},
   "outputs": [],
   "source": [
    "#Assigning the values to the variable\n",
    "#static way--->data is assigned manually while typing the program\n",
    "#Dynamic way(user defined)-->data will be assigned during the run time of the program\n",
    "#syntax of dynamic way\n",
    "\n",
    "variable_name=input()"
   ]
  },
  {
   "cell_type": "code",
   "execution_count": 4,
   "id": "0051ba5f",
   "metadata": {},
   "outputs": [
    {
     "name": "stdout",
     "output_type": "stream",
     "text": [
      "10\n"
     ]
    }
   ],
   "source": [
    "a=10\n",
    "print(a)"
   ]
  },
  {
   "cell_type": "code",
   "execution_count": 10,
   "id": "1094a493",
   "metadata": {},
   "outputs": [
    {
     "name": "stdout",
     "output_type": "stream",
     "text": [
      "50\n"
     ]
    }
   ],
   "source": [
    "a1=input()   #string data"
   ]
  },
  {
   "cell_type": "code",
   "execution_count": 11,
   "id": "a3568242",
   "metadata": {},
   "outputs": [
    {
     "name": "stdout",
     "output_type": "stream",
     "text": [
      "50\n"
     ]
    }
   ],
   "source": [
    "print(a1)"
   ]
  },
  {
   "cell_type": "code",
   "execution_count": 12,
   "id": "1dc6f545",
   "metadata": {},
   "outputs": [
    {
     "data": {
      "text/plain": [
       "str"
      ]
     },
     "execution_count": 12,
     "metadata": {},
     "output_type": "execute_result"
    }
   ],
   "source": [
    "type(a1)"
   ]
  },
  {
   "cell_type": "raw",
   "id": "409b7129",
   "metadata": {},
   "source": [
    "#type casting---->converting one data type into another data type\n",
    "input()------>string\n",
    "input()--->int(input())------------>str--->int"
   ]
  },
  {
   "cell_type": "code",
   "execution_count": 18,
   "id": "d25df7b4",
   "metadata": {},
   "outputs": [
    {
     "name": "stdout",
     "output_type": "stream",
     "text": [
      "Enter the value b:100\n"
     ]
    }
   ],
   "source": [
    "b=int(input(\"Enter the value b:\"))"
   ]
  },
  {
   "cell_type": "code",
   "execution_count": 19,
   "id": "44875146",
   "metadata": {},
   "outputs": [
    {
     "name": "stdout",
     "output_type": "stream",
     "text": [
      "100\n"
     ]
    }
   ],
   "source": [
    "print(b)"
   ]
  },
  {
   "cell_type": "code",
   "execution_count": 20,
   "id": "e3b86d99",
   "metadata": {},
   "outputs": [
    {
     "data": {
      "text/plain": [
       "int"
      ]
     },
     "execution_count": 20,
     "metadata": {},
     "output_type": "execute_result"
    }
   ],
   "source": [
    "type(b)"
   ]
  },
  {
   "cell_type": "code",
   "execution_count": 35,
   "id": "a521b02d",
   "metadata": {},
   "outputs": [
    {
     "name": "stdout",
     "output_type": "stream",
     "text": [
      "enter the data:6\n"
     ]
    }
   ],
   "source": [
    "c=float(input(\"enter the data:\"))"
   ]
  },
  {
   "cell_type": "code",
   "execution_count": 36,
   "id": "6415438e",
   "metadata": {},
   "outputs": [
    {
     "name": "stdout",
     "output_type": "stream",
     "text": [
      "6.0\n"
     ]
    }
   ],
   "source": [
    "print(c)"
   ]
  },
  {
   "cell_type": "code",
   "execution_count": 26,
   "id": "91698c8d",
   "metadata": {},
   "outputs": [
    {
     "data": {
      "text/plain": [
       "float"
      ]
     },
     "execution_count": 26,
     "metadata": {},
     "output_type": "execute_result"
    }
   ],
   "source": [
    "type(c)"
   ]
  },
  {
   "cell_type": "code",
   "execution_count": 30,
   "id": "4ff6a540",
   "metadata": {},
   "outputs": [
    {
     "name": "stdout",
     "output_type": "stream",
     "text": [
      "enter the data:\n"
     ]
    }
   ],
   "source": [
    "d=bool(input(\"enter the data:\"))"
   ]
  },
  {
   "cell_type": "code",
   "execution_count": 31,
   "id": "cb06adc1",
   "metadata": {},
   "outputs": [
    {
     "name": "stdout",
     "output_type": "stream",
     "text": [
      "False\n"
     ]
    }
   ],
   "source": [
    "print(d)"
   ]
  },
  {
   "cell_type": "code",
   "execution_count": 32,
   "id": "15277b78",
   "metadata": {},
   "outputs": [
    {
     "data": {
      "text/plain": [
       "bool"
      ]
     },
     "execution_count": 32,
     "metadata": {},
     "output_type": "execute_result"
    }
   ],
   "source": [
    "type(d)"
   ]
  },
  {
   "cell_type": "markdown",
   "id": "acef9e75",
   "metadata": {},
   "source": [
    "# Data types"
   ]
  },
  {
   "cell_type": "code",
   "execution_count": 37,
   "id": "24f8d420",
   "metadata": {},
   "outputs": [],
   "source": [
    "#type of data the variable has been assigned with\n",
    "\n",
    "#two types of data types\n",
    "\n",
    "#1--->Basic/universal data type----->int, float, bool, string\n",
    "\n",
    "#2--->collective data type--->collection of values or information we can able to store it in a single variable\n",
    "#                   a--------->Mutable data type--->info or value in a collection can be changed after the declaration\n",
    "#-------------------------------------------------->list,dict,set\n",
    "#                   b--------->Immutable data type--->info or value in a collection cannot be changed after the declaration\n",
    "#--------------------------------------------------->string,tuple"
   ]
  },
  {
   "cell_type": "code",
   "execution_count": 38,
   "id": "ad024945",
   "metadata": {},
   "outputs": [],
   "source": [
    "P=10,30,89.85,True,False,'python',200,45.8"
   ]
  },
  {
   "cell_type": "code",
   "execution_count": 39,
   "id": "d83870bd",
   "metadata": {},
   "outputs": [
    {
     "name": "stdout",
     "output_type": "stream",
     "text": [
      "(10, 30, 89.85, True, False, 'python', 200, 45.8)\n"
     ]
    }
   ],
   "source": [
    "print(P)"
   ]
  },
  {
   "cell_type": "code",
   "execution_count": 40,
   "id": "c416864b",
   "metadata": {},
   "outputs": [
    {
     "data": {
      "text/plain": [
       "tuple"
      ]
     },
     "execution_count": 40,
     "metadata": {},
     "output_type": "execute_result"
    }
   ],
   "source": [
    "type(P)"
   ]
  },
  {
   "cell_type": "code",
   "execution_count": null,
   "id": "7e39f917",
   "metadata": {},
   "outputs": [],
   "source": [
    "#Immutable data types"
   ]
  },
  {
   "cell_type": "raw",
   "id": "2e7bf6ba",
   "metadata": {},
   "source": [
    "#Tuple---->Tuple is a collective data types, we can able to store all heterogeneous values(different data types)\n",
    "\n",
    "#syntax\n",
    "\n",
    "variable_name=(values)\n",
    "\n",
    "or \n",
    "\n",
    "variable_name=values"
   ]
  },
  {
   "cell_type": "code",
   "execution_count": 41,
   "id": "7efe7ab1",
   "metadata": {},
   "outputs": [],
   "source": [
    "T=(10,30.8,46,89,'cherry')"
   ]
  },
  {
   "cell_type": "code",
   "execution_count": 42,
   "id": "4f45325d",
   "metadata": {},
   "outputs": [
    {
     "name": "stdout",
     "output_type": "stream",
     "text": [
      "(10, 30.8, 46, 89, 'cherry')\n"
     ]
    }
   ],
   "source": [
    "print(T)"
   ]
  },
  {
   "cell_type": "code",
   "execution_count": 43,
   "id": "4546d9ee",
   "metadata": {},
   "outputs": [
    {
     "data": {
      "text/plain": [
       "tuple"
      ]
     },
     "execution_count": 43,
     "metadata": {},
     "output_type": "execute_result"
    }
   ],
   "source": [
    "type(T)"
   ]
  },
  {
   "cell_type": "code",
   "execution_count": 55,
   "id": "f7ca6a26",
   "metadata": {},
   "outputs": [
    {
     "name": "stdout",
     "output_type": "stream",
     "text": [
      "(5, 9, 10, 'fine', 50.7, 'apple')\n"
     ]
    }
   ],
   "source": [
    "T1=5,9,10,'fine',50.7,\"apple\"\n",
    "print(T1)"
   ]
  },
  {
   "cell_type": "code",
   "execution_count": 56,
   "id": "899f39c2",
   "metadata": {},
   "outputs": [
    {
     "data": {
      "text/plain": [
       "tuple"
      ]
     },
     "execution_count": 56,
     "metadata": {},
     "output_type": "execute_result"
    }
   ],
   "source": [
    "type(T1)"
   ]
  },
  {
   "cell_type": "code",
   "execution_count": 52,
   "id": "9bc78f7c",
   "metadata": {},
   "outputs": [],
   "source": [
    "s=(20)"
   ]
  },
  {
   "cell_type": "code",
   "execution_count": 53,
   "id": "044e2b13",
   "metadata": {},
   "outputs": [
    {
     "name": "stdout",
     "output_type": "stream",
     "text": [
      "20\n"
     ]
    }
   ],
   "source": [
    "print(s)"
   ]
  },
  {
   "cell_type": "code",
   "execution_count": 54,
   "id": "f4ec0cca",
   "metadata": {},
   "outputs": [
    {
     "data": {
      "text/plain": [
       "int"
      ]
     },
     "execution_count": 54,
     "metadata": {},
     "output_type": "execute_result"
    }
   ],
   "source": [
    "type(s)"
   ]
  },
  {
   "cell_type": "code",
   "execution_count": 57,
   "id": "162ae509",
   "metadata": {},
   "outputs": [],
   "source": [
    "s='apple'"
   ]
  },
  {
   "cell_type": "code",
   "execution_count": 58,
   "id": "6394ea73",
   "metadata": {},
   "outputs": [
    {
     "name": "stdout",
     "output_type": "stream",
     "text": [
      "apple\n"
     ]
    }
   ],
   "source": [
    "print(s)"
   ]
  },
  {
   "cell_type": "code",
   "execution_count": 59,
   "id": "262fd86e",
   "metadata": {},
   "outputs": [
    {
     "data": {
      "text/plain": [
       "str"
      ]
     },
     "execution_count": 59,
     "metadata": {},
     "output_type": "execute_result"
    }
   ],
   "source": [
    "type(s)"
   ]
  },
  {
   "cell_type": "code",
   "execution_count": 62,
   "id": "df83b1b6",
   "metadata": {},
   "outputs": [
    {
     "name": "stdout",
     "output_type": "stream",
     "text": [
      "(30, 45.5, 'apple', 30)\n"
     ]
    }
   ],
   "source": [
    "T1= 30, 45.5, \"apple\" ,30\n",
    "print(T1)"
   ]
  },
  {
   "cell_type": "code",
   "execution_count": 63,
   "id": "146fcbb8",
   "metadata": {},
   "outputs": [
    {
     "data": {
      "text/plain": [
       "tuple"
      ]
     },
     "execution_count": 63,
     "metadata": {},
     "output_type": "execute_result"
    }
   ],
   "source": [
    "type(T1)"
   ]
  },
  {
   "cell_type": "code",
   "execution_count": 64,
   "id": "ddcab85d",
   "metadata": {},
   "outputs": [],
   "source": [
    "s1='Python programming'"
   ]
  },
  {
   "cell_type": "code",
   "execution_count": 65,
   "id": "99524a6d",
   "metadata": {},
   "outputs": [
    {
     "name": "stdout",
     "output_type": "stream",
     "text": [
      "Python programming\n"
     ]
    }
   ],
   "source": [
    "print(s1)"
   ]
  },
  {
   "cell_type": "code",
   "execution_count": 66,
   "id": "a3bdf5aa",
   "metadata": {},
   "outputs": [
    {
     "data": {
      "text/plain": [
       "str"
      ]
     },
     "execution_count": 66,
     "metadata": {},
     "output_type": "execute_result"
    }
   ],
   "source": [
    "type(s1)"
   ]
  },
  {
   "cell_type": "markdown",
   "id": "9db0ed44",
   "metadata": {},
   "source": [
    "# Indexing and slicing"
   ]
  },
  {
   "cell_type": "raw",
   "id": "1bff4cb0",
   "metadata": {},
   "source": [
    "#indexing\n",
    "\n",
    "+ve indexing----->starts with 0 (left to right)\n",
    "-ve indexing----->starts with -1 (right to left)\n",
    "\n",
    "#slicing\n",
    "\n",
    "+ve slicing----->left to right\n",
    "-ve slicing----->left to right"
   ]
  },
  {
   "cell_type": "raw",
   "id": "be96d976",
   "metadata": {},
   "source": [
    "#index---->positional value of an data inside a collection \n",
    "#indexing---->the process of extracting or accessing an individual value from a collection\n",
    "\n",
    "#indexing syntax\n",
    "\n",
    "variable_name[index_value/positional_value]"
   ]
  },
  {
   "cell_type": "code",
   "execution_count": 2,
   "id": "280303b8",
   "metadata": {},
   "outputs": [
    {
     "name": "stdout",
     "output_type": "stream",
     "text": [
      "(30, 89, 70.6, False, 'data')\n"
     ]
    }
   ],
   "source": [
    "I=30,89,70.6,False,'data'\n",
    "print(I)"
   ]
  },
  {
   "cell_type": "code",
   "execution_count": 3,
   "id": "a0e4b507",
   "metadata": {},
   "outputs": [
    {
     "data": {
      "text/plain": [
       "89"
      ]
     },
     "execution_count": 3,
     "metadata": {},
     "output_type": "execute_result"
    }
   ],
   "source": [
    "I[1]"
   ]
  },
  {
   "cell_type": "code",
   "execution_count": 4,
   "id": "cbeb04ca",
   "metadata": {},
   "outputs": [
    {
     "data": {
      "text/plain": [
       "89"
      ]
     },
     "execution_count": 4,
     "metadata": {},
     "output_type": "execute_result"
    }
   ],
   "source": [
    "I[-4]"
   ]
  },
  {
   "cell_type": "code",
   "execution_count": 5,
   "id": "9959cdaa",
   "metadata": {},
   "outputs": [],
   "source": [
    "s=45,89,34.9,80"
   ]
  },
  {
   "cell_type": "code",
   "execution_count": 6,
   "id": "13e822be",
   "metadata": {},
   "outputs": [
    {
     "name": "stdout",
     "output_type": "stream",
     "text": [
      "(45, 89, 34.9, 80)\n"
     ]
    }
   ],
   "source": [
    "print(s)"
   ]
  },
  {
   "cell_type": "code",
   "execution_count": 7,
   "id": "4db2512b",
   "metadata": {},
   "outputs": [
    {
     "data": {
      "text/plain": [
       "34.9"
      ]
     },
     "execution_count": 7,
     "metadata": {},
     "output_type": "execute_result"
    }
   ],
   "source": [
    "s[-2]"
   ]
  },
  {
   "cell_type": "raw",
   "id": "e180d4a8",
   "metadata": {},
   "source": [
    "#slicing---->If we want to extract more than one value from the collection \n",
    "#----------->accessing multiple values in a sequence from a collection\n",
    "\n",
    "#syntax of slicing\n",
    "\n",
    "variable_name[start_index:end_index+1]"
   ]
  },
  {
   "cell_type": "code",
   "execution_count": 12,
   "id": "89f04ffe",
   "metadata": {},
   "outputs": [
    {
     "name": "stdout",
     "output_type": "stream",
     "text": [
      "(30, 89, 70.6, False, 'data')\n"
     ]
    }
   ],
   "source": [
    "print(I)"
   ]
  },
  {
   "cell_type": "code",
   "execution_count": 13,
   "id": "e034a1e3",
   "metadata": {},
   "outputs": [
    {
     "data": {
      "text/plain": [
       "(30, 89, 70.6, False)"
      ]
     },
     "execution_count": 13,
     "metadata": {},
     "output_type": "execute_result"
    }
   ],
   "source": [
    "I[0:4]"
   ]
  },
  {
   "cell_type": "code",
   "execution_count": 14,
   "id": "1b8aee27",
   "metadata": {},
   "outputs": [
    {
     "data": {
      "text/plain": [
       "(89, 70.6, False, 'data')"
      ]
     },
     "execution_count": 14,
     "metadata": {},
     "output_type": "execute_result"
    }
   ],
   "source": [
    "I[1:5]"
   ]
  },
  {
   "cell_type": "code",
   "execution_count": 15,
   "id": "c82e1f46",
   "metadata": {},
   "outputs": [
    {
     "data": {
      "text/plain": [
       "(89, 70.6, False, 'data')"
      ]
     },
     "execution_count": 15,
     "metadata": {},
     "output_type": "execute_result"
    }
   ],
   "source": [
    "I[1:]"
   ]
  },
  {
   "cell_type": "code",
   "execution_count": 16,
   "id": "84f3b259",
   "metadata": {},
   "outputs": [
    {
     "data": {
      "text/plain": [
       "(30, 89, 70.6)"
      ]
     },
     "execution_count": 16,
     "metadata": {},
     "output_type": "execute_result"
    }
   ],
   "source": [
    "I[0:3]"
   ]
  },
  {
   "cell_type": "code",
   "execution_count": 17,
   "id": "25bf2abf",
   "metadata": {},
   "outputs": [
    {
     "data": {
      "text/plain": [
       "(30, 89, 70.6)"
      ]
     },
     "execution_count": 17,
     "metadata": {},
     "output_type": "execute_result"
    }
   ],
   "source": [
    "I[:3]"
   ]
  },
  {
   "cell_type": "code",
   "execution_count": 18,
   "id": "1ad43944",
   "metadata": {},
   "outputs": [],
   "source": [
    "#variable_name[start_index:end_index+1:step_length+1]"
   ]
  },
  {
   "cell_type": "code",
   "execution_count": 19,
   "id": "c8674d05",
   "metadata": {},
   "outputs": [
    {
     "data": {
      "text/plain": [
       "(30, 89, 70.6, False, 'data')"
      ]
     },
     "execution_count": 19,
     "metadata": {},
     "output_type": "execute_result"
    }
   ],
   "source": [
    "I[:]"
   ]
  },
  {
   "cell_type": "code",
   "execution_count": 20,
   "id": "42cf3de8",
   "metadata": {},
   "outputs": [
    {
     "data": {
      "text/plain": [
       "(30, 89, 70.6, False, 'data')"
      ]
     },
     "execution_count": 20,
     "metadata": {},
     "output_type": "execute_result"
    }
   ],
   "source": [
    "I[::1]"
   ]
  },
  {
   "cell_type": "code",
   "execution_count": 21,
   "id": "cbda8686",
   "metadata": {},
   "outputs": [
    {
     "data": {
      "text/plain": [
       "(30, 70.6, 'data')"
      ]
     },
     "execution_count": 21,
     "metadata": {},
     "output_type": "execute_result"
    }
   ],
   "source": [
    "I[::2]"
   ]
  },
  {
   "cell_type": "code",
   "execution_count": 22,
   "id": "05d23a79",
   "metadata": {},
   "outputs": [
    {
     "data": {
      "text/plain": [
       "(89, 'data')"
      ]
     },
     "execution_count": 22,
     "metadata": {},
     "output_type": "execute_result"
    }
   ],
   "source": [
    "I[1::3]"
   ]
  },
  {
   "cell_type": "code",
   "execution_count": 23,
   "id": "effc2fcf",
   "metadata": {},
   "outputs": [
    {
     "name": "stdout",
     "output_type": "stream",
     "text": [
      "(30, 89, 70.6, False, 'data')\n"
     ]
    }
   ],
   "source": [
    "print(I)"
   ]
  },
  {
   "cell_type": "code",
   "execution_count": 24,
   "id": "9d2db67d",
   "metadata": {},
   "outputs": [
    {
     "data": {
      "text/plain": [
       "(30, 89, 70.6)"
      ]
     },
     "execution_count": 24,
     "metadata": {},
     "output_type": "execute_result"
    }
   ],
   "source": [
    "I[-5:-2]"
   ]
  },
  {
   "cell_type": "code",
   "execution_count": 25,
   "id": "44c0cd88",
   "metadata": {},
   "outputs": [
    {
     "data": {
      "text/plain": [
       "(30, 89, 70.6, False, 'data')"
      ]
     },
     "execution_count": 25,
     "metadata": {},
     "output_type": "execute_result"
    }
   ],
   "source": [
    "I[-5:]"
   ]
  },
  {
   "cell_type": "code",
   "execution_count": 26,
   "id": "4a042b90",
   "metadata": {},
   "outputs": [],
   "source": [
    "#Immutable data types"
   ]
  },
  {
   "cell_type": "code",
   "execution_count": 27,
   "id": "3dce5b70",
   "metadata": {},
   "outputs": [
    {
     "name": "stdout",
     "output_type": "stream",
     "text": [
      "(5, 8, 10, 'abc', False, 9.67)\n"
     ]
    }
   ],
   "source": [
    "t1=(5,8,10,'abc',False,9.67)\n",
    "print(t1)"
   ]
  },
  {
   "cell_type": "code",
   "execution_count": 28,
   "id": "c0d83526",
   "metadata": {},
   "outputs": [
    {
     "data": {
      "text/plain": [
       "10"
      ]
     },
     "execution_count": 28,
     "metadata": {},
     "output_type": "execute_result"
    }
   ],
   "source": [
    "t1[2]"
   ]
  },
  {
   "cell_type": "code",
   "execution_count": 29,
   "id": "4308ff7e",
   "metadata": {},
   "outputs": [
    {
     "ename": "TypeError",
     "evalue": "'tuple' object does not support item assignment",
     "output_type": "error",
     "traceback": [
      "\u001b[1;31m---------------------------------------------------------------------------\u001b[0m",
      "\u001b[1;31mTypeError\u001b[0m                                 Traceback (most recent call last)",
      "Input \u001b[1;32mIn [29]\u001b[0m, in \u001b[0;36m<cell line: 1>\u001b[1;34m()\u001b[0m\n\u001b[1;32m----> 1\u001b[0m t1[\u001b[38;5;241m2\u001b[39m]\u001b[38;5;241m=\u001b[39m\u001b[38;5;241m100\u001b[39m\n",
      "\u001b[1;31mTypeError\u001b[0m: 'tuple' object does not support item assignment"
     ]
    }
   ],
   "source": [
    "t1[2]=100"
   ]
  },
  {
   "cell_type": "code",
   "execution_count": 30,
   "id": "8e28ab10",
   "metadata": {},
   "outputs": [
    {
     "data": {
      "text/plain": [
       "'abc'"
      ]
     },
     "execution_count": 30,
     "metadata": {},
     "output_type": "execute_result"
    }
   ],
   "source": [
    "t1[-3]"
   ]
  },
  {
   "cell_type": "code",
   "execution_count": 31,
   "id": "b0ef9c16",
   "metadata": {},
   "outputs": [
    {
     "ename": "TypeError",
     "evalue": "'tuple' object does not support item assignment",
     "output_type": "error",
     "traceback": [
      "\u001b[1;31m---------------------------------------------------------------------------\u001b[0m",
      "\u001b[1;31mTypeError\u001b[0m                                 Traceback (most recent call last)",
      "Input \u001b[1;32mIn [31]\u001b[0m, in \u001b[0;36m<cell line: 1>\u001b[1;34m()\u001b[0m\n\u001b[1;32m----> 1\u001b[0m t1[\u001b[38;5;241m-\u001b[39m\u001b[38;5;241m3\u001b[39m]\u001b[38;5;241m=\u001b[39m\u001b[38;5;124m'\u001b[39m\u001b[38;5;124mefg\u001b[39m\u001b[38;5;124m'\u001b[39m\n",
      "\u001b[1;31mTypeError\u001b[0m: 'tuple' object does not support item assignment"
     ]
    }
   ],
   "source": [
    "t1[-3]='efg'"
   ]
  },
  {
   "cell_type": "code",
   "execution_count": 32,
   "id": "248fa1b1",
   "metadata": {},
   "outputs": [
    {
     "name": "stdout",
     "output_type": "stream",
     "text": [
      "Python\n"
     ]
    }
   ],
   "source": [
    "s1=\"Python\"\n",
    "print(s1)"
   ]
  },
  {
   "cell_type": "code",
   "execution_count": 33,
   "id": "c5c6f00f",
   "metadata": {},
   "outputs": [
    {
     "data": {
      "text/plain": [
       "'P'"
      ]
     },
     "execution_count": 33,
     "metadata": {},
     "output_type": "execute_result"
    }
   ],
   "source": [
    "s1[0]"
   ]
  },
  {
   "cell_type": "code",
   "execution_count": 37,
   "id": "0594f9ab",
   "metadata": {},
   "outputs": [
    {
     "ename": "TypeError",
     "evalue": "'str' object does not support item assignment",
     "output_type": "error",
     "traceback": [
      "\u001b[1;31m---------------------------------------------------------------------------\u001b[0m",
      "\u001b[1;31mTypeError\u001b[0m                                 Traceback (most recent call last)",
      "Input \u001b[1;32mIn [37]\u001b[0m, in \u001b[0;36m<cell line: 1>\u001b[1;34m()\u001b[0m\n\u001b[1;32m----> 1\u001b[0m s1[\u001b[38;5;241m0\u001b[39m]\u001b[38;5;241m=\u001b[39m\u001b[38;5;124m'\u001b[39m\u001b[38;5;124mH\u001b[39m\u001b[38;5;124m'\u001b[39m\n",
      "\u001b[1;31mTypeError\u001b[0m: 'str' object does not support item assignment"
     ]
    }
   ],
   "source": [
    "s1[0]='H'"
   ]
  },
  {
   "cell_type": "code",
   "execution_count": 34,
   "id": "f9af6127",
   "metadata": {},
   "outputs": [
    {
     "data": {
      "text/plain": [
       "'o'"
      ]
     },
     "execution_count": 34,
     "metadata": {},
     "output_type": "execute_result"
    }
   ],
   "source": [
    "s1[-2]"
   ]
  },
  {
   "cell_type": "code",
   "execution_count": 35,
   "id": "06d913be",
   "metadata": {},
   "outputs": [
    {
     "data": {
      "text/plain": [
       "'y'"
      ]
     },
     "execution_count": 35,
     "metadata": {},
     "output_type": "execute_result"
    }
   ],
   "source": [
    "s1[-5]"
   ]
  },
  {
   "cell_type": "code",
   "execution_count": 36,
   "id": "92472fc0",
   "metadata": {},
   "outputs": [
    {
     "ename": "TypeError",
     "evalue": "'str' object does not support item assignment",
     "output_type": "error",
     "traceback": [
      "\u001b[1;31m---------------------------------------------------------------------------\u001b[0m",
      "\u001b[1;31mTypeError\u001b[0m                                 Traceback (most recent call last)",
      "Input \u001b[1;32mIn [36]\u001b[0m, in \u001b[0;36m<cell line: 1>\u001b[1;34m()\u001b[0m\n\u001b[1;32m----> 1\u001b[0m s1[\u001b[38;5;241m-\u001b[39m\u001b[38;5;241m5\u001b[39m]\u001b[38;5;241m=\u001b[39m\u001b[38;5;124m'\u001b[39m\u001b[38;5;124ml\u001b[39m\u001b[38;5;124m'\u001b[39m\n",
      "\u001b[1;31mTypeError\u001b[0m: 'str' object does not support item assignment"
     ]
    }
   ],
   "source": [
    "s1[-5]='l'"
   ]
  },
  {
   "cell_type": "code",
   "execution_count": 38,
   "id": "947797a0",
   "metadata": {},
   "outputs": [],
   "source": [
    "#Mutable"
   ]
  },
  {
   "cell_type": "raw",
   "id": "6444ea29",
   "metadata": {},
   "source": [
    "#list\n",
    "\n",
    "#syntax\n",
    "\n",
    "variable_name=[values]"
   ]
  },
  {
   "cell_type": "code",
   "execution_count": 39,
   "id": "f9f1ca90",
   "metadata": {},
   "outputs": [
    {
     "name": "stdout",
     "output_type": "stream",
     "text": [
      "[56, 90.67, 45, 'diversity', False, True, 20]\n"
     ]
    }
   ],
   "source": [
    "l1=[56,90.67,45,'diversity',False,True,20]\n",
    "print(l1)"
   ]
  },
  {
   "cell_type": "code",
   "execution_count": 40,
   "id": "ec88586c",
   "metadata": {},
   "outputs": [
    {
     "data": {
      "text/plain": [
       "list"
      ]
     },
     "execution_count": 40,
     "metadata": {},
     "output_type": "execute_result"
    }
   ],
   "source": [
    "type(l1)"
   ]
  },
  {
   "cell_type": "code",
   "execution_count": 41,
   "id": "d22dc0f4",
   "metadata": {},
   "outputs": [
    {
     "data": {
      "text/plain": [
       "90.67"
      ]
     },
     "execution_count": 41,
     "metadata": {},
     "output_type": "execute_result"
    }
   ],
   "source": [
    "l1[1]"
   ]
  },
  {
   "cell_type": "code",
   "execution_count": 42,
   "id": "2bb2603b",
   "metadata": {},
   "outputs": [],
   "source": [
    "l1[1]='Divya'"
   ]
  },
  {
   "cell_type": "code",
   "execution_count": 43,
   "id": "32390766",
   "metadata": {},
   "outputs": [
    {
     "name": "stdout",
     "output_type": "stream",
     "text": [
      "[56, 'Divya', 45, 'diversity', False, True, 20]\n"
     ]
    }
   ],
   "source": [
    "print(l1)"
   ]
  },
  {
   "cell_type": "code",
   "execution_count": 44,
   "id": "6dbddb06",
   "metadata": {},
   "outputs": [],
   "source": [
    "l1[3]=200"
   ]
  },
  {
   "cell_type": "code",
   "execution_count": 45,
   "id": "e742c0e8",
   "metadata": {},
   "outputs": [
    {
     "name": "stdout",
     "output_type": "stream",
     "text": [
      "[56, 'Divya', 45, 200, False, True, 20]\n"
     ]
    }
   ],
   "source": [
    "print(l1)"
   ]
  },
  {
   "cell_type": "code",
   "execution_count": 46,
   "id": "f53975f2",
   "metadata": {},
   "outputs": [],
   "source": [
    "l1.append(57)"
   ]
  },
  {
   "cell_type": "code",
   "execution_count": 47,
   "id": "b9744765",
   "metadata": {},
   "outputs": [
    {
     "name": "stdout",
     "output_type": "stream",
     "text": [
      "[56, 'Divya', 45, 200, False, True, 20, 57]\n"
     ]
    }
   ],
   "source": [
    "print(l1)"
   ]
  },
  {
   "cell_type": "code",
   "execution_count": 48,
   "id": "cc2f1948",
   "metadata": {},
   "outputs": [],
   "source": [
    "l2=[1,2,3]"
   ]
  },
  {
   "cell_type": "code",
   "execution_count": 49,
   "id": "d1b1d14f",
   "metadata": {},
   "outputs": [],
   "source": [
    "l1.append(l2)"
   ]
  },
  {
   "cell_type": "code",
   "execution_count": 50,
   "id": "d41b6ac9",
   "metadata": {},
   "outputs": [
    {
     "name": "stdout",
     "output_type": "stream",
     "text": [
      "[56, 'Divya', 45, 200, False, True, 20, 57, [1, 2, 3]]\n"
     ]
    }
   ],
   "source": [
    "print(l1)"
   ]
  },
  {
   "cell_type": "code",
   "execution_count": 51,
   "id": "7803cc87",
   "metadata": {},
   "outputs": [],
   "source": [
    "l1.insert(2,'java')  #variable_name.insert(index_no,value)"
   ]
  },
  {
   "cell_type": "code",
   "execution_count": 52,
   "id": "da99edd2",
   "metadata": {},
   "outputs": [
    {
     "name": "stdout",
     "output_type": "stream",
     "text": [
      "[56, 'Divya', 'java', 45, 200, False, True, 20, 57, [1, 2, 3]]\n"
     ]
    }
   ],
   "source": [
    "print(l1)"
   ]
  },
  {
   "cell_type": "code",
   "execution_count": 53,
   "id": "d6c3cb14",
   "metadata": {},
   "outputs": [],
   "source": [
    "#dictionary"
   ]
  },
  {
   "cell_type": "raw",
   "id": "8793c70e",
   "metadata": {},
   "source": [
    "set of heterogenous values, store the values in a key:value pair\n",
    "\n",
    "#syntax\n",
    "\n",
    "variable_name={key1:value1, key2:value2, key3:value3, . . . . .}"
   ]
  },
  {
   "cell_type": "code",
   "execution_count": 54,
   "id": "464cd9d1",
   "metadata": {},
   "outputs": [
    {
     "name": "stdout",
     "output_type": "stream",
     "text": [
      "{10: 'Aditya', 'pooja': 'intellipaat', 10.5: 30000}\n"
     ]
    }
   ],
   "source": [
    "D1={10:'Aditya','pooja':'intellipaat',10.5:30000}\n",
    "print(D1)"
   ]
  },
  {
   "cell_type": "code",
   "execution_count": 55,
   "id": "c71c7363",
   "metadata": {},
   "outputs": [
    {
     "data": {
      "text/plain": [
       "dict_keys([10, 'pooja', 10.5])"
      ]
     },
     "execution_count": 55,
     "metadata": {},
     "output_type": "execute_result"
    }
   ],
   "source": [
    "D1.keys()"
   ]
  },
  {
   "cell_type": "code",
   "execution_count": 56,
   "id": "28ab41eb",
   "metadata": {},
   "outputs": [
    {
     "data": {
      "text/plain": [
       "dict_values(['Aditya', 'intellipaat', 30000])"
      ]
     },
     "execution_count": 56,
     "metadata": {},
     "output_type": "execute_result"
    }
   ],
   "source": [
    "D1.values()"
   ]
  },
  {
   "cell_type": "code",
   "execution_count": 57,
   "id": "26fa5528",
   "metadata": {},
   "outputs": [
    {
     "data": {
      "text/plain": [
       "dict_items([(10, 'Aditya'), ('pooja', 'intellipaat'), (10.5, 30000)])"
      ]
     },
     "execution_count": 57,
     "metadata": {},
     "output_type": "execute_result"
    }
   ],
   "source": [
    "D1.items()"
   ]
  },
  {
   "cell_type": "code",
   "execution_count": 58,
   "id": "6c496a32",
   "metadata": {},
   "outputs": [
    {
     "data": {
      "text/plain": [
       "'intellipaat'"
      ]
     },
     "execution_count": 58,
     "metadata": {},
     "output_type": "execute_result"
    }
   ],
   "source": [
    "D1['pooja']"
   ]
  },
  {
   "cell_type": "code",
   "execution_count": 59,
   "id": "401ee8fc",
   "metadata": {},
   "outputs": [
    {
     "data": {
      "text/plain": [
       "'Aditya'"
      ]
     },
     "execution_count": 59,
     "metadata": {},
     "output_type": "execute_result"
    }
   ],
   "source": [
    "D1[10]"
   ]
  },
  {
   "cell_type": "code",
   "execution_count": 60,
   "id": "8b1480d4",
   "metadata": {},
   "outputs": [
    {
     "ename": "KeyError",
     "evalue": "'Aditya'",
     "output_type": "error",
     "traceback": [
      "\u001b[1;31m---------------------------------------------------------------------------\u001b[0m",
      "\u001b[1;31mKeyError\u001b[0m                                  Traceback (most recent call last)",
      "Input \u001b[1;32mIn [60]\u001b[0m, in \u001b[0;36m<cell line: 1>\u001b[1;34m()\u001b[0m\n\u001b[1;32m----> 1\u001b[0m \u001b[43mD1\u001b[49m\u001b[43m[\u001b[49m\u001b[38;5;124;43m'\u001b[39;49m\u001b[38;5;124;43mAditya\u001b[39;49m\u001b[38;5;124;43m'\u001b[39;49m\u001b[43m]\u001b[49m\n",
      "\u001b[1;31mKeyError\u001b[0m: 'Aditya'"
     ]
    }
   ],
   "source": [
    "D1['Aditya']"
   ]
  },
  {
   "cell_type": "code",
   "execution_count": 61,
   "id": "5cb16a3d",
   "metadata": {},
   "outputs": [
    {
     "data": {
      "text/plain": [
       "'Aditya'"
      ]
     },
     "execution_count": 61,
     "metadata": {},
     "output_type": "execute_result"
    }
   ],
   "source": [
    "D1[10]"
   ]
  },
  {
   "cell_type": "code",
   "execution_count": 62,
   "id": "e184f0de",
   "metadata": {},
   "outputs": [],
   "source": [
    "D1[10]='sandeep'"
   ]
  },
  {
   "cell_type": "code",
   "execution_count": 63,
   "id": "026bf92e",
   "metadata": {},
   "outputs": [
    {
     "name": "stdout",
     "output_type": "stream",
     "text": [
      "{10: 'sandeep', 'pooja': 'intellipaat', 10.5: 30000}\n"
     ]
    }
   ],
   "source": [
    "print(D1)"
   ]
  },
  {
   "cell_type": "code",
   "execution_count": 66,
   "id": "317b487b",
   "metadata": {},
   "outputs": [],
   "source": [
    "D1['e_id']=[15,40,20]"
   ]
  },
  {
   "cell_type": "code",
   "execution_count": 67,
   "id": "3ddfe0dd",
   "metadata": {},
   "outputs": [
    {
     "name": "stdout",
     "output_type": "stream",
     "text": [
      "{10: 'sandeep', 'pooja': 'intellipaat', 10.5: 30000, 'e_id': [15, 40, 20]}\n"
     ]
    }
   ],
   "source": [
    "print(D1)"
   ]
  },
  {
   "cell_type": "code",
   "execution_count": 68,
   "id": "c2132359",
   "metadata": {},
   "outputs": [
    {
     "data": {
      "text/plain": [
       "[15, 40, 20]"
      ]
     },
     "execution_count": 68,
     "metadata": {},
     "output_type": "execute_result"
    }
   ],
   "source": [
    "D1.pop('e_id')"
   ]
  },
  {
   "cell_type": "code",
   "execution_count": 69,
   "id": "2de88a97",
   "metadata": {},
   "outputs": [
    {
     "name": "stdout",
     "output_type": "stream",
     "text": [
      "{10: 'sandeep', 'pooja': 'intellipaat', 10.5: 30000}\n"
     ]
    }
   ],
   "source": [
    "print(D1)"
   ]
  },
  {
   "cell_type": "code",
   "execution_count": 70,
   "id": "05f45dad",
   "metadata": {},
   "outputs": [],
   "source": [
    "#set"
   ]
  },
  {
   "cell_type": "raw",
   "id": "bb96b3f6",
   "metadata": {},
   "source": [
    "->unordered,unindexed list of unique values\n",
    "\n",
    "->set is used to remove the duplicates\n",
    "\n",
    "#syntax\n",
    "\n",
    "variable_name={values}"
   ]
  },
  {
   "cell_type": "code",
   "execution_count": 72,
   "id": "fa8a8f1d",
   "metadata": {},
   "outputs": [
    {
     "name": "stdout",
     "output_type": "stream",
     "text": [
      "{False, 1, 2, 67, 'sam', 7.8, 'john', 89.45}\n"
     ]
    }
   ],
   "source": [
    "S={1,67,7.8,2,'john',1,89.45,67,'sam','john',67,7.8,False,2}\n",
    "print(S)"
   ]
  },
  {
   "cell_type": "code",
   "execution_count": 73,
   "id": "6c2b69f0",
   "metadata": {},
   "outputs": [],
   "source": [
    "S.add(30)"
   ]
  },
  {
   "cell_type": "code",
   "execution_count": 74,
   "id": "974bd9e9",
   "metadata": {},
   "outputs": [
    {
     "name": "stdout",
     "output_type": "stream",
     "text": [
      "{False, 1, 2, 67, 'sam', 7.8, 'john', 89.45, 30}\n"
     ]
    }
   ],
   "source": [
    "print(S)"
   ]
  },
  {
   "cell_type": "code",
   "execution_count": 75,
   "id": "37ea825d",
   "metadata": {},
   "outputs": [],
   "source": [
    "S.remove('sam')"
   ]
  },
  {
   "cell_type": "code",
   "execution_count": 76,
   "id": "07b705fb",
   "metadata": {},
   "outputs": [
    {
     "name": "stdout",
     "output_type": "stream",
     "text": [
      "{False, 1, 2, 67, 7.8, 'john', 89.45, 30}\n"
     ]
    }
   ],
   "source": [
    "print(S)"
   ]
  },
  {
   "cell_type": "markdown",
   "id": "6e868ad1",
   "metadata": {},
   "source": [
    "# Conditional statements"
   ]
  },
  {
   "cell_type": "raw",
   "id": "32891d2d",
   "metadata": {},
   "source": [
    "->statements executed based on the condition is satisfied\n",
    "->statements that are used to evaluate a condition is true or false"
   ]
  },
  {
   "cell_type": "raw",
   "id": "ecc96921",
   "metadata": {},
   "source": [
    "#simple if--->we will write a single condition and only true statement\n",
    "\n",
    "#syntax\n",
    "\n",
    "if condition:\n",
    "    statement/task"
   ]
  },
  {
   "cell_type": "code",
   "execution_count": 78,
   "id": "dd7603ab",
   "metadata": {},
   "outputs": [
    {
     "name": "stdout",
     "output_type": "stream",
     "text": [
      "enter the data:36\n"
     ]
    }
   ],
   "source": [
    "a=int(input(\"enter the data:\"))\n",
    "if a<10:\n",
    "    print(\"a is a lesser number than 10\")"
   ]
  },
  {
   "cell_type": "raw",
   "id": "535caef0",
   "metadata": {},
   "source": [
    "#if else\n",
    "\n",
    "#syntax\n",
    "\n",
    "if condition:\n",
    "    True statement\n",
    "else:\n",
    "    False statement\n",
    "  "
   ]
  },
  {
   "cell_type": "code",
   "execution_count": 80,
   "id": "07247dd7",
   "metadata": {},
   "outputs": [
    {
     "name": "stdout",
     "output_type": "stream",
     "text": [
      "enter the value of x:6\n",
      "enter the value of y:9\n",
      "not equal\n"
     ]
    }
   ],
   "source": [
    "x=int(input(\"enter the value of x:\"))\n",
    "y=int(input(\"enter the value of y:\"))\n",
    "if(x==y):\n",
    "    print(\"equal\")\n",
    "else:\n",
    "    print(\"not equal\")"
   ]
  },
  {
   "cell_type": "raw",
   "id": "1fc124b1",
   "metadata": {},
   "source": [
    "#if elif else\n",
    "\n",
    "#elif--->else+if\n",
    "\n",
    "#syntax\n",
    "\n",
    "if condition1:\n",
    "    statement1\n",
    "elif condition2:\n",
    "    statement2\n",
    "elif condition3:\n",
    "    statement3\n",
    ".\n",
    ".\n",
    ".\n",
    "else:\n",
    "    statement n"
   ]
  },
  {
   "cell_type": "code",
   "execution_count": 82,
   "id": "ba717b3c",
   "metadata": {},
   "outputs": [
    {
     "name": "stdout",
     "output_type": "stream",
     "text": [
      "b is greater than a\n"
     ]
    }
   ],
   "source": [
    "a = 200\n",
    "b = 33\n",
    "if a > b:\n",
    "    print(\"b is greater than a\")\n",
    "elif a == b:\n",
    "    print(\"a and b are equal\")\n",
    "else:\n",
    "    print(\"a is greater than b\")\n"
   ]
  },
  {
   "cell_type": "markdown",
   "id": "f238e57b",
   "metadata": {},
   "source": [
    "# Looping statements"
   ]
  },
  {
   "cell_type": "raw",
   "id": "e56ded94",
   "metadata": {},
   "source": [
    "->statements that will allow to perform the same set of task multiple number of times based on condition"
   ]
  },
  {
   "cell_type": "raw",
   "id": "32f7598b",
   "metadata": {},
   "source": [
    "#for loop--->range(start,end+1)\n",
    "\n",
    "#syntax\n",
    "\n",
    "for iteratable_variable in range():\n",
    "    statement/task\n",
    "    \n",
    "    \n",
    "#while loop\n",
    "\n",
    "#syntax\n",
    "\n",
    "iteratable_variable=initialize\n",
    "while(condition):\n",
    "    task/statement\n",
    "    increment/decrement"
   ]
  },
  {
   "cell_type": "code",
   "execution_count": 83,
   "id": "8da33e60",
   "metadata": {},
   "outputs": [
    {
     "name": "stdout",
     "output_type": "stream",
     "text": [
      "0\n",
      "1\n",
      "2\n",
      "3\n",
      "4\n",
      "5\n"
     ]
    }
   ],
   "source": [
    "for x in range(0,6):\n",
    "    print(x)"
   ]
  },
  {
   "cell_type": "code",
   "execution_count": 84,
   "id": "35c7517b",
   "metadata": {},
   "outputs": [
    {
     "name": "stdout",
     "output_type": "stream",
     "text": [
      "1\n",
      "7\n",
      "4\n",
      "6\n"
     ]
    }
   ],
   "source": [
    "l=[1,7,4,6]\n",
    "for i in l:\n",
    "    print(i)"
   ]
  },
  {
   "cell_type": "code",
   "execution_count": 87,
   "id": "88cce3a6",
   "metadata": {},
   "outputs": [
    {
     "name": "stdout",
     "output_type": "stream",
     "text": [
      "Python 1\n",
      "Python 3\n",
      "Python 5\n",
      "Python 7\n"
     ]
    }
   ],
   "source": [
    "i=1\n",
    "while (i<=8):\n",
    "    print(\"Python\",i)\n",
    "    i=i+2"
   ]
  },
  {
   "cell_type": "code",
   "execution_count": null,
   "id": "8a4ebc08",
   "metadata": {},
   "outputs": [],
   "source": []
  }
 ],
 "metadata": {
  "kernelspec": {
   "display_name": "Python 3 (ipykernel)",
   "language": "python",
   "name": "python3"
  },
  "language_info": {
   "codemirror_mode": {
    "name": "ipython",
    "version": 3
   },
   "file_extension": ".py",
   "mimetype": "text/x-python",
   "name": "python",
   "nbconvert_exporter": "python",
   "pygments_lexer": "ipython3",
   "version": "3.9.12"
  }
 },
 "nbformat": 4,
 "nbformat_minor": 5
}
