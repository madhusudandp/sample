{
 "cells": [
  {
   "cell_type": "markdown",
   "id": "8f863666",
   "metadata": {},
   "source": [
    "# OOPs-object oriented programming"
   ]
  },
  {
   "cell_type": "raw",
   "id": "851d8f0c",
   "metadata": {},
   "source": [
    "    It is a concept/skills/model/approach \n",
    "->oops is completely based on class and object\n",
    "4 pillers of the oops\n",
    "-->Encapsulation\n",
    "-->Inheritance\n",
    "-->Polymorphism\n",
    "-->Abstraction"
   ]
  },
  {
   "cell_type": "raw",
   "id": "f1ef0bc4",
   "metadata": {},
   "source": [
    "class--->class is a blueprint/sketch  of the entire program\n",
    "------->Inside the class we can able to create variables, functions, and constructor\n",
    "------->Class is a non real existance\n",
    "\n",
    "object-->instance of class that can be used to used to access methods and attributes.\n",
    "-------->It has a real life existance"
   ]
  },
  {
   "cell_type": "raw",
   "id": "c96d6e6a",
   "metadata": {},
   "source": [
    "#syntax class\n",
    "class class_name:\n",
    "    body of class\n",
    "    \n",
    "#syntax of object\n",
    "object_name=class_name()"
   ]
  },
  {
   "cell_type": "code",
   "execution_count": 1,
   "id": "91362371",
   "metadata": {},
   "outputs": [],
   "source": [
    "class demo:\n",
    "    a=200"
   ]
  },
  {
   "cell_type": "code",
   "execution_count": 2,
   "id": "dbd12268",
   "metadata": {},
   "outputs": [],
   "source": [
    "obj=demo()"
   ]
  },
  {
   "cell_type": "code",
   "execution_count": 3,
   "id": "dbb2a859",
   "metadata": {},
   "outputs": [
    {
     "data": {
      "text/plain": [
       "200"
      ]
     },
     "execution_count": 3,
     "metadata": {},
     "output_type": "execute_result"
    }
   ],
   "source": [
    "obj.a"
   ]
  },
  {
   "cell_type": "code",
   "execution_count": 4,
   "id": "082147d0",
   "metadata": {},
   "outputs": [
    {
     "name": "stdout",
     "output_type": "stream",
     "text": [
      "45\n"
     ]
    }
   ],
   "source": [
    "b=45\n",
    "print(b)"
   ]
  },
  {
   "cell_type": "code",
   "execution_count": 5,
   "id": "77de95c4",
   "metadata": {},
   "outputs": [
    {
     "name": "stdout",
     "output_type": "stream",
     "text": [
      "45\n"
     ]
    }
   ],
   "source": [
    "print(b)"
   ]
  },
  {
   "cell_type": "code",
   "execution_count": 7,
   "id": "b397b3a0",
   "metadata": {},
   "outputs": [
    {
     "ename": "NameError",
     "evalue": "name 'a' is not defined",
     "output_type": "error",
     "traceback": [
      "\u001b[1;31m---------------------------------------------------------------------------\u001b[0m",
      "\u001b[1;31mNameError\u001b[0m                                 Traceback (most recent call last)",
      "Input \u001b[1;32mIn [7]\u001b[0m, in \u001b[0;36m<cell line: 1>\u001b[1;34m()\u001b[0m\n\u001b[1;32m----> 1\u001b[0m \u001b[38;5;28mprint\u001b[39m(\u001b[43ma\u001b[49m)\n",
      "\u001b[1;31mNameError\u001b[0m: name 'a' is not defined"
     ]
    }
   ],
   "source": [
    "print(a)"
   ]
  },
  {
   "cell_type": "code",
   "execution_count": 15,
   "id": "e4d3a867",
   "metadata": {},
   "outputs": [],
   "source": [
    "class abc:\n",
    "    s=10\n",
    "    j=20\n",
    "    a=10"
   ]
  },
  {
   "cell_type": "code",
   "execution_count": 16,
   "id": "c0534c75",
   "metadata": {},
   "outputs": [
    {
     "data": {
      "text/plain": [
       "(20, 10)"
      ]
     },
     "execution_count": 16,
     "metadata": {},
     "output_type": "execute_result"
    }
   ],
   "source": [
    "ob=abc()\n",
    "ob.j,ob.s"
   ]
  },
  {
   "cell_type": "code",
   "execution_count": 17,
   "id": "cfcede40",
   "metadata": {},
   "outputs": [
    {
     "data": {
      "text/plain": [
       "10"
      ]
     },
     "execution_count": 17,
     "metadata": {},
     "output_type": "execute_result"
    }
   ],
   "source": [
    "ob.a"
   ]
  },
  {
   "cell_type": "raw",
   "id": "58c1f733",
   "metadata": {},
   "source": [
    "#function\n",
    "-->function is small piece of code to perform some particular specific task\n",
    "-->Reusability\n",
    "\n",
    "#syntax\n",
    "\n",
    "def function_name(parameters/arguments):   #creating the function\n",
    "    body of function/task\n",
    "    \n",
    "function_name(values of parameters)        #calling the function"
   ]
  },
  {
   "cell_type": "code",
   "execution_count": 20,
   "id": "5cf1e6b8",
   "metadata": {},
   "outputs": [],
   "source": [
    "def addition(x,y,z,h):\n",
    "    print(x+y+z)"
   ]
  },
  {
   "cell_type": "code",
   "execution_count": 21,
   "id": "737a6a12",
   "metadata": {},
   "outputs": [
    {
     "name": "stdout",
     "output_type": "stream",
     "text": [
      "15\n"
     ]
    }
   ],
   "source": [
    "addition(4,8,3,2)"
   ]
  },
  {
   "cell_type": "code",
   "execution_count": 22,
   "id": "d66ed820",
   "metadata": {},
   "outputs": [
    {
     "name": "stdout",
     "output_type": "stream",
     "text": [
      "13\n"
     ]
    }
   ],
   "source": [
    "addition(5,6,2,3)"
   ]
  },
  {
   "cell_type": "code",
   "execution_count": 27,
   "id": "20451fd8",
   "metadata": {},
   "outputs": [
    {
     "name": "stdout",
     "output_type": "stream",
     "text": [
      "enter a:6\n",
      "enter b:3\n"
     ]
    }
   ],
   "source": [
    "a=int(input(\"enter a:\"))\n",
    "b=int(input(\"enter b:\"))\n",
    "def multiplication(a,b):\n",
    "    print(a*b,a+b)"
   ]
  },
  {
   "cell_type": "code",
   "execution_count": 28,
   "id": "b7b194d7",
   "metadata": {},
   "outputs": [
    {
     "name": "stdout",
     "output_type": "stream",
     "text": [
      "18 9\n"
     ]
    }
   ],
   "source": [
    "multiplication(a,b)"
   ]
  },
  {
   "cell_type": "code",
   "execution_count": 40,
   "id": "c774b7d2",
   "metadata": {},
   "outputs": [],
   "source": [
    "def demo1(a):\n",
    "    a=int(input(\"enter a:\"))  #\n",
    "    print(a)\n",
    "def demo2(a,y):\n",
    "    print(a-y)"
   ]
  },
  {
   "cell_type": "code",
   "execution_count": 43,
   "id": "59653817",
   "metadata": {},
   "outputs": [
    {
     "name": "stdout",
     "output_type": "stream",
     "text": [
      "enter a:7\n",
      "7\n"
     ]
    }
   ],
   "source": [
    "demo1(a)"
   ]
  },
  {
   "cell_type": "code",
   "execution_count": 44,
   "id": "06a3ed94",
   "metadata": {},
   "outputs": [
    {
     "name": "stdout",
     "output_type": "stream",
     "text": [
      "3\n"
     ]
    }
   ],
   "source": [
    "demo2(6,3)"
   ]
  },
  {
   "cell_type": "code",
   "execution_count": 1,
   "id": "1920e4c2",
   "metadata": {},
   "outputs": [
    {
     "name": "stdout",
     "output_type": "stream",
     "text": [
      "enter a:5\n",
      "enter b:3\n"
     ]
    }
   ],
   "source": [
    "a=int(input(\"enter a:\"))\n",
    "b=int(input(\"enter b:\"))\n",
    "def demo3(a,b):\n",
    "    print(a+b)\n",
    "def demo4(a,b):\n",
    "    print(a-b)"
   ]
  },
  {
   "cell_type": "code",
   "execution_count": 2,
   "id": "2373ef89",
   "metadata": {},
   "outputs": [
    {
     "name": "stdout",
     "output_type": "stream",
     "text": [
      "8\n"
     ]
    }
   ],
   "source": [
    "demo3(a,b)"
   ]
  },
  {
   "cell_type": "code",
   "execution_count": 3,
   "id": "c7f1a244",
   "metadata": {},
   "outputs": [
    {
     "name": "stdout",
     "output_type": "stream",
     "text": [
      "2\n"
     ]
    }
   ],
   "source": [
    "demo4(a,b)"
   ]
  },
  {
   "cell_type": "code",
   "execution_count": 4,
   "id": "4eb9f2f8",
   "metadata": {},
   "outputs": [],
   "source": [
    "class python:\n",
    "    def demo3(self,a,b):\n",
    "        print(a+b)"
   ]
  },
  {
   "cell_type": "code",
   "execution_count": 5,
   "id": "8426fa00",
   "metadata": {},
   "outputs": [],
   "source": [
    "obj2=python()"
   ]
  },
  {
   "cell_type": "code",
   "execution_count": 6,
   "id": "2bdb765e",
   "metadata": {},
   "outputs": [
    {
     "name": "stdout",
     "output_type": "stream",
     "text": [
      "5\n"
     ]
    }
   ],
   "source": [
    "obj2.demo3(1,4)"
   ]
  },
  {
   "cell_type": "raw",
   "id": "bc8e816c",
   "metadata": {},
   "source": [
    "self--->self is  a special parameter it gives the reference to the current instance of the class\n",
    "----->It is used to access the function/method belongs to the class\n",
    "----->for the self parameter we are not passing any value while calling the method"
   ]
  },
  {
   "cell_type": "code",
   "execution_count": 7,
   "id": "d682a1fd",
   "metadata": {},
   "outputs": [],
   "source": [
    "class intellipaat:\n",
    "    def fun1(Divya):\n",
    "        print(\"Python is a programming language\")"
   ]
  },
  {
   "cell_type": "code",
   "execution_count": 8,
   "id": "92d91cae",
   "metadata": {},
   "outputs": [
    {
     "name": "stdout",
     "output_type": "stream",
     "text": [
      "Python is a programming language\n"
     ]
    }
   ],
   "source": [
    "ob1=intellipaat()\n",
    "ob1.fun1()"
   ]
  },
  {
   "cell_type": "markdown",
   "id": "208705ee",
   "metadata": {},
   "source": [
    "# constructor"
   ]
  },
  {
   "cell_type": "raw",
   "id": "78198620",
   "metadata": {},
   "source": [
    "-->Constructor/init method its a special method which get called automatically when we create the object\n",
    "-->The other name of the constructor is __init__\n",
    "\n",
    "\n",
    "#syntax\n",
    "\n",
    "class class_name:\n",
    "    def __init__(parameters):\n",
    "        task/body of function\n",
    "\n",
    "obj_name=class_name()"
   ]
  },
  {
   "cell_type": "code",
   "execution_count": 9,
   "id": "41083726",
   "metadata": {},
   "outputs": [],
   "source": [
    "class Details:\n",
    "    def __init__(self):\n",
    "        print(\"Python\")"
   ]
  },
  {
   "cell_type": "code",
   "execution_count": 10,
   "id": "ff123b75",
   "metadata": {},
   "outputs": [
    {
     "name": "stdout",
     "output_type": "stream",
     "text": [
      "Python\n"
     ]
    }
   ],
   "source": [
    "obj=Details()"
   ]
  },
  {
   "cell_type": "code",
   "execution_count": 11,
   "id": "660ae158",
   "metadata": {},
   "outputs": [],
   "source": [
    "class display:\n",
    "    def __init__(self,fname,lname):\n",
    "        print(\"First name is:\",fname)\n",
    "        print(\"Last name is:\",lname)"
   ]
  },
  {
   "cell_type": "code",
   "execution_count": 12,
   "id": "29a9ad45",
   "metadata": {},
   "outputs": [
    {
     "name": "stdout",
     "output_type": "stream",
     "text": [
      "First name is: rahul\n",
      "Last name is: dravid\n"
     ]
    }
   ],
   "source": [
    "obj=display('rahul','dravid')"
   ]
  },
  {
   "cell_type": "code",
   "execution_count": 13,
   "id": "faaf3536",
   "metadata": {},
   "outputs": [
    {
     "name": "stdout",
     "output_type": "stream",
     "text": [
      "enter the first name:pooja\n",
      "enter the last name:gowda\n"
     ]
    }
   ],
   "source": [
    "fname=input(\"enter the first name:\")\n",
    "lname=input(\"enter the last name:\")\n",
    "class display:\n",
    "    def __init__(self,fname,lname):\n",
    "        print(\"First name is:\",fname)\n",
    "        print(\"Last name is:\",lname)"
   ]
  },
  {
   "cell_type": "code",
   "execution_count": 14,
   "id": "aa371308",
   "metadata": {},
   "outputs": [
    {
     "name": "stdout",
     "output_type": "stream",
     "text": [
      "First name is: pooja\n",
      "Last name is: gowda\n"
     ]
    }
   ],
   "source": [
    "obj=display(fname,lname)"
   ]
  },
  {
   "cell_type": "code",
   "execution_count": 20,
   "id": "ac735c24",
   "metadata": {},
   "outputs": [],
   "source": [
    "class demo:\n",
    "    def __init__(self,a):\n",
    "        a=float(input(\"enter value of a:\"))\n",
    "        print(a)\n",
    "    def __init__(self,x,y):\n",
    "        print(\"Python supports oops concept\")"
   ]
  },
  {
   "cell_type": "code",
   "execution_count": 21,
   "id": "29693a1a",
   "metadata": {},
   "outputs": [
    {
     "name": "stdout",
     "output_type": "stream",
     "text": [
      "Python supports oops concept\n"
     ]
    }
   ],
   "source": [
    "obj=demo(3,5)"
   ]
  },
  {
   "cell_type": "markdown",
   "id": "a0ccec10",
   "metadata": {},
   "source": [
    "# Inheritance"
   ]
  },
  {
   "cell_type": "raw",
   "id": "b9407573",
   "metadata": {},
   "source": [
    "It is capability of inheriting the properties and behaviour from once class to another class\n",
    "class1----------------------->Parent/Base/Super\n",
    "class2(Inhertited class)----->child/derived/sub"
   ]
  },
  {
   "cell_type": "raw",
   "id": "1727354b",
   "metadata": {},
   "source": [
    "Type of inheritance\n",
    "\n",
    "->single\n",
    "->multiple\n",
    "->multilevel\n",
    "->hierachical\n",
    "->Hybrid"
   ]
  },
  {
   "cell_type": "raw",
   "id": "05bb4e1f",
   "metadata": {},
   "source": [
    "#single inheritance\n",
    "\n",
    "class class_name1:\n",
    "    body of the class1\n",
    "class class_name2(class_name1):\n",
    "    body of the class2"
   ]
  },
  {
   "cell_type": "code",
   "execution_count": 1,
   "id": "678c4934",
   "metadata": {},
   "outputs": [],
   "source": [
    "class Parent:\n",
    "    def fun1(self):\n",
    "        print(\"Mohan\")\n",
    "class child(Parent):\n",
    "    def fun2(self):\n",
    "        print(\"Kavya\")"
   ]
  },
  {
   "cell_type": "code",
   "execution_count": 2,
   "id": "025896fd",
   "metadata": {},
   "outputs": [],
   "source": [
    "obj1=child()"
   ]
  },
  {
   "cell_type": "code",
   "execution_count": 3,
   "id": "23773bd7",
   "metadata": {},
   "outputs": [
    {
     "name": "stdout",
     "output_type": "stream",
     "text": [
      "Kavya\n"
     ]
    }
   ],
   "source": [
    "obj1.fun2()"
   ]
  },
  {
   "cell_type": "code",
   "execution_count": 4,
   "id": "6b685633",
   "metadata": {},
   "outputs": [
    {
     "name": "stdout",
     "output_type": "stream",
     "text": [
      "Mohan\n"
     ]
    }
   ],
   "source": [
    "obj1.fun1()"
   ]
  },
  {
   "cell_type": "code",
   "execution_count": 5,
   "id": "21611124",
   "metadata": {},
   "outputs": [],
   "source": [
    "#MULTIPLE INHERITANCE----->More than one parent class and only one child class\n",
    "\n",
    "class class_name1:\n",
    "    body of the class1\n",
    "class class_name2:\n",
    "    body of the class2\n",
    "class class_name3(class_name1,class_name2):\n",
    "    body of the class3\n"
   ]
  },
  {
   "cell_type": "code",
   "execution_count": 6,
   "id": "f13bf296",
   "metadata": {},
   "outputs": [],
   "source": [
    "class Parent1:\n",
    "    def fun1(self):\n",
    "        print(\"Ee Sala\")\n",
    "\n",
    "class Parent2:\n",
    "    def fun2(self):\n",
    "        print(\"Cup Namde\")\n",
    "\n",
    "class Child(Parent1, Parent2):\n",
    "    def fun3(self):\n",
    "        print(\"?\")\n",
    "\n",
    "\n"
   ]
  },
  {
   "cell_type": "code",
   "execution_count": 7,
   "id": "5e28a4c9",
   "metadata": {},
   "outputs": [],
   "source": [
    "obj=Child()"
   ]
  },
  {
   "cell_type": "code",
   "execution_count": 8,
   "id": "d29d8301",
   "metadata": {},
   "outputs": [
    {
     "name": "stdout",
     "output_type": "stream",
     "text": [
      "Ee Sala\n",
      "Cup Namde\n",
      "?\n"
     ]
    }
   ],
   "source": [
    "obj.fun1()\n",
    "obj.fun2()\n",
    "obj.fun3()"
   ]
  },
  {
   "cell_type": "code",
   "execution_count": 9,
   "id": "565b0994",
   "metadata": {},
   "outputs": [],
   "source": [
    "class phone:\n",
    "    def brand(self):\n",
    "        print(\"IPHONE\")\n",
    "class phone2:\n",
    "    def model(self):\n",
    "        print(\"15\")\n",
    "class phone3(phone,phone2):\n",
    "    def price(self):\n",
    "        self.brand()   #calling the parent function1\n",
    "        self.model()   #calling the parent function2\n",
    "        print(\"80,000\")\n"
   ]
  },
  {
   "cell_type": "code",
   "execution_count": 10,
   "id": "11c5eddb",
   "metadata": {},
   "outputs": [],
   "source": [
    "obj=phone3()"
   ]
  },
  {
   "cell_type": "code",
   "execution_count": 11,
   "id": "1c02f1a2",
   "metadata": {},
   "outputs": [
    {
     "name": "stdout",
     "output_type": "stream",
     "text": [
      "IPHONE\n",
      "15\n",
      "80,000\n"
     ]
    }
   ],
   "source": [
    "obj.price()"
   ]
  },
  {
   "cell_type": "code",
   "execution_count": 16,
   "id": "b553d506",
   "metadata": {},
   "outputs": [
    {
     "name": "stdout",
     "output_type": "stream",
     "text": [
      "orange\n"
     ]
    }
   ],
   "source": [
    "class A:\n",
    "    a=100\n",
    "    def apple(self):\n",
    "        print(\"fruit 1\")\n",
    "class B:\n",
    "    def mango(self):\n",
    "        self.a\n",
    "        print(\"Fruit 2\")\n",
    "class C(A,B):\n",
    "    a=10\n",
    "    print(\"orange\")"
   ]
  },
  {
   "cell_type": "code",
   "execution_count": 17,
   "id": "35d39db5",
   "metadata": {},
   "outputs": [],
   "source": [
    "obj=C()"
   ]
  },
  {
   "cell_type": "code",
   "execution_count": 18,
   "id": "cb0ddf22",
   "metadata": {},
   "outputs": [
    {
     "name": "stdout",
     "output_type": "stream",
     "text": [
      "fruit 1\n",
      "Fruit 2\n"
     ]
    }
   ],
   "source": [
    "obj.apple()\n",
    "obj.mango()"
   ]
  },
  {
   "cell_type": "code",
   "execution_count": 19,
   "id": "3fe53ccc",
   "metadata": {},
   "outputs": [
    {
     "data": {
      "text/plain": [
       "10"
      ]
     },
     "execution_count": 19,
     "metadata": {},
     "output_type": "execute_result"
    }
   ],
   "source": [
    "obj.a"
   ]
  },
  {
   "cell_type": "raw",
   "id": "9b5ab535",
   "metadata": {},
   "source": [
    "#MULTILEVEL INHERITANCE-------------->grandparent----->parent---->child\n",
    "\n",
    "class class_name1:\n",
    "    body of the class1\n",
    "class class_name2(class_name1):\n",
    "    body of the class2\n",
    "class class_name3(class_name2):\n",
    "    body of the class3\n"
   ]
  },
  {
   "cell_type": "code",
   "execution_count": 22,
   "id": "686e708f",
   "metadata": {},
   "outputs": [],
   "source": [
    "class Company1:\n",
    "    def product(self):\n",
    "         print(\"Mobile phones\")\n",
    "    def product1(self):\n",
    "         print(\"Television\")\n",
    "class Company2(Company1):\n",
    "    def product3(self):\n",
    "         print(\"Wireless headphone\")\n",
    "\n",
    "class Vendor(Company2):\n",
    "     def store(self):\n",
    "        print (\"Store-name is Gada Electronics\")\n",
    "\n",
    "\n",
    "obj=Vendor()\n"
   ]
  },
  {
   "cell_type": "code",
   "execution_count": 23,
   "id": "2dc57a4b",
   "metadata": {},
   "outputs": [
    {
     "name": "stdout",
     "output_type": "stream",
     "text": [
      "Mobile phones\n",
      "Television\n",
      "Wireless headphone\n",
      "Store-name is Gada Electronics\n"
     ]
    }
   ],
   "source": [
    "obj.product()\n",
    "obj.product1()\n",
    "obj.product3()\n",
    "obj.store()"
   ]
  },
  {
   "cell_type": "code",
   "execution_count": 24,
   "id": "23ea1edc",
   "metadata": {},
   "outputs": [],
   "source": [
    "#HIERARCHICAL INHERITANCE--------------->single parent class----->multiple child class"
   ]
  },
  {
   "cell_type": "raw",
   "id": "9a1edf46",
   "metadata": {},
   "source": [
    "class class_name1:   #parent\n",
    "    body of the class1\n",
    "class class_name2(class_name1):   #child1\n",
    "    body of the class2\n",
    "class class_name3(class_name1):   #child2\n",
    "    body of the class3\n",
    "class class_name4(class_name1):    #child3\n",
    "    body of the class4"
   ]
  },
  {
   "cell_type": "code",
   "execution_count": 25,
   "id": "59184b63",
   "metadata": {},
   "outputs": [],
   "source": [
    "class Parent:\n",
    "    def func1(self):\n",
    "        print(\"this is function 1\")\n",
    "class Child(Parent):\n",
    "    def func2(self):\n",
    "        print(\"this is function 2\")\n",
    "class Child2(Parent):\n",
    "    def func3(self):\n",
    "        print(\"this is function 3\")\n"
   ]
  },
  {
   "cell_type": "code",
   "execution_count": 26,
   "id": "2e5dcd6e",
   "metadata": {},
   "outputs": [],
   "source": [
    "obj=Child()"
   ]
  },
  {
   "cell_type": "code",
   "execution_count": 27,
   "id": "f5c127d0",
   "metadata": {},
   "outputs": [
    {
     "name": "stdout",
     "output_type": "stream",
     "text": [
      "this is function 1\n",
      "this is function 2\n"
     ]
    }
   ],
   "source": [
    "obj.func1()\n",
    "obj.func2()"
   ]
  },
  {
   "cell_type": "code",
   "execution_count": 28,
   "id": "4c8370e8",
   "metadata": {},
   "outputs": [
    {
     "ename": "AttributeError",
     "evalue": "'Child' object has no attribute 'func3'",
     "output_type": "error",
     "traceback": [
      "\u001b[1;31m---------------------------------------------------------------------------\u001b[0m",
      "\u001b[1;31mAttributeError\u001b[0m                            Traceback (most recent call last)",
      "Input \u001b[1;32mIn [28]\u001b[0m, in \u001b[0;36m<cell line: 1>\u001b[1;34m()\u001b[0m\n\u001b[1;32m----> 1\u001b[0m \u001b[43mobj\u001b[49m\u001b[38;5;241;43m.\u001b[39;49m\u001b[43mfunc3\u001b[49m()\n",
      "\u001b[1;31mAttributeError\u001b[0m: 'Child' object has no attribute 'func3'"
     ]
    }
   ],
   "source": [
    "obj.func3()"
   ]
  },
  {
   "cell_type": "code",
   "execution_count": 30,
   "id": "8f17eea5",
   "metadata": {},
   "outputs": [
    {
     "name": "stdout",
     "output_type": "stream",
     "text": [
      "this is function 1\n",
      "this is function 3\n"
     ]
    }
   ],
   "source": [
    "obj2=Child2()\n",
    "obj2.func1()\n",
    "obj2.func3()"
   ]
  },
  {
   "cell_type": "code",
   "execution_count": null,
   "id": "2fb1610b",
   "metadata": {},
   "outputs": [],
   "source": [
    "#HYBRID INHERITANCE--------->Combination of any two types of inheritance"
   ]
  },
  {
   "cell_type": "code",
   "execution_count": null,
   "id": "63005887",
   "metadata": {},
   "outputs": [],
   "source": [
    "Multiple------------>parent1----->parent2---->child\n",
    "Multilevel-------->grandparent--->parent----->child"
   ]
  },
  {
   "cell_type": "code",
   "execution_count": 31,
   "id": "7478dee8",
   "metadata": {},
   "outputs": [],
   "source": [
    "class GP:\n",
    "    def fun1(self,g):\n",
    "        print(g)\n",
    "class P1:\n",
    "    def fun2(self,p1):\n",
    "        print(p1)\n",
    "class P2(GP):\n",
    "    def fun3(self,p2):\n",
    "        print(p2)\n",
    "class C(P1,P2):\n",
    "    def fun4(self,c):\n",
    "        print(c)"
   ]
  },
  {
   "cell_type": "code",
   "execution_count": 32,
   "id": "c321accc",
   "metadata": {},
   "outputs": [],
   "source": [
    "obj=C()"
   ]
  },
  {
   "cell_type": "code",
   "execution_count": 33,
   "id": "68dece6f",
   "metadata": {},
   "outputs": [
    {
     "name": "stdout",
     "output_type": "stream",
     "text": [
      "90\n",
      "45\n",
      "35\n",
      "20\n"
     ]
    }
   ],
   "source": [
    "obj.fun1(90)\n",
    "obj.fun2(45)\n",
    "obj.fun3(35)\n",
    "obj.fun4(20)"
   ]
  },
  {
   "cell_type": "code",
   "execution_count": 1,
   "id": "6689e74f",
   "metadata": {},
   "outputs": [
    {
     "ename": "SyntaxError",
     "evalue": "invalid syntax (2002821578.py, line 1)",
     "output_type": "error",
     "traceback": [
      "\u001b[1;36m  Input \u001b[1;32mIn [1]\u001b[1;36m\u001b[0m\n\u001b[1;33m    Class MyClass:\u001b[0m\n\u001b[1;37m          ^\u001b[0m\n\u001b[1;31mSyntaxError\u001b[0m\u001b[1;31m:\u001b[0m invalid syntax\n"
     ]
    }
   ],
   "source": [
    "Class MyClass:\n",
    "x = 10\n",
    "obj = MyClass()\n",
    "print(x)"
   ]
  },
  {
   "cell_type": "code",
   "execution_count": 3,
   "id": "53f23083",
   "metadata": {},
   "outputs": [
    {
     "name": "stdout",
     "output_type": "stream",
     "text": [
      "66\n"
     ]
    }
   ],
   "source": [
    "class myClass:\n",
    "    x = 10\n",
    "    y = 20\n",
    "obj = myClass()\n",
    "res = obj.x * obj.y//3\n",
    "print(res)"
   ]
  },
  {
   "cell_type": "code",
   "execution_count": 5,
   "id": "46ad7924",
   "metadata": {},
   "outputs": [
    {
     "ename": "NameError",
     "evalue": "name 'Myclass' is not defined",
     "output_type": "error",
     "traceback": [
      "\u001b[1;31m---------------------------------------------------------------------------\u001b[0m",
      "\u001b[1;31mNameError\u001b[0m                                 Traceback (most recent call last)",
      "Input \u001b[1;32mIn [5]\u001b[0m, in \u001b[0;36m<cell line: 3>\u001b[1;34m()\u001b[0m\n\u001b[0;32m      1\u001b[0m \u001b[38;5;28;01mclass\u001b[39;00m \u001b[38;5;21;01mMyClass\u001b[39;00m:\n\u001b[0;32m      2\u001b[0m     x \u001b[38;5;241m=\u001b[39m \u001b[38;5;241m5\u001b[39m\n\u001b[1;32m----> 3\u001b[0m obj \u001b[38;5;241m=\u001b[39m \u001b[43mMyclass\u001b[49m()\n\u001b[0;32m      4\u001b[0m \u001b[38;5;28mprint\u001b[39m(obj\u001b[38;5;241m.\u001b[39mx)\n",
      "\u001b[1;31mNameError\u001b[0m: name 'Myclass' is not defined"
     ]
    }
   ],
   "source": [
    "class MyClass:\n",
    "    x = 5\n",
    "obj = Myclass()\n",
    "print(obj.x)"
   ]
  },
  {
   "cell_type": "code",
   "execution_count": 11,
   "id": "d36dccea",
   "metadata": {},
   "outputs": [
    {
     "ename": "IndentationError",
     "evalue": "expected an indented block (3046723384.py, line 2)",
     "output_type": "error",
     "traceback": [
      "\u001b[1;36m  Input \u001b[1;32mIn [11]\u001b[1;36m\u001b[0m\n\u001b[1;33m    def __init__(self, fname, lname):\u001b[0m\n\u001b[1;37m    ^\u001b[0m\n\u001b[1;31mIndentationError\u001b[0m\u001b[1;31m:\u001b[0m expected an indented block\n"
     ]
    }
   ],
   "source": [
    "class Names:\n",
    "def __init__(self, fname, lname):\n",
    "    self.fname = fname\n",
    "    self.lname = lname\n",
    "def display(self):\n",
    "    self.fname = self.fname.upper()\n",
    "    self.lname = self.lname.lower()\n",
    "print(self.fname, self.lname)\n",
    "     obj = Names('python', 'PROgramming')\n",
    "     obj.display()"
   ]
  },
  {
   "cell_type": "code",
   "execution_count": 14,
   "id": "1e6d511e",
   "metadata": {},
   "outputs": [
    {
     "ename": "IndentationError",
     "evalue": "expected an indented block (1603189409.py, line 2)",
     "output_type": "error",
     "traceback": [
      "\u001b[1;36m  Input \u001b[1;32mIn [14]\u001b[1;36m\u001b[0m\n\u001b[1;33m    def __init__(self):\u001b[0m\n\u001b[1;37m    ^\u001b[0m\n\u001b[1;31mIndentationError\u001b[0m\u001b[1;31m:\u001b[0m expected an indented block\n"
     ]
    }
   ],
   "source": [
    "class School:\n",
    "def __init__(self):\n",
    "    self.school = \"ABC\"\n",
    "    self.classes = \"9th Grade\"\n",
    "def display(self):\n",
    "print(self.school, self.classes)\n",
    "class Student(School):\n",
    "def __init__(self, fname, lname):\n",
    "self.fname = fname\n",
    "self.lname = lname\n",
    "School.__init__(self)\n",
    "def display(self):\n",
    "print(self.fname, self.lname, self.school, self.classes)\n",
    "obj = Student(\"Mary\", \"Jane\")\n",
    "obj.display()"
   ]
  },
  {
   "cell_type": "code",
   "execution_count": 15,
   "id": "cc3707de",
   "metadata": {},
   "outputs": [
    {
     "ename": "IndentationError",
     "evalue": "expected an indented block (4021825478.py, line 3)",
     "output_type": "error",
     "traceback": [
      "\u001b[1;36m  Input \u001b[1;32mIn [15]\u001b[1;36m\u001b[0m\n\u001b[1;33m    def miles():\u001b[0m\n\u001b[1;37m    ^\u001b[0m\n\u001b[1;31mIndentationError\u001b[0m\u001b[1;31m:\u001b[0m expected an indented block\n"
     ]
    }
   ],
   "source": [
    "from abc import ABC\n",
    "class CAR(ABC):\n",
    "def miles():\n",
    "pass\n",
    "class Sedan(CAR):\n",
    "def miles(self):\n",
    "print(\"50 miles\")\n",
    "class Hatch(CAR):\n",
    "def miles(self):\n",
    "print(\"100 Miles\")\n",
    "obj = Hatch()\n",
    "obj2 = Sedan()\n",
    "obj.miles()"
   ]
  },
  {
   "cell_type": "code",
   "execution_count": 16,
   "id": "56f29e77",
   "metadata": {},
   "outputs": [],
   "source": [
    "pi_string = \"3.1415926\"\n"
   ]
  },
  {
   "cell_type": "code",
   "execution_count": 19,
   "id": "5742fdc5",
   "metadata": {},
   "outputs": [
    {
     "data": {
      "text/plain": [
       "str"
      ]
     },
     "execution_count": 19,
     "metadata": {},
     "output_type": "execute_result"
    }
   ],
   "source": [
    "type(pi_string)"
   ]
  },
  {
   "cell_type": "code",
   "execution_count": 17,
   "id": "e581fa0a",
   "metadata": {},
   "outputs": [],
   "source": [
    "pi_float = float(pi_string)"
   ]
  },
  {
   "cell_type": "code",
   "execution_count": 20,
   "id": "833216dc",
   "metadata": {},
   "outputs": [
    {
     "data": {
      "text/plain": [
       "float"
      ]
     },
     "execution_count": 20,
     "metadata": {},
     "output_type": "execute_result"
    }
   ],
   "source": [
    "type(pi_float)"
   ]
  },
  {
   "cell_type": "code",
   "execution_count": 21,
   "id": "10fbfd4a",
   "metadata": {},
   "outputs": [
    {
     "ename": "NameError",
     "evalue": "name 'date' is not defined",
     "output_type": "error",
     "traceback": [
      "\u001b[1;31m---------------------------------------------------------------------------\u001b[0m",
      "\u001b[1;31mNameError\u001b[0m                                 Traceback (most recent call last)",
      "Input \u001b[1;32mIn [21]\u001b[0m, in \u001b[0;36m<cell line: 1>\u001b[1;34m()\u001b[0m\n\u001b[1;32m----> 1\u001b[0m \u001b[43mdate\u001b[49m\u001b[38;5;241m+\u001b[39m\u001b[38;5;241m75\u001b[39m\n",
      "\u001b[1;31mNameError\u001b[0m: name 'date' is not defined"
     ]
    }
   ],
   "source": [
    "date+75"
   ]
  },
  {
   "cell_type": "code",
   "execution_count": 18,
   "id": "f06e0498",
   "metadata": {},
   "outputs": [
    {
     "name": "stdout",
     "output_type": "stream",
     "text": [
      "3.1415926\n"
     ]
    }
   ],
   "source": [
    "print(pi_float)"
   ]
  },
  {
   "cell_type": "code",
   "execution_count": null,
   "id": "ed22ad14",
   "metadata": {},
   "outputs": [],
   "source": [
    "from datetime import datetime, date, timedelta\n",
    ">>> today = datetime.today()\n",
    ">>> print(today + timedelta(days=1))"
   ]
  },
  {
   "cell_type": "code",
   "execution_count": 22,
   "id": "675f76b3",
   "metadata": {},
   "outputs": [],
   "source": [
    "from datetime import datetime, date, timedelta\n"
   ]
  },
  {
   "cell_type": "code",
   "execution_count": 23,
   "id": "c8f40232",
   "metadata": {},
   "outputs": [],
   "source": [
    "today = datetime.today()"
   ]
  },
  {
   "cell_type": "code",
   "execution_count": 28,
   "id": "e94ee11a",
   "metadata": {},
   "outputs": [
    {
     "name": "stdout",
     "output_type": "stream",
     "text": [
      "2023-08-17 22:19:31.262306\n"
     ]
    }
   ],
   "source": [
    "print(today + timedelta(days=75))"
   ]
  },
  {
   "cell_type": "code",
   "execution_count": 26,
   "id": "03a9c4df",
   "metadata": {},
   "outputs": [
    {
     "name": "stdout",
     "output_type": "stream",
     "text": [
      "(1, 2, 3, 4)\n"
     ]
    }
   ],
   "source": [
    "print((1, 2) + (3, 4))"
   ]
  },
  {
   "cell_type": "code",
   "execution_count": 36,
   "id": "2f821bfc",
   "metadata": {},
   "outputs": [
    {
     "name": "stdout",
     "output_type": "stream",
     "text": [
      "[2, 3, 4, 5, 6]\n"
     ]
    }
   ],
   "source": [
    "arr = [1,2,3,4,5,6]\n",
    "\n",
    "print(arr[1::1])"
   ]
  },
  {
   "cell_type": "code",
   "execution_count": 37,
   "id": "f2c57547",
   "metadata": {},
   "outputs": [
    {
     "data": {
      "text/plain": [
       "{1, 2, 3, 4}"
      ]
     },
     "execution_count": 37,
     "metadata": {},
     "output_type": "execute_result"
    }
   ],
   "source": [
    " set([1,1,2,3,4,2,3,4])"
   ]
  },
  {
   "cell_type": "code",
   "execution_count": null,
   "id": "993407da",
   "metadata": {},
   "outputs": [],
   "source": []
  },
  {
   "cell_type": "code",
   "execution_count": null,
   "id": "a7a3cb2d",
   "metadata": {},
   "outputs": [],
   "source": []
  }
 ],
 "metadata": {
  "kernelspec": {
   "display_name": "Python 3 (ipykernel)",
   "language": "python",
   "name": "python3"
  },
  "language_info": {
   "codemirror_mode": {
    "name": "ipython",
    "version": 3
   },
   "file_extension": ".py",
   "mimetype": "text/x-python",
   "name": "python",
   "nbconvert_exporter": "python",
   "pygments_lexer": "ipython3",
   "version": "3.9.12"
  }
 },
 "nbformat": 4,
 "nbformat_minor": 5
}
